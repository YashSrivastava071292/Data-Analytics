{
 "cells": [
  {
   "cell_type": "markdown",
   "id": "54a86c3f",
   "metadata": {},
   "source": [
    "Individual Assignment: Yash Srivastav \n",
    "PGID: 12010060\n",
    "\n",
    "\n",
    "\n",
    "References:\n",
    "https://towardsdatascience.com/topic-modeling-with-nlp-on-amazon-reviews-an-application-of-latent-dirichlet-allocation-lda-ae42a4c8b369\n",
    "https://www.analyticsvidhya.com/blog/2018/10/mining-online-reviews-topic-modeling-lda/\n",
    "Topic Modelling with LSA and LDA | Kaggle\n",
    "https://github.com/MaartenGr/KeyBERT\n",
    "https://towardsdatascience.com/keyword-extraction-with-bert-724efca412ea\n",
    "https://www.analyticsvidhya.com/blog/2021/06/sentiment-analysis-using-nltk-a-practical-approach/\n",
    "https://www.analyticsvidhya.com/blog/2021/06/vader-for-sentiment-analysis/#:~:text=VADER%20is%20a%20lexicon%20and,the%20other%20positive%20or%20negative\n"
   ]
  },
  {
   "cell_type": "code",
   "execution_count": 199,
   "id": "6d77f287",
   "metadata": {},
   "outputs": [
    {
     "name": "stderr",
     "output_type": "stream",
     "text": [
      "C:\\Users\\HP\\anaconda3\\lib\\site-packages\\ipykernel\\ipkernel.py:287: DeprecationWarning: `should_run_async` will not call `transform_cell` automatically in the future. Please pass the result to `transformed_cell` argument and any exception that happen during thetransform in `preprocessing_exc_tuple` in IPython 7.17 and above.\n",
      "  and should_run_async(code)\n"
     ]
    }
   ],
   "source": [
    "#import selenium\n",
    "#from selenium import webdriver as wd\n",
    "import pandas as pd\n",
    "#import time\n",
    "#from sklearn.feature_extraction.text import CountVectorizer\n",
    "#from sentence_transformers import SentenceTransformer\n",
    "#from sklearn.metrics.pairwise import cosine_similarity\n",
    "import numpy as np\n",
    "import itertools\n",
    "from keybert import KeyBERT"
   ]
  },
  {
   "cell_type": "code",
   "execution_count": 3,
   "id": "db66ff98",
   "metadata": {},
   "outputs": [
    {
     "data": {
      "text/html": [
       "\n",
       "    <div class=\"bk-root\">\n",
       "        <a href=\"https://bokeh.org\" target=\"_blank\" class=\"bk-logo bk-logo-small bk-logo-notebook\"></a>\n",
       "        <span id=\"1002\">Loading BokehJS ...</span>\n",
       "    </div>"
      ]
     },
     "metadata": {},
     "output_type": "display_data"
    },
    {
     "data": {
      "application/javascript": [
       "\n",
       "(function(root) {\n",
       "  function now() {\n",
       "    return new Date();\n",
       "  }\n",
       "\n",
       "  var force = true;\n",
       "\n",
       "  if (typeof root._bokeh_onload_callbacks === \"undefined\" || force === true) {\n",
       "    root._bokeh_onload_callbacks = [];\n",
       "    root._bokeh_is_loading = undefined;\n",
       "  }\n",
       "\n",
       "  var JS_MIME_TYPE = 'application/javascript';\n",
       "  var HTML_MIME_TYPE = 'text/html';\n",
       "  var EXEC_MIME_TYPE = 'application/vnd.bokehjs_exec.v0+json';\n",
       "  var CLASS_NAME = 'output_bokeh rendered_html';\n",
       "\n",
       "  /**\n",
       "   * Render data to the DOM node\n",
       "   */\n",
       "  function render(props, node) {\n",
       "    var script = document.createElement(\"script\");\n",
       "    node.appendChild(script);\n",
       "  }\n",
       "\n",
       "  /**\n",
       "   * Handle when an output is cleared or removed\n",
       "   */\n",
       "  function handleClearOutput(event, handle) {\n",
       "    var cell = handle.cell;\n",
       "\n",
       "    var id = cell.output_area._bokeh_element_id;\n",
       "    var server_id = cell.output_area._bokeh_server_id;\n",
       "    // Clean up Bokeh references\n",
       "    if (id != null && id in Bokeh.index) {\n",
       "      Bokeh.index[id].model.document.clear();\n",
       "      delete Bokeh.index[id];\n",
       "    }\n",
       "\n",
       "    if (server_id !== undefined) {\n",
       "      // Clean up Bokeh references\n",
       "      var cmd = \"from bokeh.io.state import curstate; print(curstate().uuid_to_server['\" + server_id + \"'].get_sessions()[0].document.roots[0]._id)\";\n",
       "      cell.notebook.kernel.execute(cmd, {\n",
       "        iopub: {\n",
       "          output: function(msg) {\n",
       "            var id = msg.content.text.trim();\n",
       "            if (id in Bokeh.index) {\n",
       "              Bokeh.index[id].model.document.clear();\n",
       "              delete Bokeh.index[id];\n",
       "            }\n",
       "          }\n",
       "        }\n",
       "      });\n",
       "      // Destroy server and session\n",
       "      var cmd = \"import bokeh.io.notebook as ion; ion.destroy_server('\" + server_id + \"')\";\n",
       "      cell.notebook.kernel.execute(cmd);\n",
       "    }\n",
       "  }\n",
       "\n",
       "  /**\n",
       "   * Handle when a new output is added\n",
       "   */\n",
       "  function handleAddOutput(event, handle) {\n",
       "    var output_area = handle.output_area;\n",
       "    var output = handle.output;\n",
       "\n",
       "    // limit handleAddOutput to display_data with EXEC_MIME_TYPE content only\n",
       "    if ((output.output_type != \"display_data\") || (!Object.prototype.hasOwnProperty.call(output.data, EXEC_MIME_TYPE))) {\n",
       "      return\n",
       "    }\n",
       "\n",
       "    var toinsert = output_area.element.find(\".\" + CLASS_NAME.split(' ')[0]);\n",
       "\n",
       "    if (output.metadata[EXEC_MIME_TYPE][\"id\"] !== undefined) {\n",
       "      toinsert[toinsert.length - 1].firstChild.textContent = output.data[JS_MIME_TYPE];\n",
       "      // store reference to embed id on output_area\n",
       "      output_area._bokeh_element_id = output.metadata[EXEC_MIME_TYPE][\"id\"];\n",
       "    }\n",
       "    if (output.metadata[EXEC_MIME_TYPE][\"server_id\"] !== undefined) {\n",
       "      var bk_div = document.createElement(\"div\");\n",
       "      bk_div.innerHTML = output.data[HTML_MIME_TYPE];\n",
       "      var script_attrs = bk_div.children[0].attributes;\n",
       "      for (var i = 0; i < script_attrs.length; i++) {\n",
       "        toinsert[toinsert.length - 1].firstChild.setAttribute(script_attrs[i].name, script_attrs[i].value);\n",
       "        toinsert[toinsert.length - 1].firstChild.textContent = bk_div.children[0].textContent\n",
       "      }\n",
       "      // store reference to server id on output_area\n",
       "      output_area._bokeh_server_id = output.metadata[EXEC_MIME_TYPE][\"server_id\"];\n",
       "    }\n",
       "  }\n",
       "\n",
       "  function register_renderer(events, OutputArea) {\n",
       "\n",
       "    function append_mime(data, metadata, element) {\n",
       "      // create a DOM node to render to\n",
       "      var toinsert = this.create_output_subarea(\n",
       "        metadata,\n",
       "        CLASS_NAME,\n",
       "        EXEC_MIME_TYPE\n",
       "      );\n",
       "      this.keyboard_manager.register_events(toinsert);\n",
       "      // Render to node\n",
       "      var props = {data: data, metadata: metadata[EXEC_MIME_TYPE]};\n",
       "      render(props, toinsert[toinsert.length - 1]);\n",
       "      element.append(toinsert);\n",
       "      return toinsert\n",
       "    }\n",
       "\n",
       "    /* Handle when an output is cleared or removed */\n",
       "    events.on('clear_output.CodeCell', handleClearOutput);\n",
       "    events.on('delete.Cell', handleClearOutput);\n",
       "\n",
       "    /* Handle when a new output is added */\n",
       "    events.on('output_added.OutputArea', handleAddOutput);\n",
       "\n",
       "    /**\n",
       "     * Register the mime type and append_mime function with output_area\n",
       "     */\n",
       "    OutputArea.prototype.register_mime_type(EXEC_MIME_TYPE, append_mime, {\n",
       "      /* Is output safe? */\n",
       "      safe: true,\n",
       "      /* Index of renderer in `output_area.display_order` */\n",
       "      index: 0\n",
       "    });\n",
       "  }\n",
       "\n",
       "  // register the mime type if in Jupyter Notebook environment and previously unregistered\n",
       "  if (root.Jupyter !== undefined) {\n",
       "    var events = require('base/js/events');\n",
       "    var OutputArea = require('notebook/js/outputarea').OutputArea;\n",
       "\n",
       "    if (OutputArea.prototype.mime_types().indexOf(EXEC_MIME_TYPE) == -1) {\n",
       "      register_renderer(events, OutputArea);\n",
       "    }\n",
       "  }\n",
       "\n",
       "  \n",
       "  if (typeof (root._bokeh_timeout) === \"undefined\" || force === true) {\n",
       "    root._bokeh_timeout = Date.now() + 5000;\n",
       "    root._bokeh_failed_load = false;\n",
       "  }\n",
       "\n",
       "  var NB_LOAD_WARNING = {'data': {'text/html':\n",
       "     \"<div style='background-color: #fdd'>\\n\"+\n",
       "     \"<p>\\n\"+\n",
       "     \"BokehJS does not appear to have successfully loaded. If loading BokehJS from CDN, this \\n\"+\n",
       "     \"may be due to a slow or bad network connection. Possible fixes:\\n\"+\n",
       "     \"</p>\\n\"+\n",
       "     \"<ul>\\n\"+\n",
       "     \"<li>re-rerun `output_notebook()` to attempt to load from CDN again, or</li>\\n\"+\n",
       "     \"<li>use INLINE resources instead, as so:</li>\\n\"+\n",
       "     \"</ul>\\n\"+\n",
       "     \"<code>\\n\"+\n",
       "     \"from bokeh.resources import INLINE\\n\"+\n",
       "     \"output_notebook(resources=INLINE)\\n\"+\n",
       "     \"</code>\\n\"+\n",
       "     \"</div>\"}};\n",
       "\n",
       "  function display_loaded() {\n",
       "    var el = document.getElementById(\"1002\");\n",
       "    if (el != null) {\n",
       "      el.textContent = \"BokehJS is loading...\";\n",
       "    }\n",
       "    if (root.Bokeh !== undefined) {\n",
       "      if (el != null) {\n",
       "        el.textContent = \"BokehJS \" + root.Bokeh.version + \" successfully loaded.\";\n",
       "      }\n",
       "    } else if (Date.now() < root._bokeh_timeout) {\n",
       "      setTimeout(display_loaded, 100)\n",
       "    }\n",
       "  }\n",
       "\n",
       "\n",
       "  function run_callbacks() {\n",
       "    try {\n",
       "      root._bokeh_onload_callbacks.forEach(function(callback) {\n",
       "        if (callback != null)\n",
       "          callback();\n",
       "      });\n",
       "    } finally {\n",
       "      delete root._bokeh_onload_callbacks\n",
       "    }\n",
       "    console.debug(\"Bokeh: all callbacks have finished\");\n",
       "  }\n",
       "\n",
       "  function load_libs(css_urls, js_urls, callback) {\n",
       "    if (css_urls == null) css_urls = [];\n",
       "    if (js_urls == null) js_urls = [];\n",
       "\n",
       "    root._bokeh_onload_callbacks.push(callback);\n",
       "    if (root._bokeh_is_loading > 0) {\n",
       "      console.debug(\"Bokeh: BokehJS is being loaded, scheduling callback at\", now());\n",
       "      return null;\n",
       "    }\n",
       "    if (js_urls == null || js_urls.length === 0) {\n",
       "      run_callbacks();\n",
       "      return null;\n",
       "    }\n",
       "    console.debug(\"Bokeh: BokehJS not loaded, scheduling load and callback at\", now());\n",
       "    root._bokeh_is_loading = css_urls.length + js_urls.length;\n",
       "\n",
       "    function on_load() {\n",
       "      root._bokeh_is_loading--;\n",
       "      if (root._bokeh_is_loading === 0) {\n",
       "        console.debug(\"Bokeh: all BokehJS libraries/stylesheets loaded\");\n",
       "        run_callbacks()\n",
       "      }\n",
       "    }\n",
       "\n",
       "    function on_error(url) {\n",
       "      console.error(\"failed to load \" + url);\n",
       "    }\n",
       "\n",
       "    for (let i = 0; i < css_urls.length; i++) {\n",
       "      const url = css_urls[i];\n",
       "      const element = document.createElement(\"link\");\n",
       "      element.onload = on_load;\n",
       "      element.onerror = on_error.bind(null, url);\n",
       "      element.rel = \"stylesheet\";\n",
       "      element.type = \"text/css\";\n",
       "      element.href = url;\n",
       "      console.debug(\"Bokeh: injecting link tag for BokehJS stylesheet: \", url);\n",
       "      document.body.appendChild(element);\n",
       "    }\n",
       "\n",
       "    const hashes = {\"https://cdn.bokeh.org/bokeh/release/bokeh-2.3.2.min.js\": \"XypntL49z55iwGVUW4qsEu83zKL3XEcz0MjuGOQ9SlaaQ68X/g+k1FcioZi7oQAc\", \"https://cdn.bokeh.org/bokeh/release/bokeh-tables-2.3.2.min.js\": \"bEsM86IHGDTLCS0Zod8a8WM6Y4+lafAL/eSiyQcuPzinmWNgNO2/olUF0Z2Dkn5i\", \"https://cdn.bokeh.org/bokeh/release/bokeh-widgets-2.3.2.min.js\": \"TX0gSQTdXTTeScqxj6PVQxTiRW8DOoGVwinyi1D3kxv7wuxQ02XkOxv0xwiypcAH\"};\n",
       "\n",
       "    for (let i = 0; i < js_urls.length; i++) {\n",
       "      const url = js_urls[i];\n",
       "      const element = document.createElement('script');\n",
       "      element.onload = on_load;\n",
       "      element.onerror = on_error.bind(null, url);\n",
       "      element.async = false;\n",
       "      element.src = url;\n",
       "      if (url in hashes) {\n",
       "        element.crossOrigin = \"anonymous\";\n",
       "        element.integrity = \"sha384-\" + hashes[url];\n",
       "      }\n",
       "      console.debug(\"Bokeh: injecting script tag for BokehJS library: \", url);\n",
       "      document.head.appendChild(element);\n",
       "    }\n",
       "  };\n",
       "\n",
       "  function inject_raw_css(css) {\n",
       "    const element = document.createElement(\"style\");\n",
       "    element.appendChild(document.createTextNode(css));\n",
       "    document.body.appendChild(element);\n",
       "  }\n",
       "\n",
       "  \n",
       "  var js_urls = [\"https://cdn.bokeh.org/bokeh/release/bokeh-2.3.2.min.js\", \"https://cdn.bokeh.org/bokeh/release/bokeh-widgets-2.3.2.min.js\", \"https://cdn.bokeh.org/bokeh/release/bokeh-tables-2.3.2.min.js\"];\n",
       "  var css_urls = [];\n",
       "  \n",
       "\n",
       "  var inline_js = [\n",
       "    function(Bokeh) {\n",
       "      Bokeh.set_log_level(\"info\");\n",
       "    },\n",
       "    function(Bokeh) {\n",
       "    \n",
       "    \n",
       "    }\n",
       "  ];\n",
       "\n",
       "  function run_inline_js() {\n",
       "    \n",
       "    if (root.Bokeh !== undefined || force === true) {\n",
       "      \n",
       "    for (var i = 0; i < inline_js.length; i++) {\n",
       "      inline_js[i].call(root, root.Bokeh);\n",
       "    }\n",
       "    if (force === true) {\n",
       "        display_loaded();\n",
       "      }} else if (Date.now() < root._bokeh_timeout) {\n",
       "      setTimeout(run_inline_js, 100);\n",
       "    } else if (!root._bokeh_failed_load) {\n",
       "      console.log(\"Bokeh: BokehJS failed to load within specified timeout.\");\n",
       "      root._bokeh_failed_load = true;\n",
       "    } else if (force !== true) {\n",
       "      var cell = $(document.getElementById(\"1002\")).parents('.cell').data().cell;\n",
       "      cell.output_area.append_execute_result(NB_LOAD_WARNING)\n",
       "    }\n",
       "\n",
       "  }\n",
       "\n",
       "  if (root._bokeh_is_loading === 0) {\n",
       "    console.debug(\"Bokeh: BokehJS loaded, going straight to plotting\");\n",
       "    run_inline_js();\n",
       "  } else {\n",
       "    load_libs(css_urls, js_urls, function() {\n",
       "      console.debug(\"Bokeh: BokehJS plotting callback run at\", now());\n",
       "      run_inline_js();\n",
       "    });\n",
       "  }\n",
       "}(window));"
      ],
      "application/vnd.bokehjs_load.v0+json": "\n(function(root) {\n  function now() {\n    return new Date();\n  }\n\n  var force = true;\n\n  if (typeof root._bokeh_onload_callbacks === \"undefined\" || force === true) {\n    root._bokeh_onload_callbacks = [];\n    root._bokeh_is_loading = undefined;\n  }\n\n  \n\n  \n  if (typeof (root._bokeh_timeout) === \"undefined\" || force === true) {\n    root._bokeh_timeout = Date.now() + 5000;\n    root._bokeh_failed_load = false;\n  }\n\n  var NB_LOAD_WARNING = {'data': {'text/html':\n     \"<div style='background-color: #fdd'>\\n\"+\n     \"<p>\\n\"+\n     \"BokehJS does not appear to have successfully loaded. If loading BokehJS from CDN, this \\n\"+\n     \"may be due to a slow or bad network connection. Possible fixes:\\n\"+\n     \"</p>\\n\"+\n     \"<ul>\\n\"+\n     \"<li>re-rerun `output_notebook()` to attempt to load from CDN again, or</li>\\n\"+\n     \"<li>use INLINE resources instead, as so:</li>\\n\"+\n     \"</ul>\\n\"+\n     \"<code>\\n\"+\n     \"from bokeh.resources import INLINE\\n\"+\n     \"output_notebook(resources=INLINE)\\n\"+\n     \"</code>\\n\"+\n     \"</div>\"}};\n\n  function display_loaded() {\n    var el = document.getElementById(\"1002\");\n    if (el != null) {\n      el.textContent = \"BokehJS is loading...\";\n    }\n    if (root.Bokeh !== undefined) {\n      if (el != null) {\n        el.textContent = \"BokehJS \" + root.Bokeh.version + \" successfully loaded.\";\n      }\n    } else if (Date.now() < root._bokeh_timeout) {\n      setTimeout(display_loaded, 100)\n    }\n  }\n\n\n  function run_callbacks() {\n    try {\n      root._bokeh_onload_callbacks.forEach(function(callback) {\n        if (callback != null)\n          callback();\n      });\n    } finally {\n      delete root._bokeh_onload_callbacks\n    }\n    console.debug(\"Bokeh: all callbacks have finished\");\n  }\n\n  function load_libs(css_urls, js_urls, callback) {\n    if (css_urls == null) css_urls = [];\n    if (js_urls == null) js_urls = [];\n\n    root._bokeh_onload_callbacks.push(callback);\n    if (root._bokeh_is_loading > 0) {\n      console.debug(\"Bokeh: BokehJS is being loaded, scheduling callback at\", now());\n      return null;\n    }\n    if (js_urls == null || js_urls.length === 0) {\n      run_callbacks();\n      return null;\n    }\n    console.debug(\"Bokeh: BokehJS not loaded, scheduling load and callback at\", now());\n    root._bokeh_is_loading = css_urls.length + js_urls.length;\n\n    function on_load() {\n      root._bokeh_is_loading--;\n      if (root._bokeh_is_loading === 0) {\n        console.debug(\"Bokeh: all BokehJS libraries/stylesheets loaded\");\n        run_callbacks()\n      }\n    }\n\n    function on_error(url) {\n      console.error(\"failed to load \" + url);\n    }\n\n    for (let i = 0; i < css_urls.length; i++) {\n      const url = css_urls[i];\n      const element = document.createElement(\"link\");\n      element.onload = on_load;\n      element.onerror = on_error.bind(null, url);\n      element.rel = \"stylesheet\";\n      element.type = \"text/css\";\n      element.href = url;\n      console.debug(\"Bokeh: injecting link tag for BokehJS stylesheet: \", url);\n      document.body.appendChild(element);\n    }\n\n    const hashes = {\"https://cdn.bokeh.org/bokeh/release/bokeh-2.3.2.min.js\": \"XypntL49z55iwGVUW4qsEu83zKL3XEcz0MjuGOQ9SlaaQ68X/g+k1FcioZi7oQAc\", \"https://cdn.bokeh.org/bokeh/release/bokeh-tables-2.3.2.min.js\": \"bEsM86IHGDTLCS0Zod8a8WM6Y4+lafAL/eSiyQcuPzinmWNgNO2/olUF0Z2Dkn5i\", \"https://cdn.bokeh.org/bokeh/release/bokeh-widgets-2.3.2.min.js\": \"TX0gSQTdXTTeScqxj6PVQxTiRW8DOoGVwinyi1D3kxv7wuxQ02XkOxv0xwiypcAH\"};\n\n    for (let i = 0; i < js_urls.length; i++) {\n      const url = js_urls[i];\n      const element = document.createElement('script');\n      element.onload = on_load;\n      element.onerror = on_error.bind(null, url);\n      element.async = false;\n      element.src = url;\n      if (url in hashes) {\n        element.crossOrigin = \"anonymous\";\n        element.integrity = \"sha384-\" + hashes[url];\n      }\n      console.debug(\"Bokeh: injecting script tag for BokehJS library: \", url);\n      document.head.appendChild(element);\n    }\n  };\n\n  function inject_raw_css(css) {\n    const element = document.createElement(\"style\");\n    element.appendChild(document.createTextNode(css));\n    document.body.appendChild(element);\n  }\n\n  \n  var js_urls = [\"https://cdn.bokeh.org/bokeh/release/bokeh-2.3.2.min.js\", \"https://cdn.bokeh.org/bokeh/release/bokeh-widgets-2.3.2.min.js\", \"https://cdn.bokeh.org/bokeh/release/bokeh-tables-2.3.2.min.js\"];\n  var css_urls = [];\n  \n\n  var inline_js = [\n    function(Bokeh) {\n      Bokeh.set_log_level(\"info\");\n    },\n    function(Bokeh) {\n    \n    \n    }\n  ];\n\n  function run_inline_js() {\n    \n    if (root.Bokeh !== undefined || force === true) {\n      \n    for (var i = 0; i < inline_js.length; i++) {\n      inline_js[i].call(root, root.Bokeh);\n    }\n    if (force === true) {\n        display_loaded();\n      }} else if (Date.now() < root._bokeh_timeout) {\n      setTimeout(run_inline_js, 100);\n    } else if (!root._bokeh_failed_load) {\n      console.log(\"Bokeh: BokehJS failed to load within specified timeout.\");\n      root._bokeh_failed_load = true;\n    } else if (force !== true) {\n      var cell = $(document.getElementById(\"1002\")).parents('.cell').data().cell;\n      cell.output_area.append_execute_result(NB_LOAD_WARNING)\n    }\n\n  }\n\n  if (root._bokeh_is_loading === 0) {\n    console.debug(\"Bokeh: BokehJS loaded, going straight to plotting\");\n    run_inline_js();\n  } else {\n    load_libs(css_urls, js_urls, function() {\n      console.debug(\"Bokeh: BokehJS plotting callback run at\", now());\n      run_inline_js();\n    });\n  }\n}(window));"
     },
     "metadata": {},
     "output_type": "display_data"
    }
   ],
   "source": [
    "from IPython.display import display\n",
    "from tqdm import tqdm\n",
    "from collections import Counter\n",
    "import ast\n",
    "import textblob   \n",
    "import matplotlib.pyplot as plt\n",
    "import matplotlib.mlab as mlab\n",
    "import seaborn as sb\n",
    "\n",
    "from sklearn.feature_extraction.text import CountVectorizer\n",
    "from textblob import TextBlob\n",
    "import scipy.stats as stats\n",
    "\n",
    "from sklearn.decomposition import TruncatedSVD\n",
    "from sklearn.decomposition import LatentDirichletAllocation\n",
    "from sklearn.manifold import TSNE\n",
    "\n",
    "from bokeh.plotting import figure, output_file, show\n",
    "from bokeh.models import Label\n",
    "from bokeh.io import output_notebook\n",
    "output_notebook()\n",
    "%matplotlib inline"
   ]
  },
  {
   "cell_type": "code",
   "execution_count": 8,
   "id": "8f365c1e",
   "metadata": {},
   "outputs": [
    {
     "name": "stdout",
     "output_type": "stream",
     "text": [
      "Collecting textblob\n",
      "  Downloading textblob-0.17.1-py2.py3-none-any.whl (636 kB)\n",
      "Requirement already satisfied: nltk>=3.1 in c:\\users\\hp\\anaconda3\\lib\\site-packages (from textblob) (3.6.1)\n",
      "Requirement already satisfied: click in c:\\users\\hp\\anaconda3\\lib\\site-packages (from nltk>=3.1->textblob) (7.1.2)\n",
      "Requirement already satisfied: regex in c:\\users\\hp\\anaconda3\\lib\\site-packages (from nltk>=3.1->textblob) (2021.4.4)\n",
      "Requirement already satisfied: joblib in c:\\users\\hp\\anaconda3\\lib\\site-packages (from nltk>=3.1->textblob) (1.0.1)\n",
      "Requirement already satisfied: tqdm in c:\\users\\hp\\anaconda3\\lib\\site-packages (from nltk>=3.1->textblob) (4.59.0)\n",
      "Installing collected packages: textblob\n",
      "Successfully installed textblob-0.17.1\n"
     ]
    }
   ],
   "source": [
    "!pip install textblob"
   ]
  },
  {
   "cell_type": "code",
   "execution_count": 2,
   "id": "9de27c6d",
   "metadata": {},
   "outputs": [],
   "source": [
    "from nltk import FreqDist"
   ]
  },
  {
   "cell_type": "markdown",
   "id": "5d518b01",
   "metadata": {},
   "source": [
    "#Data Collection--------------------------------------------------------------------------------------------------------------\n",
    "\n",
    "The following list of movies is based on global Box Office revenue. The following set of mix of extremely high and worst grossing movies for the past 2 decades."
   ]
  },
  {
   "cell_type": "code",
   "execution_count": 3,
   "id": "e1b18519",
   "metadata": {},
   "outputs": [],
   "source": [
    "#Creating a list of 20 movies\n",
    "MovieURLs = ['https://www.imdb.com/title/tt4154796/reviews?spoiler=hide&sort=reviewVolume&dir=desc&ratingFilter=0',\n",
    "'https://www.imdb.com/title/tt0499549/reviews?spoiler=hide&sort=reviewVolume&dir=desc&ratingFilter=0',\n",
    "'https://www.imdb.com/title/tt0120338/reviews?spoiler=hide&sort=reviewVolume&dir=desc&ratingFilter=0',\n",
    "'https://www.imdb.com/title/tt2488496/reviews?spoiler=hide&sort=reviewVolume&dir=desc&ratingFilter=0',\n",
    "'https://www.imdb.com/title/tt4154756/reviews?spoiler=hide&sort=reviewVolume&dir=desc&ratingFilter=0',\n",
    "'https://www.imdb.com/title/tt0369610/reviews?spoiler=hide&sort=reviewVolume&dir=desc&ratingFilter=0',\n",
    "'https://www.imdb.com/title/tt6105098/reviews?spoiler=hide&sort=reviewVolume&dir=desc&ratingFilter=0',\n",
    "'https://www.imdb.com/title/tt2820852/reviews?spoiler=hide&sort=reviewVolume&dir=desc&ratingFilter=0',\n",
    "'https://www.imdb.com/title/tt2294629/reviews?spoiler=hide&sort=reviewVolume&dir=desc&ratingFilter=0',\n",
    "'https://www.imdb.com/title/tt3606756/reviews?spoiler=hide&sort=reviewVolume&dir=desc&ratingFilter=0',\n",
    "'https://www.imdb.com/title/tt0473310/reviews?spoiler=hide&sort=reviewVolume&dir=desc&ratingFilter=0',\n",
    "'https://www.imdb.com/title/tt5970844/reviews?spoiler=hide&sort=reviewVolume&dir=desc&ratingFilter=0',\n",
    "'https://www.imdb.com/title/tt4123430/reviews?spoiler=hide&sort=reviewVolume&dir=desc&ratingFilter=0',\n",
    "'https://www.imdb.com/title/tt0180052/reviews?spoiler=hide&sort=reviewVolume&dir=desc&ratingFilter=0',\n",
    "'https://www.imdb.com/title/tt2404233/reviews?spoiler=hide&sort=reviewVolume&dir=desc&ratingFilter=0',\n",
    "'https://www.imdb.com/title/tt0947810/reviews?spoiler=hide&sort=reviewVolume&dir=desc&ratingFilter=0',\n",
    "'https://www.imdb.com/title/tt1098327/reviews?spoiler=hide&sort=reviewVolume&dir=desc&ratingFilter=0',\n",
    "'https://www.imdb.com/title/tt0816462/reviews?spoiler=hide&sort=reviewVolume&dir=desc&ratingFilter=0',\n",
    "'https://www.imdb.com/title/tt0300556/reviews?spoiler=hide&sort=reviewVolume&dir=desc&ratingFilter=0',\n",
    "'https://www.imdb.com/title/tt1213644/reviews?spoiler=hide&sort=reviewVolume&dir=desc&ratingFilter=0'\n",
    "]"
   ]
  },
  {
   "cell_type": "code",
   "execution_count": 4,
   "id": "77efddb1",
   "metadata": {},
   "outputs": [],
   "source": [
    "#Initiating chrome driver\n",
    "driver  = wd.Chrome('chromedriver.exe')"
   ]
  },
  {
   "cell_type": "code",
   "execution_count": null,
   "id": "c63d6114",
   "metadata": {},
   "outputs": [],
   "source": [
    "Temp = []\n",
    "for i in MovieURLs: #Looping throug the URLs\n",
    "    driver.get(i)\n",
    "    try:\n",
    "        driver.find_element_by_class_name('ipl-load-more__button').click() #Pagination-1\n",
    "        time.sleep(2.4)\n",
    "    except:\n",
    "        pass\n",
    "    try:\n",
    "        driver.find_element_by_class_name('ipl-load-more__button').click() #Pagination-2\n",
    "        time.sleep(2.4)\n",
    "    except:\n",
    "        pass\n",
    "    a = driver.find_element_by_class_name('subpage_title_block__right-column')\n",
    "    Movie_Title = a.find_element_by_tag_name('h3').text\n",
    "    b = driver.find_elements_by_class_name('imdb-user-review')\n",
    "    Rating = []\n",
    "    Review = []\n",
    "    Review_Title = []\n",
    "    for i in b:\n",
    "        try:\n",
    "            c = i.find_element_by_class_name(u'rating-other-user-rating').text\n",
    "            Rating.append(c)\n",
    "        except:\n",
    "            c = 'No rating'\n",
    "            Rating.append(c) \n",
    "        try:\n",
    "            d = i.find_element_by_class_name(u'title').text\n",
    "            Review_Title.append(d)\n",
    "        except:\n",
    "            d = 'No Title'\n",
    "            Review_Title.append(d)\n",
    "        try:\n",
    "            e = i.find_element_by_class_name(u'text').text\n",
    "            Review.append(e.strip())\n",
    "        except:\n",
    "            e = 'No review'\n",
    "            Review.append(e)\n",
    "        \n",
    "            \n",
    "    tempj = {'Movie_Title':Movie_Title, 'Rating':Rating, 'Review_Title':Review_Title, 'Reviews':Review}\n",
    "    Temp.append(tempj)\n",
    "final_df = pd.DataFrame(Temp)"
   ]
  },
  {
   "cell_type": "code",
   "execution_count": 5,
   "id": "c8b220d4",
   "metadata": {},
   "outputs": [
    {
     "data": {
      "text/html": [
       "<div>\n",
       "<style scoped>\n",
       "    .dataframe tbody tr th:only-of-type {\n",
       "        vertical-align: middle;\n",
       "    }\n",
       "\n",
       "    .dataframe tbody tr th {\n",
       "        vertical-align: top;\n",
       "    }\n",
       "\n",
       "    .dataframe thead th {\n",
       "        text-align: right;\n",
       "    }\n",
       "</style>\n",
       "<table border=\"1\" class=\"dataframe\">\n",
       "  <thead>\n",
       "    <tr style=\"text-align: right;\">\n",
       "      <th></th>\n",
       "      <th>Movie_Title</th>\n",
       "      <th>Rating</th>\n",
       "      <th>Review_Title</th>\n",
       "      <th>Reviews</th>\n",
       "    </tr>\n",
       "  </thead>\n",
       "  <tbody>\n",
       "    <tr>\n",
       "      <th>0</th>\n",
       "      <td>Avengers: Endgame (2019)</td>\n",
       "      <td>[No rating, 10/10, 7/10, No rating, 6/10, 8/10...</td>\n",
       "      <td>[Plot holes and other blockbuster weaknesses, ...</td>\n",
       "      <td>[Much like I did for Infinity War, I was caugh...</td>\n",
       "    </tr>\n",
       "    <tr>\n",
       "      <th>1</th>\n",
       "      <td>Avatar (2009)</td>\n",
       "      <td>[9/10, 6/10, No rating, 7/10, 8/10, 9/10, No r...</td>\n",
       "      <td>[Gorgeous and 100% otherworldly--but the story...</td>\n",
       "      <td>[As of today, there are 2675 reviews for \"Avat...</td>\n",
       "    </tr>\n",
       "    <tr>\n",
       "      <th>2</th>\n",
       "      <td>Titanic (1997)</td>\n",
       "      <td>[9/10, 8/10, 10/10, No rating, 5/10, 9/10, 9/1...</td>\n",
       "      <td>[My review is this film's 2400th....so what mo...</td>\n",
       "      <td>[\"Titanic\" won a bazillion Oscars and is consi...</td>\n",
       "    </tr>\n",
       "    <tr>\n",
       "      <th>3</th>\n",
       "      <td>Star Wars: Episode VII - The Force Awakens (2015)</td>\n",
       "      <td>[10/10, 9/10, No rating, 5/10, 8/10, 7/10, No ...</td>\n",
       "      <td>[A slightly more adult Star Wars that shows Lu...</td>\n",
       "      <td>[I have never been a huge fan of the Star Wars...</td>\n",
       "    </tr>\n",
       "    <tr>\n",
       "      <th>4</th>\n",
       "      <td>Avengers: Infinity War (2018)</td>\n",
       "      <td>[9/10, 9/10, No rating, 9/10, No rating, 10/10...</td>\n",
       "      <td>[Extravagant clash of the titans, The Marvel p...</td>\n",
       "      <td>[Have found myself liking or loving a lot of M...</td>\n",
       "    </tr>\n",
       "  </tbody>\n",
       "</table>\n",
       "</div>"
      ],
      "text/plain": [
       "                                         Movie_Title  \\\n",
       "0                           Avengers: Endgame (2019)   \n",
       "1                                      Avatar (2009)   \n",
       "2                                     Titanic (1997)   \n",
       "3  Star Wars: Episode VII - The Force Awakens (2015)   \n",
       "4                      Avengers: Infinity War (2018)   \n",
       "\n",
       "                                              Rating  \\\n",
       "0  [No rating, 10/10, 7/10, No rating, 6/10, 8/10...   \n",
       "1  [9/10, 6/10, No rating, 7/10, 8/10, 9/10, No r...   \n",
       "2  [9/10, 8/10, 10/10, No rating, 5/10, 9/10, 9/1...   \n",
       "3  [10/10, 9/10, No rating, 5/10, 8/10, 7/10, No ...   \n",
       "4  [9/10, 9/10, No rating, 9/10, No rating, 10/10...   \n",
       "\n",
       "                                        Review_Title  \\\n",
       "0  [Plot holes and other blockbuster weaknesses, ...   \n",
       "1  [Gorgeous and 100% otherworldly--but the story...   \n",
       "2  [My review is this film's 2400th....so what mo...   \n",
       "3  [A slightly more adult Star Wars that shows Lu...   \n",
       "4  [Extravagant clash of the titans, The Marvel p...   \n",
       "\n",
       "                                             Reviews  \n",
       "0  [Much like I did for Infinity War, I was caugh...  \n",
       "1  [As of today, there are 2675 reviews for \"Avat...  \n",
       "2  [\"Titanic\" won a bazillion Oscars and is consi...  \n",
       "3  [I have never been a huge fan of the Star Wars...  \n",
       "4  [Have found myself liking or loving a lot of M...  "
      ]
     },
     "execution_count": 5,
     "metadata": {},
     "output_type": "execute_result"
    }
   ],
   "source": [
    "final_df.head()"
   ]
  },
  {
   "cell_type": "code",
   "execution_count": 50,
   "id": "1ba7fff5",
   "metadata": {},
   "outputs": [
    {
     "data": {
      "text/plain": [
       "20"
      ]
     },
     "execution_count": 50,
     "metadata": {},
     "output_type": "execute_result"
    }
   ],
   "source": [
    "len(final_df)"
   ]
  },
  {
   "cell_type": "code",
   "execution_count": 6,
   "id": "116eb7a7",
   "metadata": {},
   "outputs": [
    {
     "data": {
      "text/html": [
       "<div>\n",
       "<style scoped>\n",
       "    .dataframe tbody tr th:only-of-type {\n",
       "        vertical-align: middle;\n",
       "    }\n",
       "\n",
       "    .dataframe tbody tr th {\n",
       "        vertical-align: top;\n",
       "    }\n",
       "\n",
       "    .dataframe thead th {\n",
       "        text-align: right;\n",
       "    }\n",
       "</style>\n",
       "<table border=\"1\" class=\"dataframe\">\n",
       "  <thead>\n",
       "    <tr style=\"text-align: right;\">\n",
       "      <th></th>\n",
       "      <th>Movie_Title</th>\n",
       "      <th>Rating</th>\n",
       "    </tr>\n",
       "  </thead>\n",
       "  <tbody>\n",
       "    <tr>\n",
       "      <th>0</th>\n",
       "      <td>Avengers: Endgame (2019)</td>\n",
       "      <td>No rating</td>\n",
       "    </tr>\n",
       "    <tr>\n",
       "      <th>0</th>\n",
       "      <td>Avengers: Endgame (2019)</td>\n",
       "      <td>10/10</td>\n",
       "    </tr>\n",
       "    <tr>\n",
       "      <th>0</th>\n",
       "      <td>Avengers: Endgame (2019)</td>\n",
       "      <td>7/10</td>\n",
       "    </tr>\n",
       "    <tr>\n",
       "      <th>0</th>\n",
       "      <td>Avengers: Endgame (2019)</td>\n",
       "      <td>No rating</td>\n",
       "    </tr>\n",
       "    <tr>\n",
       "      <th>0</th>\n",
       "      <td>Avengers: Endgame (2019)</td>\n",
       "      <td>6/10</td>\n",
       "    </tr>\n",
       "  </tbody>\n",
       "</table>\n",
       "</div>"
      ],
      "text/plain": [
       "                Movie_Title     Rating\n",
       "0  Avengers: Endgame (2019)  No rating\n",
       "0  Avengers: Endgame (2019)      10/10\n",
       "0  Avengers: Endgame (2019)       7/10\n",
       "0  Avengers: Endgame (2019)  No rating\n",
       "0  Avengers: Endgame (2019)       6/10"
      ]
     },
     "execution_count": 6,
     "metadata": {},
     "output_type": "execute_result"
    }
   ],
   "source": [
    "final_df2 = final_df[['Movie_Title', 'Rating']]\n",
    "final_df2 = final_df2.explode('Rating')\n",
    "final_df2.head()"
   ]
  },
  {
   "cell_type": "code",
   "execution_count": 7,
   "id": "89d05977",
   "metadata": {},
   "outputs": [
    {
     "data": {
      "text/html": [
       "<div>\n",
       "<style scoped>\n",
       "    .dataframe tbody tr th:only-of-type {\n",
       "        vertical-align: middle;\n",
       "    }\n",
       "\n",
       "    .dataframe tbody tr th {\n",
       "        vertical-align: top;\n",
       "    }\n",
       "\n",
       "    .dataframe thead th {\n",
       "        text-align: right;\n",
       "    }\n",
       "</style>\n",
       "<table border=\"1\" class=\"dataframe\">\n",
       "  <thead>\n",
       "    <tr style=\"text-align: right;\">\n",
       "      <th></th>\n",
       "      <th>Review_Title</th>\n",
       "    </tr>\n",
       "  </thead>\n",
       "  <tbody>\n",
       "    <tr>\n",
       "      <th>0</th>\n",
       "      <td>Plot holes and other blockbuster weaknesses, b...</td>\n",
       "    </tr>\n",
       "    <tr>\n",
       "      <th>0</th>\n",
       "      <td>Time to play the (end)game</td>\n",
       "    </tr>\n",
       "    <tr>\n",
       "      <th>0</th>\n",
       "      <td>Forget Captain Marvel... meet The Rat!</td>\n",
       "    </tr>\n",
       "    <tr>\n",
       "      <th>0</th>\n",
       "      <td>A continuation of \"Infinity War\", Thanos has t...</td>\n",
       "    </tr>\n",
       "    <tr>\n",
       "      <th>0</th>\n",
       "      <td>Visually great, but not an overly thrilling or...</td>\n",
       "    </tr>\n",
       "  </tbody>\n",
       "</table>\n",
       "</div>"
      ],
      "text/plain": [
       "                                        Review_Title\n",
       "0  Plot holes and other blockbuster weaknesses, b...\n",
       "0                         Time to play the (end)game\n",
       "0             Forget Captain Marvel... meet The Rat!\n",
       "0  A continuation of \"Infinity War\", Thanos has t...\n",
       "0  Visually great, but not an overly thrilling or..."
      ]
     },
     "execution_count": 7,
     "metadata": {},
     "output_type": "execute_result"
    }
   ],
   "source": [
    "final_df3 = final_df[['Review_Title']]\n",
    "final_df3 = final_df3.explode('Review_Title')\n",
    "final_df3.head()"
   ]
  },
  {
   "cell_type": "code",
   "execution_count": 8,
   "id": "b01b2403",
   "metadata": {},
   "outputs": [
    {
     "data": {
      "text/html": [
       "<div>\n",
       "<style scoped>\n",
       "    .dataframe tbody tr th:only-of-type {\n",
       "        vertical-align: middle;\n",
       "    }\n",
       "\n",
       "    .dataframe tbody tr th {\n",
       "        vertical-align: top;\n",
       "    }\n",
       "\n",
       "    .dataframe thead th {\n",
       "        text-align: right;\n",
       "    }\n",
       "</style>\n",
       "<table border=\"1\" class=\"dataframe\">\n",
       "  <thead>\n",
       "    <tr style=\"text-align: right;\">\n",
       "      <th></th>\n",
       "      <th>Reviews</th>\n",
       "    </tr>\n",
       "  </thead>\n",
       "  <tbody>\n",
       "    <tr>\n",
       "      <th>0</th>\n",
       "      <td>Much like I did for Infinity War, I was caught...</td>\n",
       "    </tr>\n",
       "    <tr>\n",
       "      <th>0</th>\n",
       "      <td>I usually do not watch movies twice in such a ...</td>\n",
       "    </tr>\n",
       "    <tr>\n",
       "      <th>0</th>\n",
       "      <td>After 'the vanishing' in Infinity War, there w...</td>\n",
       "    </tr>\n",
       "    <tr>\n",
       "      <th>0</th>\n",
       "      <td>My wife and I watched this movie at home on DV...</td>\n",
       "    </tr>\n",
       "    <tr>\n",
       "      <th>0</th>\n",
       "      <td>Well, I finally got around to watching \"Avenge...</td>\n",
       "    </tr>\n",
       "  </tbody>\n",
       "</table>\n",
       "</div>"
      ],
      "text/plain": [
       "                                             Reviews\n",
       "0  Much like I did for Infinity War, I was caught...\n",
       "0  I usually do not watch movies twice in such a ...\n",
       "0  After 'the vanishing' in Infinity War, there w...\n",
       "0  My wife and I watched this movie at home on DV...\n",
       "0  Well, I finally got around to watching \"Avenge..."
      ]
     },
     "execution_count": 8,
     "metadata": {},
     "output_type": "execute_result"
    }
   ],
   "source": [
    "final_df4 = final_df[['Reviews']]\n",
    "final_df4 = final_df4.explode('Reviews')\n",
    "final_df4.head()"
   ]
  },
  {
   "cell_type": "code",
   "execution_count": 9,
   "id": "6081294a",
   "metadata": {},
   "outputs": [],
   "source": [
    "frames = [final_df2, final_df3, final_df4]\n",
    "df_final = pd.concat(frames, axis=1)"
   ]
  },
  {
   "cell_type": "code",
   "execution_count": 10,
   "id": "46b53200",
   "metadata": {},
   "outputs": [
    {
     "data": {
      "text/html": [
       "<div>\n",
       "<style scoped>\n",
       "    .dataframe tbody tr th:only-of-type {\n",
       "        vertical-align: middle;\n",
       "    }\n",
       "\n",
       "    .dataframe tbody tr th {\n",
       "        vertical-align: top;\n",
       "    }\n",
       "\n",
       "    .dataframe thead th {\n",
       "        text-align: right;\n",
       "    }\n",
       "</style>\n",
       "<table border=\"1\" class=\"dataframe\">\n",
       "  <thead>\n",
       "    <tr style=\"text-align: right;\">\n",
       "      <th></th>\n",
       "      <th>Movie_Title</th>\n",
       "      <th>Rating</th>\n",
       "      <th>Review_Title</th>\n",
       "      <th>Reviews</th>\n",
       "    </tr>\n",
       "  </thead>\n",
       "  <tbody>\n",
       "    <tr>\n",
       "      <th>0</th>\n",
       "      <td>Avengers: Endgame (2019)</td>\n",
       "      <td>No rating</td>\n",
       "      <td>Plot holes and other blockbuster weaknesses, b...</td>\n",
       "      <td>Much like I did for Infinity War, I was caught...</td>\n",
       "    </tr>\n",
       "    <tr>\n",
       "      <th>0</th>\n",
       "      <td>Avengers: Endgame (2019)</td>\n",
       "      <td>10/10</td>\n",
       "      <td>Time to play the (end)game</td>\n",
       "      <td>I usually do not watch movies twice in such a ...</td>\n",
       "    </tr>\n",
       "    <tr>\n",
       "      <th>0</th>\n",
       "      <td>Avengers: Endgame (2019)</td>\n",
       "      <td>7/10</td>\n",
       "      <td>Forget Captain Marvel... meet The Rat!</td>\n",
       "      <td>After 'the vanishing' in Infinity War, there w...</td>\n",
       "    </tr>\n",
       "    <tr>\n",
       "      <th>0</th>\n",
       "      <td>Avengers: Endgame (2019)</td>\n",
       "      <td>No rating</td>\n",
       "      <td>A continuation of \"Infinity War\", Thanos has t...</td>\n",
       "      <td>My wife and I watched this movie at home on DV...</td>\n",
       "    </tr>\n",
       "    <tr>\n",
       "      <th>0</th>\n",
       "      <td>Avengers: Endgame (2019)</td>\n",
       "      <td>6/10</td>\n",
       "      <td>Visually great, but not an overly thrilling or...</td>\n",
       "      <td>Well, I finally got around to watching \"Avenge...</td>\n",
       "    </tr>\n",
       "  </tbody>\n",
       "</table>\n",
       "</div>"
      ],
      "text/plain": [
       "                Movie_Title     Rating  \\\n",
       "0  Avengers: Endgame (2019)  No rating   \n",
       "0  Avengers: Endgame (2019)      10/10   \n",
       "0  Avengers: Endgame (2019)       7/10   \n",
       "0  Avengers: Endgame (2019)  No rating   \n",
       "0  Avengers: Endgame (2019)       6/10   \n",
       "\n",
       "                                        Review_Title  \\\n",
       "0  Plot holes and other blockbuster weaknesses, b...   \n",
       "0                         Time to play the (end)game   \n",
       "0             Forget Captain Marvel... meet The Rat!   \n",
       "0  A continuation of \"Infinity War\", Thanos has t...   \n",
       "0  Visually great, but not an overly thrilling or...   \n",
       "\n",
       "                                             Reviews  \n",
       "0  Much like I did for Infinity War, I was caught...  \n",
       "0  I usually do not watch movies twice in such a ...  \n",
       "0  After 'the vanishing' in Infinity War, there w...  \n",
       "0  My wife and I watched this movie at home on DV...  \n",
       "0  Well, I finally got around to watching \"Avenge...  "
      ]
     },
     "execution_count": 10,
     "metadata": {},
     "output_type": "execute_result"
    }
   ],
   "source": [
    "df_final.head()"
   ]
  },
  {
   "cell_type": "code",
   "execution_count": 51,
   "id": "958d9cc9",
   "metadata": {},
   "outputs": [
    {
     "data": {
      "text/plain": [
       "1412"
      ]
     },
     "execution_count": 51,
     "metadata": {},
     "output_type": "execute_result"
    }
   ],
   "source": [
    "len(df_final)"
   ]
  },
  {
   "cell_type": "code",
   "execution_count": null,
   "id": "0bc98739",
   "metadata": {},
   "outputs": [],
   "source": []
  },
  {
   "cell_type": "code",
   "execution_count": 11,
   "id": "6c963969",
   "metadata": {},
   "outputs": [],
   "source": [
    "df_final.to_excel(\"IMDB_reviewsBox.xlsx\")"
   ]
  },
  {
   "cell_type": "markdown",
   "id": "89d781b5",
   "metadata": {},
   "source": [
    "#KEYWORD analysis--------------------------------------------------------------------------------------------------------------"
   ]
  },
  {
   "cell_type": "code",
   "execution_count": 12,
   "id": "e16b1244",
   "metadata": {},
   "outputs": [],
   "source": [
    "#Manipulating the dataset\n",
    "Movies_df = df_final.groupby('Movie_Title')['Reviews'].apply(' '.join).reset_index()"
   ]
  },
  {
   "cell_type": "code",
   "execution_count": 13,
   "id": "c6ebd8fd",
   "metadata": {},
   "outputs": [
    {
     "data": {
      "text/html": [
       "<div>\n",
       "<style scoped>\n",
       "    .dataframe tbody tr th:only-of-type {\n",
       "        vertical-align: middle;\n",
       "    }\n",
       "\n",
       "    .dataframe tbody tr th {\n",
       "        vertical-align: top;\n",
       "    }\n",
       "\n",
       "    .dataframe thead th {\n",
       "        text-align: right;\n",
       "    }\n",
       "</style>\n",
       "<table border=\"1\" class=\"dataframe\">\n",
       "  <thead>\n",
       "    <tr style=\"text-align: right;\">\n",
       "      <th></th>\n",
       "      <th>Movie_Title</th>\n",
       "      <th>Reviews</th>\n",
       "    </tr>\n",
       "  </thead>\n",
       "  <tbody>\n",
       "    <tr>\n",
       "      <th>0</th>\n",
       "      <td>Avatar (2009)</td>\n",
       "      <td>As of today, there are 2675 reviews for \"Avata...</td>\n",
       "    </tr>\n",
       "    <tr>\n",
       "      <th>1</th>\n",
       "      <td>Avengers: Endgame (2019)</td>\n",
       "      <td>Much like I did for Infinity War, I was caught...</td>\n",
       "    </tr>\n",
       "    <tr>\n",
       "      <th>2</th>\n",
       "      <td>Avengers: Infinity War (2018)</td>\n",
       "      <td>Have found myself liking or loving a lot of Ma...</td>\n",
       "    </tr>\n",
       "    <tr>\n",
       "      <th>3</th>\n",
       "      <td>Conan the Barbarian (2011)</td>\n",
       "      <td>I enjoyed the 1982 Conan the Barbarian, and we...</td>\n",
       "    </tr>\n",
       "    <tr>\n",
       "      <th>4</th>\n",
       "      <td>Disaster Movie (2008)</td>\n",
       "      <td>Disaster Movie gets my vote as the \"new\" worst...</td>\n",
       "    </tr>\n",
       "  </tbody>\n",
       "</table>\n",
       "</div>"
      ],
      "text/plain": [
       "                     Movie_Title  \\\n",
       "0                  Avatar (2009)   \n",
       "1       Avengers: Endgame (2019)   \n",
       "2  Avengers: Infinity War (2018)   \n",
       "3     Conan the Barbarian (2011)   \n",
       "4          Disaster Movie (2008)   \n",
       "\n",
       "                                             Reviews  \n",
       "0  As of today, there are 2675 reviews for \"Avata...  \n",
       "1  Much like I did for Infinity War, I was caught...  \n",
       "2  Have found myself liking or loving a lot of Ma...  \n",
       "3  I enjoyed the 1982 Conan the Barbarian, and we...  \n",
       "4  Disaster Movie gets my vote as the \"new\" worst...  "
      ]
     },
     "execution_count": 13,
     "metadata": {},
     "output_type": "execute_result"
    }
   ],
   "source": [
    "Movies_df.head()"
   ]
  },
  {
   "cell_type": "code",
   "execution_count": 15,
   "id": "76849150",
   "metadata": {},
   "outputs": [],
   "source": [
    "Keys = {'Movie':[], 'Ngrams':[], 'Low_diversity':[], 'High_diversity':[]}\n",
    "n_gram_range = [(a,b) for a in np.arange(1,3) for b in np.arange(1,3)]\n",
    "for i in range(20):\n",
    "    doc = Movies_df.loc[i,['Reviews']][0]\n",
    "    model = KeyBERT()\n",
    "    keys = model.extract_keywords(doc)\n",
    "    for x in range(len(n_gram_range)):\n",
    "        low = model.extract_keywords(doc,keyphrase_ngram_range=n_gram_range[x], stop_words='english',use_mmr=True,diversity=0.25)\n",
    "        high = model.extract_keywords(doc,keyphrase_ngram_range=n_gram_range[x], stop_words='english',use_mmr=True,diversity=0.75)\n",
    "        Keys[\"Movie\"].append(Movies_df.loc[i,['Movie_Title']][0])\n",
    "        Keys[\"Ngrams\"].append(n_gram_range[x])\n",
    "        Keys[\"Low_diversity\"].append(low)\n",
    "        Keys[\"High_diversity\"].append(high)"
   ]
  },
  {
   "cell_type": "code",
   "execution_count": 16,
   "id": "7b65809d",
   "metadata": {},
   "outputs": [],
   "source": [
    "Keys_Dataframe2 = pd.DataFrame(Keys)"
   ]
  },
  {
   "cell_type": "code",
   "execution_count": 17,
   "id": "13adebe2",
   "metadata": {},
   "outputs": [
    {
     "data": {
      "text/html": [
       "<div>\n",
       "<style scoped>\n",
       "    .dataframe tbody tr th:only-of-type {\n",
       "        vertical-align: middle;\n",
       "    }\n",
       "\n",
       "    .dataframe tbody tr th {\n",
       "        vertical-align: top;\n",
       "    }\n",
       "\n",
       "    .dataframe thead th {\n",
       "        text-align: right;\n",
       "    }\n",
       "</style>\n",
       "<table border=\"1\" class=\"dataframe\">\n",
       "  <thead>\n",
       "    <tr style=\"text-align: right;\">\n",
       "      <th></th>\n",
       "      <th>Movie</th>\n",
       "      <th>Ngrams</th>\n",
       "      <th>Low_diversity</th>\n",
       "      <th>High_diversity</th>\n",
       "    </tr>\n",
       "  </thead>\n",
       "  <tbody>\n",
       "    <tr>\n",
       "      <th>0</th>\n",
       "      <td>Avatar (2009)</td>\n",
       "      <td>(1, 1)</td>\n",
       "      <td>[(blockbuster, 0.4033), (avatar, 0.3443), (jur...</td>\n",
       "      <td>[(blockbuster, 0.4033), (element, -0.0719), (a...</td>\n",
       "    </tr>\n",
       "    <tr>\n",
       "      <th>1</th>\n",
       "      <td>Avatar (2009)</td>\n",
       "      <td>(1, 2)</td>\n",
       "      <td>[(reviews avatar, 0.5623), (jurassic park, 0.4...</td>\n",
       "      <td>[(reviews avatar, 0.5623), (create facsimiles,...</td>\n",
       "    </tr>\n",
       "    <tr>\n",
       "      <th>2</th>\n",
       "      <td>Avatar (2009)</td>\n",
       "      <td>(2, 1)</td>\n",
       "      <td>[]</td>\n",
       "      <td>[]</td>\n",
       "    </tr>\n",
       "    <tr>\n",
       "      <th>3</th>\n",
       "      <td>Avatar (2009)</td>\n",
       "      <td>(2, 2)</td>\n",
       "      <td>[(reviews avatar, 0.5623), (jurassic park, 0.4...</td>\n",
       "      <td>[(reviews avatar, 0.5623), (create facsimiles,...</td>\n",
       "    </tr>\n",
       "    <tr>\n",
       "      <th>4</th>\n",
       "      <td>Avengers: Endgame (2019)</td>\n",
       "      <td>(1, 1)</td>\n",
       "      <td>[(avengers, 0.3995), (summary, 0.3408), (story...</td>\n",
       "      <td>[(avengers, 0.3995), (celluloid, -0.13), (comp...</td>\n",
       "    </tr>\n",
       "    <tr>\n",
       "      <th>...</th>\n",
       "      <td>...</td>\n",
       "      <td>...</td>\n",
       "      <td>...</td>\n",
       "      <td>...</td>\n",
       "    </tr>\n",
       "    <tr>\n",
       "      <th>75</th>\n",
       "      <td>Timeline (2003)</td>\n",
       "      <td>(2, 2)</td>\n",
       "      <td>[(itc travel, 0.4682), (archaeologists trapped...</td>\n",
       "      <td>[(itc travel, 0.4682), (monastery destroyed, 0...</td>\n",
       "    </tr>\n",
       "    <tr>\n",
       "      <th>76</th>\n",
       "      <td>Titanic (1997)</td>\n",
       "      <td>(1, 1)</td>\n",
       "      <td>[(titanic, 0.5149), (reviews, 0.3907), (overlo...</td>\n",
       "      <td>[(titanic, 0.5149), (noticeable, 0.1396), (exp...</td>\n",
       "    </tr>\n",
       "    <tr>\n",
       "      <th>77</th>\n",
       "      <td>Titanic (1997)</td>\n",
       "      <td>(1, 2)</td>\n",
       "      <td>[(titanic entertaining, 0.6497), (titanic extr...</td>\n",
       "      <td>[(titanic entertaining, 0.6497), (subjugated l...</td>\n",
       "    </tr>\n",
       "    <tr>\n",
       "      <th>78</th>\n",
       "      <td>Titanic (1997)</td>\n",
       "      <td>(2, 1)</td>\n",
       "      <td>[]</td>\n",
       "      <td>[]</td>\n",
       "    </tr>\n",
       "    <tr>\n",
       "      <th>79</th>\n",
       "      <td>Titanic (1997)</td>\n",
       "      <td>(2, 2)</td>\n",
       "      <td>[(titanic entertaining, 0.6497), (titanic extr...</td>\n",
       "      <td>[(titanic entertaining, 0.6497), (subjugated l...</td>\n",
       "    </tr>\n",
       "  </tbody>\n",
       "</table>\n",
       "<p>80 rows × 4 columns</p>\n",
       "</div>"
      ],
      "text/plain": [
       "                       Movie  Ngrams  \\\n",
       "0              Avatar (2009)  (1, 1)   \n",
       "1              Avatar (2009)  (1, 2)   \n",
       "2              Avatar (2009)  (2, 1)   \n",
       "3              Avatar (2009)  (2, 2)   \n",
       "4   Avengers: Endgame (2019)  (1, 1)   \n",
       "..                       ...     ...   \n",
       "75           Timeline (2003)  (2, 2)   \n",
       "76            Titanic (1997)  (1, 1)   \n",
       "77            Titanic (1997)  (1, 2)   \n",
       "78            Titanic (1997)  (2, 1)   \n",
       "79            Titanic (1997)  (2, 2)   \n",
       "\n",
       "                                        Low_diversity  \\\n",
       "0   [(blockbuster, 0.4033), (avatar, 0.3443), (jur...   \n",
       "1   [(reviews avatar, 0.5623), (jurassic park, 0.4...   \n",
       "2                                                  []   \n",
       "3   [(reviews avatar, 0.5623), (jurassic park, 0.4...   \n",
       "4   [(avengers, 0.3995), (summary, 0.3408), (story...   \n",
       "..                                                ...   \n",
       "75  [(itc travel, 0.4682), (archaeologists trapped...   \n",
       "76  [(titanic, 0.5149), (reviews, 0.3907), (overlo...   \n",
       "77  [(titanic entertaining, 0.6497), (titanic extr...   \n",
       "78                                                 []   \n",
       "79  [(titanic entertaining, 0.6497), (titanic extr...   \n",
       "\n",
       "                                       High_diversity  \n",
       "0   [(blockbuster, 0.4033), (element, -0.0719), (a...  \n",
       "1   [(reviews avatar, 0.5623), (create facsimiles,...  \n",
       "2                                                  []  \n",
       "3   [(reviews avatar, 0.5623), (create facsimiles,...  \n",
       "4   [(avengers, 0.3995), (celluloid, -0.13), (comp...  \n",
       "..                                                ...  \n",
       "75  [(itc travel, 0.4682), (monastery destroyed, 0...  \n",
       "76  [(titanic, 0.5149), (noticeable, 0.1396), (exp...  \n",
       "77  [(titanic entertaining, 0.6497), (subjugated l...  \n",
       "78                                                 []  \n",
       "79  [(titanic entertaining, 0.6497), (subjugated l...  \n",
       "\n",
       "[80 rows x 4 columns]"
      ]
     },
     "execution_count": 17,
     "metadata": {},
     "output_type": "execute_result"
    }
   ],
   "source": [
    "Keys_Dataframe2"
   ]
  },
  {
   "cell_type": "code",
   "execution_count": 18,
   "id": "ef1c36b5",
   "metadata": {},
   "outputs": [],
   "source": [
    "Keys_Dataframe2.to_excel(\"Keys2BO.xlsx\")"
   ]
  },
  {
   "cell_type": "markdown",
   "id": "b5c461be",
   "metadata": {},
   "source": [
    "Sentiment Analysis-------------------------------------------------------------------------------------------------------------"
   ]
  },
  {
   "cell_type": "code",
   "execution_count": 5,
   "id": "bb0b5785",
   "metadata": {},
   "outputs": [
    {
     "name": "stderr",
     "output_type": "stream",
     "text": [
      "[nltk_data] Downloading package stopwords to\n",
      "[nltk_data]     C:\\Users\\HP\\AppData\\Roaming\\nltk_data...\n",
      "[nltk_data]   Package stopwords is already up-to-date!\n"
     ]
    },
    {
     "data": {
      "text/plain": [
       "True"
      ]
     },
     "execution_count": 5,
     "metadata": {},
     "output_type": "execute_result"
    }
   ],
   "source": [
    "#import nltk\n",
    "nltk.download('stopwords')\n",
    "#nltk.download('punkt')"
   ]
  },
  {
   "cell_type": "code",
   "execution_count": 4,
   "id": "b5dab514",
   "metadata": {},
   "outputs": [],
   "source": [
    "import nltk\n",
    "from nltk import FreqDist"
   ]
  },
  {
   "cell_type": "code",
   "execution_count": 55,
   "id": "7d8699be",
   "metadata": {},
   "outputs": [],
   "source": [
    "import gensim\n",
    "from gensim import corpora"
   ]
  },
  {
   "cell_type": "code",
   "execution_count": 20,
   "id": "f3a97285",
   "metadata": {},
   "outputs": [
    {
     "data": {
      "text/html": [
       "<div>\n",
       "<style scoped>\n",
       "    .dataframe tbody tr th:only-of-type {\n",
       "        vertical-align: middle;\n",
       "    }\n",
       "\n",
       "    .dataframe tbody tr th {\n",
       "        vertical-align: top;\n",
       "    }\n",
       "\n",
       "    .dataframe thead th {\n",
       "        text-align: right;\n",
       "    }\n",
       "</style>\n",
       "<table border=\"1\" class=\"dataframe\">\n",
       "  <thead>\n",
       "    <tr style=\"text-align: right;\">\n",
       "      <th></th>\n",
       "      <th>Movie_Title</th>\n",
       "      <th>Reviews</th>\n",
       "    </tr>\n",
       "  </thead>\n",
       "  <tbody>\n",
       "    <tr>\n",
       "      <th>0</th>\n",
       "      <td>Avatar (2009)</td>\n",
       "      <td>As of today there are 2675 reviews for Avatarm...</td>\n",
       "    </tr>\n",
       "    <tr>\n",
       "      <th>1</th>\n",
       "      <td>Avengers: Endgame (2019)</td>\n",
       "      <td>Much like I did for Infinity War I was caught ...</td>\n",
       "    </tr>\n",
       "    <tr>\n",
       "      <th>2</th>\n",
       "      <td>Avengers: Infinity War (2018)</td>\n",
       "      <td>Have found myself liking or loving a lot of Ma...</td>\n",
       "    </tr>\n",
       "  </tbody>\n",
       "</table>\n",
       "</div>"
      ],
      "text/plain": [
       "                     Movie_Title  \\\n",
       "0                  Avatar (2009)   \n",
       "1       Avengers: Endgame (2019)   \n",
       "2  Avengers: Infinity War (2018)   \n",
       "\n",
       "                                             Reviews  \n",
       "0  As of today there are 2675 reviews for Avatarm...  \n",
       "1  Much like I did for Infinity War I was caught ...  \n",
       "2  Have found myself liking or loving a lot of Ma...  "
      ]
     },
     "execution_count": 20,
     "metadata": {},
     "output_type": "execute_result"
    }
   ],
   "source": [
    "def punctuation_text(Reviews):\n",
    "    import string as st\n",
    "    C=[p for p in Reviews if p not in st.punctuation]\n",
    "    return ''.join(C)\n",
    "\n",
    "Movies_df['Reviews'] = Movies_df['Reviews'].apply(punctuation_text)\n",
    "Movies_df.head(3)"
   ]
  },
  {
   "cell_type": "code",
   "execution_count": 21,
   "id": "9823903e",
   "metadata": {},
   "outputs": [],
   "source": [
    "def remove_stopwords(Reviews):\n",
    "    stopwords=nltk.corpus.stopwords.words('english')\n",
    "    stopwords.remove('not')\n",
    "    C=[p for p in nltk.word_tokenize(Reviews) if p not in stopwords]\n",
    "    return ' '.join(C)\n",
    "\n",
    "Movies_df['Reviews'] = Movies_df['Reviews'].apply(remove_stopwords)"
   ]
  },
  {
   "cell_type": "code",
   "execution_count": 44,
   "id": "87db542b",
   "metadata": {},
   "outputs": [
    {
     "name": "stdout",
     "output_type": "stream",
     "text": [
      "Collecting vaderSentiment\n",
      "  Downloading vaderSentiment-3.3.2-py2.py3-none-any.whl (125 kB)\n",
      "Requirement already satisfied: requests in c:\\users\\hp\\anaconda3\\lib\\site-packages (from vaderSentiment) (2.25.1)\n",
      "Requirement already satisfied: chardet<5,>=3.0.2 in c:\\users\\hp\\anaconda3\\lib\\site-packages (from requests->vaderSentiment) (4.0.0)\n",
      "Requirement already satisfied: idna<3,>=2.5 in c:\\users\\hp\\anaconda3\\lib\\site-packages (from requests->vaderSentiment) (2.10)\n",
      "Requirement already satisfied: certifi>=2017.4.17 in c:\\users\\hp\\anaconda3\\lib\\site-packages (from requests->vaderSentiment) (2020.12.5)\n",
      "Requirement already satisfied: urllib3<1.27,>=1.21.1 in c:\\users\\hp\\anaconda3\\lib\\site-packages (from requests->vaderSentiment) (1.26.4)\n",
      "Installing collected packages: vaderSentiment\n",
      "Successfully installed vaderSentiment-3.3.2\n"
     ]
    }
   ],
   "source": [
    "!pip install vaderSentiment"
   ]
  },
  {
   "cell_type": "code",
   "execution_count": 45,
   "id": "be0b5abc",
   "metadata": {},
   "outputs": [],
   "source": [
    "from vaderSentiment.vaderSentiment import SentimentIntensityAnalyzer\n",
    "analyser = SentimentIntensityAnalyzer()"
   ]
  },
  {
   "cell_type": "code",
   "execution_count": 46,
   "id": "1e4283a8",
   "metadata": {},
   "outputs": [],
   "source": [
    "scores = []\n",
    "docs = Movies_df['Reviews']\n",
    "for docs in docs:\n",
    "    score = analyser.polarity_scores(docs)\n",
    "    scores.append(score)"
   ]
  },
  {
   "cell_type": "code",
   "execution_count": 47,
   "id": "5d42cd6d",
   "metadata": {},
   "outputs": [],
   "source": [
    "ScoreDF= pd.DataFrame(scores)"
   ]
  },
  {
   "cell_type": "code",
   "execution_count": 48,
   "id": "a5551df6",
   "metadata": {},
   "outputs": [
    {
     "data": {
      "text/html": [
       "<div>\n",
       "<style scoped>\n",
       "    .dataframe tbody tr th:only-of-type {\n",
       "        vertical-align: middle;\n",
       "    }\n",
       "\n",
       "    .dataframe tbody tr th {\n",
       "        vertical-align: top;\n",
       "    }\n",
       "\n",
       "    .dataframe thead th {\n",
       "        text-align: right;\n",
       "    }\n",
       "</style>\n",
       "<table border=\"1\" class=\"dataframe\">\n",
       "  <thead>\n",
       "    <tr style=\"text-align: right;\">\n",
       "      <th></th>\n",
       "      <th>neg</th>\n",
       "      <th>neu</th>\n",
       "      <th>pos</th>\n",
       "      <th>compound</th>\n",
       "    </tr>\n",
       "  </thead>\n",
       "  <tbody>\n",
       "    <tr>\n",
       "      <th>0</th>\n",
       "      <td>0.104</td>\n",
       "      <td>0.663</td>\n",
       "      <td>0.234</td>\n",
       "      <td>1.0000</td>\n",
       "    </tr>\n",
       "    <tr>\n",
       "      <th>1</th>\n",
       "      <td>0.127</td>\n",
       "      <td>0.593</td>\n",
       "      <td>0.280</td>\n",
       "      <td>1.0000</td>\n",
       "    </tr>\n",
       "    <tr>\n",
       "      <th>2</th>\n",
       "      <td>0.152</td>\n",
       "      <td>0.591</td>\n",
       "      <td>0.257</td>\n",
       "      <td>1.0000</td>\n",
       "    </tr>\n",
       "    <tr>\n",
       "      <th>3</th>\n",
       "      <td>0.182</td>\n",
       "      <td>0.601</td>\n",
       "      <td>0.217</td>\n",
       "      <td>0.9999</td>\n",
       "    </tr>\n",
       "    <tr>\n",
       "      <th>4</th>\n",
       "      <td>0.232</td>\n",
       "      <td>0.559</td>\n",
       "      <td>0.210</td>\n",
       "      <td>-1.0000</td>\n",
       "    </tr>\n",
       "    <tr>\n",
       "      <th>5</th>\n",
       "      <td>0.184</td>\n",
       "      <td>0.597</td>\n",
       "      <td>0.219</td>\n",
       "      <td>1.0000</td>\n",
       "    </tr>\n",
       "    <tr>\n",
       "      <th>6</th>\n",
       "      <td>0.124</td>\n",
       "      <td>0.624</td>\n",
       "      <td>0.252</td>\n",
       "      <td>1.0000</td>\n",
       "    </tr>\n",
       "    <tr>\n",
       "      <th>7</th>\n",
       "      <td>0.099</td>\n",
       "      <td>0.600</td>\n",
       "      <td>0.301</td>\n",
       "      <td>1.0000</td>\n",
       "    </tr>\n",
       "    <tr>\n",
       "      <th>8</th>\n",
       "      <td>0.168</td>\n",
       "      <td>0.613</td>\n",
       "      <td>0.220</td>\n",
       "      <td>1.0000</td>\n",
       "    </tr>\n",
       "    <tr>\n",
       "      <th>9</th>\n",
       "      <td>0.160</td>\n",
       "      <td>0.589</td>\n",
       "      <td>0.251</td>\n",
       "      <td>1.0000</td>\n",
       "    </tr>\n",
       "    <tr>\n",
       "      <th>10</th>\n",
       "      <td>0.184</td>\n",
       "      <td>0.620</td>\n",
       "      <td>0.197</td>\n",
       "      <td>0.9985</td>\n",
       "    </tr>\n",
       "    <tr>\n",
       "      <th>11</th>\n",
       "      <td>0.108</td>\n",
       "      <td>0.594</td>\n",
       "      <td>0.298</td>\n",
       "      <td>1.0000</td>\n",
       "    </tr>\n",
       "    <tr>\n",
       "      <th>12</th>\n",
       "      <td>0.120</td>\n",
       "      <td>0.622</td>\n",
       "      <td>0.257</td>\n",
       "      <td>1.0000</td>\n",
       "    </tr>\n",
       "    <tr>\n",
       "      <th>13</th>\n",
       "      <td>0.182</td>\n",
       "      <td>0.604</td>\n",
       "      <td>0.213</td>\n",
       "      <td>0.9997</td>\n",
       "    </tr>\n",
       "    <tr>\n",
       "      <th>14</th>\n",
       "      <td>0.152</td>\n",
       "      <td>0.583</td>\n",
       "      <td>0.265</td>\n",
       "      <td>1.0000</td>\n",
       "    </tr>\n",
       "    <tr>\n",
       "      <th>15</th>\n",
       "      <td>0.155</td>\n",
       "      <td>0.591</td>\n",
       "      <td>0.254</td>\n",
       "      <td>1.0000</td>\n",
       "    </tr>\n",
       "    <tr>\n",
       "      <th>16</th>\n",
       "      <td>0.115</td>\n",
       "      <td>0.609</td>\n",
       "      <td>0.275</td>\n",
       "      <td>1.0000</td>\n",
       "    </tr>\n",
       "    <tr>\n",
       "      <th>17</th>\n",
       "      <td>0.149</td>\n",
       "      <td>0.598</td>\n",
       "      <td>0.253</td>\n",
       "      <td>1.0000</td>\n",
       "    </tr>\n",
       "    <tr>\n",
       "      <th>18</th>\n",
       "      <td>0.165</td>\n",
       "      <td>0.627</td>\n",
       "      <td>0.208</td>\n",
       "      <td>1.0000</td>\n",
       "    </tr>\n",
       "    <tr>\n",
       "      <th>19</th>\n",
       "      <td>0.133</td>\n",
       "      <td>0.583</td>\n",
       "      <td>0.284</td>\n",
       "      <td>1.0000</td>\n",
       "    </tr>\n",
       "  </tbody>\n",
       "</table>\n",
       "</div>"
      ],
      "text/plain": [
       "      neg    neu    pos  compound\n",
       "0   0.104  0.663  0.234    1.0000\n",
       "1   0.127  0.593  0.280    1.0000\n",
       "2   0.152  0.591  0.257    1.0000\n",
       "3   0.182  0.601  0.217    0.9999\n",
       "4   0.232  0.559  0.210   -1.0000\n",
       "5   0.184  0.597  0.219    1.0000\n",
       "6   0.124  0.624  0.252    1.0000\n",
       "7   0.099  0.600  0.301    1.0000\n",
       "8   0.168  0.613  0.220    1.0000\n",
       "9   0.160  0.589  0.251    1.0000\n",
       "10  0.184  0.620  0.197    0.9985\n",
       "11  0.108  0.594  0.298    1.0000\n",
       "12  0.120  0.622  0.257    1.0000\n",
       "13  0.182  0.604  0.213    0.9997\n",
       "14  0.152  0.583  0.265    1.0000\n",
       "15  0.155  0.591  0.254    1.0000\n",
       "16  0.115  0.609  0.275    1.0000\n",
       "17  0.149  0.598  0.253    1.0000\n",
       "18  0.165  0.627  0.208    1.0000\n",
       "19  0.133  0.583  0.284    1.0000"
      ]
     },
     "execution_count": 48,
     "metadata": {},
     "output_type": "execute_result"
    }
   ],
   "source": [
    "ScoreDF"
   ]
  },
  {
   "cell_type": "code",
   "execution_count": 49,
   "id": "b8fd71d4",
   "metadata": {},
   "outputs": [
    {
     "name": "stdout",
     "output_type": "stream",
     "text": [
      "Overall Sentiment Score for the multiple sentences :-  neg         0.149750\n",
      "neu         0.603050\n",
      "pos         0.247250\n",
      "compound    0.899905\n",
      "dtype: float64\n"
     ]
    }
   ],
   "source": [
    "print(\"Overall Sentiment Score for the multiple sentences :- \",ScoreDF.mean())"
   ]
  },
  {
   "cell_type": "code",
   "execution_count": 12,
   "id": "33939c40",
   "metadata": {},
   "outputs": [
    {
     "data": {
      "text/html": [
       "<div>\n",
       "<style scoped>\n",
       "    .dataframe tbody tr th:only-of-type {\n",
       "        vertical-align: middle;\n",
       "    }\n",
       "\n",
       "    .dataframe tbody tr th {\n",
       "        vertical-align: top;\n",
       "    }\n",
       "\n",
       "    .dataframe thead th {\n",
       "        text-align: right;\n",
       "    }\n",
       "</style>\n",
       "<table border=\"1\" class=\"dataframe\">\n",
       "  <thead>\n",
       "    <tr style=\"text-align: right;\">\n",
       "      <th></th>\n",
       "      <th>Unnamed: 0</th>\n",
       "      <th>Movie_Title</th>\n",
       "      <th>Rating</th>\n",
       "      <th>Review_Title</th>\n",
       "      <th>Reviews</th>\n",
       "    </tr>\n",
       "  </thead>\n",
       "  <tbody>\n",
       "    <tr>\n",
       "      <th>0</th>\n",
       "      <td>0</td>\n",
       "      <td>Avengers: Endgame (2019)</td>\n",
       "      <td>No rating</td>\n",
       "      <td>Plot holes and other blockbuster weaknesses, b...</td>\n",
       "      <td>Much like I did for Infinity War, I was caught...</td>\n",
       "    </tr>\n",
       "    <tr>\n",
       "      <th>1</th>\n",
       "      <td>0</td>\n",
       "      <td>Avengers: Endgame (2019)</td>\n",
       "      <td>10/10</td>\n",
       "      <td>Time to play the (end)game</td>\n",
       "      <td>I usually do not watch movies twice in such a ...</td>\n",
       "    </tr>\n",
       "    <tr>\n",
       "      <th>2</th>\n",
       "      <td>0</td>\n",
       "      <td>Avengers: Endgame (2019)</td>\n",
       "      <td>7/10</td>\n",
       "      <td>Forget Captain Marvel... meet The Rat!</td>\n",
       "      <td>After 'the vanishing' in Infinity War, there w...</td>\n",
       "    </tr>\n",
       "    <tr>\n",
       "      <th>3</th>\n",
       "      <td>0</td>\n",
       "      <td>Avengers: Endgame (2019)</td>\n",
       "      <td>No rating</td>\n",
       "      <td>A continuation of \"Infinity War\", Thanos has t...</td>\n",
       "      <td>My wife and I watched this movie at home on DV...</td>\n",
       "    </tr>\n",
       "    <tr>\n",
       "      <th>4</th>\n",
       "      <td>0</td>\n",
       "      <td>Avengers: Endgame (2019)</td>\n",
       "      <td>6/10</td>\n",
       "      <td>Visually great, but not an overly thrilling or...</td>\n",
       "      <td>Well, I finally got around to watching \"Avenge...</td>\n",
       "    </tr>\n",
       "  </tbody>\n",
       "</table>\n",
       "</div>"
      ],
      "text/plain": [
       "   Unnamed: 0               Movie_Title     Rating  \\\n",
       "0           0  Avengers: Endgame (2019)  No rating   \n",
       "1           0  Avengers: Endgame (2019)      10/10   \n",
       "2           0  Avengers: Endgame (2019)       7/10   \n",
       "3           0  Avengers: Endgame (2019)  No rating   \n",
       "4           0  Avengers: Endgame (2019)       6/10   \n",
       "\n",
       "                                        Review_Title  \\\n",
       "0  Plot holes and other blockbuster weaknesses, b...   \n",
       "1                         Time to play the (end)game   \n",
       "2             Forget Captain Marvel... meet The Rat!   \n",
       "3  A continuation of \"Infinity War\", Thanos has t...   \n",
       "4  Visually great, but not an overly thrilling or...   \n",
       "\n",
       "                                             Reviews  \n",
       "0  Much like I did for Infinity War, I was caught...  \n",
       "1  I usually do not watch movies twice in such a ...  \n",
       "2  After 'the vanishing' in Infinity War, there w...  \n",
       "3  My wife and I watched this movie at home on DV...  \n",
       "4  Well, I finally got around to watching \"Avenge...  "
      ]
     },
     "execution_count": 12,
     "metadata": {},
     "output_type": "execute_result"
    }
   ],
   "source": [
    "LDA_df.head()"
   ]
  },
  {
   "cell_type": "code",
   "execution_count": 13,
   "id": "831f6434",
   "metadata": {},
   "outputs": [],
   "source": [
    "LDA_text = LDA_df['Reviews']"
   ]
  },
  {
   "cell_type": "code",
   "execution_count": 104,
   "id": "bb3953cc",
   "metadata": {},
   "outputs": [
    {
     "name": "stdout",
     "output_type": "stream",
     "text": [
      "Collecting pyLDAvis\n",
      "  Downloading pyLDAvis-3.3.1.tar.gz (1.7 MB)\n",
      "  Installing build dependencies: started\n",
      "  Installing build dependencies: finished with status 'done'\n",
      "  Getting requirements to build wheel: started\n",
      "  Getting requirements to build wheel: finished with status 'done'\n",
      "  Installing backend dependencies: started\n",
      "  Installing backend dependencies: finished with status 'done'\n",
      "    Preparing wheel metadata: started\n",
      "    Preparing wheel metadata: finished with status 'done'\n",
      "Requirement already satisfied: jinja2 in c:\\users\\hp\\anaconda3\\lib\\site-packages (from pyLDAvis) (2.11.3)\n",
      "Requirement already satisfied: numpy>=1.20.0 in c:\\users\\hp\\anaconda3\\lib\\site-packages (from pyLDAvis) (1.20.1)\n",
      "Requirement already satisfied: future in c:\\users\\hp\\anaconda3\\lib\\site-packages (from pyLDAvis) (0.18.2)\n",
      "Collecting sklearn\n",
      "  Downloading sklearn-0.0.tar.gz (1.1 kB)\n",
      "Requirement already satisfied: joblib in c:\\users\\hp\\anaconda3\\lib\\site-packages (from pyLDAvis) (1.0.1)\n",
      "Requirement already satisfied: setuptools in c:\\users\\hp\\anaconda3\\lib\\site-packages (from pyLDAvis) (52.0.0.post20210125)\n",
      "Requirement already satisfied: scipy in c:\\users\\hp\\anaconda3\\lib\\site-packages (from pyLDAvis) (1.6.2)\n",
      "Requirement already satisfied: pandas>=1.2.0 in c:\\users\\hp\\anaconda3\\lib\\site-packages (from pyLDAvis) (1.2.4)\n",
      "Requirement already satisfied: gensim in c:\\users\\hp\\anaconda3\\lib\\site-packages (from pyLDAvis) (4.1.0)\n",
      "Requirement already satisfied: scikit-learn in c:\\users\\hp\\anaconda3\\lib\\site-packages (from pyLDAvis) (0.24.1)\n",
      "Requirement already satisfied: numexpr in c:\\users\\hp\\anaconda3\\lib\\site-packages (from pyLDAvis) (2.7.3)\n",
      "Collecting funcy\n",
      "  Downloading funcy-1.16-py2.py3-none-any.whl (32 kB)\n",
      "Requirement already satisfied: python-dateutil>=2.7.3 in c:\\users\\hp\\anaconda3\\lib\\site-packages (from pandas>=1.2.0->pyLDAvis) (2.8.1)\n",
      "Requirement already satisfied: pytz>=2017.3 in c:\\users\\hp\\anaconda3\\lib\\site-packages (from pandas>=1.2.0->pyLDAvis) (2021.1)\n",
      "Requirement already satisfied: six>=1.5 in c:\\users\\hp\\anaconda3\\lib\\site-packages (from python-dateutil>=2.7.3->pandas>=1.2.0->pyLDAvis) (1.15.0)\n",
      "Requirement already satisfied: Cython==0.29.23 in c:\\users\\hp\\anaconda3\\lib\\site-packages (from gensim->pyLDAvis) (0.29.23)\n",
      "Requirement already satisfied: smart-open>=1.8.1 in c:\\users\\hp\\anaconda3\\lib\\site-packages (from gensim->pyLDAvis) (5.2.1)\n",
      "Requirement already satisfied: MarkupSafe>=0.23 in c:\\users\\hp\\anaconda3\\lib\\site-packages (from jinja2->pyLDAvis) (1.1.1)\n",
      "Requirement already satisfied: threadpoolctl>=2.0.0 in c:\\users\\hp\\anaconda3\\lib\\site-packages (from scikit-learn->pyLDAvis) (2.1.0)\n",
      "Building wheels for collected packages: pyLDAvis, sklearn\n",
      "  Building wheel for pyLDAvis (PEP 517): started\n",
      "  Building wheel for pyLDAvis (PEP 517): finished with status 'done'\n",
      "  Created wheel for pyLDAvis: filename=pyLDAvis-3.3.1-py2.py3-none-any.whl size=136897 sha256=fece26d775e269675288c1802b88635c91114aaad2e2bb9156873356fb8e55f4\n",
      "  Stored in directory: c:\\users\\hp\\appdata\\local\\pip\\cache\\wheels\\90\\61\\ec\\9dbe9efc3acf9c4e37ba70fbbcc3f3a0ebd121060aa593181a\n",
      "  Building wheel for sklearn (setup.py): started\n",
      "  Building wheel for sklearn (setup.py): finished with status 'done'\n",
      "  Created wheel for sklearn: filename=sklearn-0.0-py2.py3-none-any.whl size=1316 sha256=e183b216fe60399a39ff4bb79b748a7d30608973e691a418083473e4d13b05f6\n",
      "  Stored in directory: c:\\users\\hp\\appdata\\local\\pip\\cache\\wheels\\22\\0b\\40\\fd3f795caaa1fb4c6cb738bc1f56100be1e57da95849bfc897\n",
      "Successfully built pyLDAvis sklearn\n",
      "Installing collected packages: sklearn, funcy, pyLDAvis\n",
      "Successfully installed funcy-1.16 pyLDAvis-3.3.1 sklearn-0.0\n"
     ]
    }
   ],
   "source": [
    "#!pip install spacy\n",
    "!pip install pyLDAvis"
   ]
  },
  {
   "cell_type": "code",
   "execution_count": 107,
   "id": "e8022d68",
   "metadata": {},
   "outputs": [
    {
     "name": "stderr",
     "output_type": "stream",
     "text": [
      "C:\\Users\\HP\\anaconda3\\lib\\site-packages\\ipykernel\\ipkernel.py:287: DeprecationWarning: `should_run_async` will not call `transform_cell` automatically in the future. Please pass the result to `transformed_cell` argument and any exception that happen during thetransform in `preprocessing_exc_tuple` in IPython 7.17 and above.\n",
      "  and should_run_async(code)\n"
     ]
    }
   ],
   "source": [
    "import pandas as pd\n",
    "pd.set_option(\"display.max_colwidth\", 200)\n",
    "import numpy as np\n",
    "import re\n",
    "import spacy\n",
    "\n",
    "import gensim\n",
    "from gensim import corpora\n",
    "\n",
    "# libraries for visualization\n",
    "import pyLDAvis\n",
    "import pyLDAvis.gensim_models as gensimvis\n",
    "import matplotlib.pyplot as plt\n",
    "import seaborn as sns\n",
    "%matplotlib inline"
   ]
  },
  {
   "cell_type": "code",
   "execution_count": 109,
   "id": "59438cfd",
   "metadata": {},
   "outputs": [
    {
     "name": "stderr",
     "output_type": "stream",
     "text": [
      "C:\\Users\\HP\\anaconda3\\lib\\site-packages\\ipykernel\\ipkernel.py:287: DeprecationWarning: `should_run_async` will not call `transform_cell` automatically in the future. Please pass the result to `transformed_cell` argument and any exception that happen during thetransform in `preprocessing_exc_tuple` in IPython 7.17 and above.\n",
      "  and should_run_async(code)\n",
      "[nltk_data] Downloading package stopwords to\n",
      "[nltk_data]     C:\\Users\\HP\\AppData\\Roaming\\nltk_data...\n",
      "[nltk_data]   Package stopwords is already up-to-date!\n"
     ]
    },
    {
     "data": {
      "text/plain": [
       "True"
      ]
     },
     "execution_count": 109,
     "metadata": {},
     "output_type": "execute_result"
    }
   ],
   "source": [
    "import nltk\n",
    "from nltk import FreqDist\n",
    "nltk.download('stopwords')"
   ]
  },
  {
   "cell_type": "code",
   "execution_count": 108,
   "id": "0ed3d5a7",
   "metadata": {},
   "outputs": [
    {
     "name": "stderr",
     "output_type": "stream",
     "text": [
      "C:\\Users\\HP\\anaconda3\\lib\\site-packages\\ipykernel\\ipkernel.py:287: DeprecationWarning: `should_run_async` will not call `transform_cell` automatically in the future. Please pass the result to `transformed_cell` argument and any exception that happen during thetransform in `preprocessing_exc_tuple` in IPython 7.17 and above.\n",
      "  and should_run_async(code)\n"
     ]
    }
   ],
   "source": [
    "# function to plot most frequent terms\n",
    "def freq_words(x, terms = 30):\n",
    "  all_words = ' '.join([text for text in x])\n",
    "  all_words = all_words.split()\n",
    "\n",
    "  fdist = FreqDist(all_words)\n",
    "  words_df = pd.DataFrame({'word':list(fdist.keys()), 'count':list(fdist.values())})\n",
    "\n",
    "  # selecting top 20 most frequent words\n",
    "  d = words_df.nlargest(columns=\"count\", n = terms) \n",
    "  plt.figure(figsize=(20,5))\n",
    "  ax = sns.barplot(data=d, x= \"word\", y = \"count\")\n",
    "  ax.set(ylabel = 'Count')\n",
    "  plt.show()"
   ]
  },
  {
   "cell_type": "code",
   "execution_count": 110,
   "id": "7e421a71",
   "metadata": {},
   "outputs": [
    {
     "name": "stderr",
     "output_type": "stream",
     "text": [
      "C:\\Users\\HP\\anaconda3\\lib\\site-packages\\ipykernel\\ipkernel.py:287: DeprecationWarning: `should_run_async` will not call `transform_cell` automatically in the future. Please pass the result to `transformed_cell` argument and any exception that happen during thetransform in `preprocessing_exc_tuple` in IPython 7.17 and above.\n",
      "  and should_run_async(code)\n"
     ]
    },
    {
     "data": {
      "image/png": "[encoded data removed]",
      "text/plain": [
       "<Figure size 1440x360 with 1 Axes>"
      ]
     },
     "metadata": {
      "needs_background": "light"
     },
     "output_type": "display_data"
    }
   ],
   "source": [
    "freq_words(LDA_text)"
   ]
  },
  {
   "cell_type": "code",
   "execution_count": 111,
   "id": "071e8237",
   "metadata": {},
   "outputs": [
    {
     "name": "stderr",
     "output_type": "stream",
     "text": [
      "C:\\Users\\HP\\anaconda3\\lib\\site-packages\\ipykernel\\ipkernel.py:287: DeprecationWarning: `should_run_async` will not call `transform_cell` automatically in the future. Please pass the result to `transformed_cell` argument and any exception that happen during thetransform in `preprocessing_exc_tuple` in IPython 7.17 and above.\n",
      "  and should_run_async(code)\n",
      "<ipython-input-111-9b79130df2d0>:2: FutureWarning: The default value of regex will change from True to False in a future version.\n",
      "  LDA_text = LDA_text.str.replace(\"[^a-zA-Z#]\", \" \")\n"
     ]
    }
   ],
   "source": [
    "# remove unwanted characters, numbers and symbols\n",
    "LDA_text = LDA_text.str.replace(\"[^a-zA-Z#]\", \" \")"
   ]
  },
  {
   "cell_type": "code",
   "execution_count": 113,
   "id": "5cfb5728",
   "metadata": {},
   "outputs": [
    {
     "name": "stderr",
     "output_type": "stream",
     "text": [
      "C:\\Users\\HP\\anaconda3\\lib\\site-packages\\ipykernel\\ipkernel.py:287: DeprecationWarning: `should_run_async` will not call `transform_cell` automatically in the future. Please pass the result to `transformed_cell` argument and any exception that happen during thetransform in `preprocessing_exc_tuple` in IPython 7.17 and above.\n",
      "  and should_run_async(code)\n"
     ]
    }
   ],
   "source": [
    "from nltk.corpus import stopwords\n",
    "stop_words = stopwords.words('english')"
   ]
  },
  {
   "cell_type": "code",
   "execution_count": 115,
   "id": "5a77921a",
   "metadata": {},
   "outputs": [
    {
     "name": "stderr",
     "output_type": "stream",
     "text": [
      "C:\\Users\\HP\\anaconda3\\lib\\site-packages\\ipykernel\\ipkernel.py:287: DeprecationWarning: `should_run_async` will not call `transform_cell` automatically in the future. Please pass the result to `transformed_cell` argument and any exception that happen during thetransform in `preprocessing_exc_tuple` in IPython 7.17 and above.\n",
      "  and should_run_async(code)\n"
     ]
    }
   ],
   "source": [
    "# function to remove stopwords\n",
    "def remove_stopwords(rev):\n",
    "    rev_new = \" \".join([i for i in rev if i not in stop_words])\n",
    "    return rev_new\n",
    "\n",
    "# remove short words (length < 3)\n",
    "LDA_text  = LDA_text .apply(lambda x: ' '.join([w for w in x.split() if len(w)>2]))\n",
    "\n",
    "# remove stopwords from the text\n",
    "reviews = [remove_stopwords(r.split()) for r in LDA_text ]\n",
    "\n",
    "# make entire text lowercase\n",
    "reviews = [r.lower() for r in reviews]"
   ]
  },
  {
   "cell_type": "code",
   "execution_count": 117,
   "id": "604f10de",
   "metadata": {},
   "outputs": [
    {
     "name": "stderr",
     "output_type": "stream",
     "text": [
      "C:\\Users\\HP\\anaconda3\\lib\\site-packages\\ipykernel\\ipkernel.py:287: DeprecationWarning: `should_run_async` will not call `transform_cell` automatically in the future. Please pass the result to `transformed_cell` argument and any exception that happen during thetransform in `preprocessing_exc_tuple` in IPython 7.17 and above.\n",
      "  and should_run_async(code)\n"
     ]
    },
    {
     "data": {
      "image/png": "[encoded data removed]",
      "text/plain": [
       "<Figure size 1440x360 with 1 Axes>"
      ]
     },
     "metadata": {
      "needs_background": "light"
     },
     "output_type": "display_data"
    }
   ],
   "source": [
    "freq_words(reviews, 35)"
   ]
  },
  {
   "cell_type": "code",
   "execution_count": 127,
   "id": "ee9422fa",
   "metadata": {},
   "outputs": [
    {
     "name": "stderr",
     "output_type": "stream",
     "text": [
      "C:\\Users\\HP\\anaconda3\\lib\\site-packages\\ipykernel\\ipkernel.py:287: DeprecationWarning: `should_run_async` will not call `transform_cell` automatically in the future. Please pass the result to `transformed_cell` argument and any exception that happen during thetransform in `preprocessing_exc_tuple` in IPython 7.17 and above.\n",
      "  and should_run_async(code)\n"
     ]
    },
    {
     "name": "stdout",
     "output_type": "stream",
     "text": [
      "Collecting en-core-web-sm==3.1.0\n",
      "  Downloading https://github.com/explosion/spacy-models/releases/download/en_core_web_sm-3.1.0/en_core_web_sm-3.1.0-py3-none-any.whl (13.6 MB)\n",
      "Requirement already satisfied: spacy<3.2.0,>=3.1.0 in c:\\users\\hp\\anaconda3\\lib\\site-packages (from en-core-web-sm==3.1.0) (3.1.3)\n",
      "Requirement already satisfied: pydantic!=1.8,!=1.8.1,<1.9.0,>=1.7.4 in c:\\users\\hp\\anaconda3\\lib\\site-packages (from spacy<3.2.0,>=3.1.0->en-core-web-sm==3.1.0) (1.8.2)\n",
      "Requirement already satisfied: pathy>=0.3.5 in c:\\users\\hp\\anaconda3\\lib\\site-packages (from spacy<3.2.0,>=3.1.0->en-core-web-sm==3.1.0) (0.6.0)\n",
      "Requirement already satisfied: thinc<8.1.0,>=8.0.9 in c:\\users\\hp\\anaconda3\\lib\\site-packages (from spacy<3.2.0,>=3.1.0->en-core-web-sm==3.1.0) (8.0.11)\n",
      "Requirement already satisfied: numpy>=1.15.0 in c:\\users\\hp\\anaconda3\\lib\\site-packages (from spacy<3.2.0,>=3.1.0->en-core-web-sm==3.1.0) (1.20.1)\n",
      "Requirement already satisfied: setuptools in c:\\users\\hp\\anaconda3\\lib\\site-packages (from spacy<3.2.0,>=3.1.0->en-core-web-sm==3.1.0) (52.0.0.post20210125)\n",
      "Requirement already satisfied: blis<0.8.0,>=0.4.0 in c:\\users\\hp\\anaconda3\\lib\\site-packages (from spacy<3.2.0,>=3.1.0->en-core-web-sm==3.1.0) (0.7.5)\n",
      "Requirement already satisfied: requests<3.0.0,>=2.13.0 in c:\\users\\hp\\anaconda3\\lib\\site-packages (from spacy<3.2.0,>=3.1.0->en-core-web-sm==3.1.0) (2.25.1)\n",
      "Requirement already satisfied: tqdm<5.0.0,>=4.38.0 in c:\\users\\hp\\anaconda3\\lib\\site-packages (from spacy<3.2.0,>=3.1.0->en-core-web-sm==3.1.0) (4.59.0)\n",
      "Requirement already satisfied: jinja2 in c:\\users\\hp\\anaconda3\\lib\\site-packages (from spacy<3.2.0,>=3.1.0->en-core-web-sm==3.1.0) (2.11.3)\n",
      "Requirement already satisfied: cymem<2.1.0,>=2.0.2 in c:\\users\\hp\\anaconda3\\lib\\site-packages (from spacy<3.2.0,>=3.1.0->en-core-web-sm==3.1.0) (2.0.6)\n",
      "Requirement already satisfied: preshed<3.1.0,>=3.0.2 in c:\\users\\hp\\anaconda3\\lib\\site-packages (from spacy<3.2.0,>=3.1.0->en-core-web-sm==3.1.0) (3.0.6)\n",
      "Requirement already satisfied: wasabi<1.1.0,>=0.8.1 in c:\\users\\hp\\anaconda3\\lib\\site-packages (from spacy<3.2.0,>=3.1.0->en-core-web-sm==3.1.0) (0.8.2)\n",
      "Requirement already satisfied: spacy-legacy<3.1.0,>=3.0.8 in c:\\users\\hp\\anaconda3\\lib\\site-packages (from spacy<3.2.0,>=3.1.0->en-core-web-sm==3.1.0) (3.0.8)\n",
      "Requirement already satisfied: murmurhash<1.1.0,>=0.28.0 in c:\\users\\hp\\anaconda3\\lib\\site-packages (from spacy<3.2.0,>=3.1.0->en-core-web-sm==3.1.0) (1.0.6)\n",
      "Requirement already satisfied: catalogue<2.1.0,>=2.0.6 in c:\\users\\hp\\anaconda3\\lib\\site-packages (from spacy<3.2.0,>=3.1.0->en-core-web-sm==3.1.0) (2.0.6)\n",
      "Requirement already satisfied: packaging>=20.0 in c:\\users\\hp\\anaconda3\\lib\\site-packages (from spacy<3.2.0,>=3.1.0->en-core-web-sm==3.1.0) (20.9)\n",
      "Requirement already satisfied: typer<0.5.0,>=0.3.0 in c:\\users\\hp\\anaconda3\\lib\\site-packages (from spacy<3.2.0,>=3.1.0->en-core-web-sm==3.1.0) (0.4.0)\n",
      "Requirement already satisfied: srsly<3.0.0,>=2.4.1 in c:\\users\\hp\\anaconda3\\lib\\site-packages (from spacy<3.2.0,>=3.1.0->en-core-web-sm==3.1.0) (2.4.2)\n",
      "Requirement already satisfied: pyparsing>=2.0.2 in c:\\users\\hp\\anaconda3\\lib\\site-packages (from packaging>=20.0->spacy<3.2.0,>=3.1.0->en-core-web-sm==3.1.0) (2.4.7)\n",
      "Requirement already satisfied: smart-open<6.0.0,>=5.0.0 in c:\\users\\hp\\anaconda3\\lib\\site-packages (from pathy>=0.3.5->spacy<3.2.0,>=3.1.0->en-core-web-sm==3.1.0) (5.2.1)\n",
      "Requirement already satisfied: typing-extensions>=3.7.4.3 in c:\\users\\hp\\anaconda3\\lib\\site-packages (from pydantic!=1.8,!=1.8.1,<1.9.0,>=1.7.4->spacy<3.2.0,>=3.1.0->en-core-web-sm==3.1.0) (3.7.4.3)\n",
      "Requirement already satisfied: urllib3<1.27,>=1.21.1 in c:\\users\\hp\\anaconda3\\lib\\site-packages (from requests<3.0.0,>=2.13.0->spacy<3.2.0,>=3.1.0->en-core-web-sm==3.1.0) (1.26.4)\n",
      "Requirement already satisfied: certifi>=2017.4.17 in c:\\users\\hp\\anaconda3\\lib\\site-packages (from requests<3.0.0,>=2.13.0->spacy<3.2.0,>=3.1.0->en-core-web-sm==3.1.0) (2020.12.5)\n",
      "Requirement already satisfied: idna<3,>=2.5 in c:\\users\\hp\\anaconda3\\lib\\site-packages (from requests<3.0.0,>=2.13.0->spacy<3.2.0,>=3.1.0->en-core-web-sm==3.1.0) (2.10)\n",
      "Requirement already satisfied: chardet<5,>=3.0.2 in c:\\users\\hp\\anaconda3\\lib\\site-packages (from requests<3.0.0,>=2.13.0->spacy<3.2.0,>=3.1.0->en-core-web-sm==3.1.0) (4.0.0)\n",
      "Requirement already satisfied: click<9.0.0,>=7.1.1 in c:\\users\\hp\\anaconda3\\lib\\site-packages (from typer<0.5.0,>=0.3.0->spacy<3.2.0,>=3.1.0->en-core-web-sm==3.1.0) (7.1.2)\n",
      "Requirement already satisfied: MarkupSafe>=0.23 in c:\\users\\hp\\anaconda3\\lib\\site-packages (from jinja2->spacy<3.2.0,>=3.1.0->en-core-web-sm==3.1.0) (1.1.1)\n",
      "Installing collected packages: en-core-web-sm\n",
      "Successfully installed en-core-web-sm-3.1.0\n",
      "[+] Download and installation successful\n",
      "You can now load the package via spacy.load('en_core_web_sm')\n"
     ]
    }
   ],
   "source": [
    "!python -m spacy download en_core_web_sm"
   ]
  },
  {
   "cell_type": "code",
   "execution_count": 128,
   "id": "eab5853d",
   "metadata": {},
   "outputs": [
    {
     "name": "stderr",
     "output_type": "stream",
     "text": [
      "C:\\Users\\HP\\anaconda3\\lib\\site-packages\\ipykernel\\ipkernel.py:287: DeprecationWarning: `should_run_async` will not call `transform_cell` automatically in the future. Please pass the result to `transformed_cell` argument and any exception that happen during thetransform in `preprocessing_exc_tuple` in IPython 7.17 and above.\n",
      "  and should_run_async(code)\n"
     ]
    }
   ],
   "source": [
    "nlp = spacy.load(\"en_core_web_sm\")\n",
    "\n",
    "def lemmatization(texts, tags=['NOUN', 'ADJ']): # filter noun and adjective\n",
    "       output = []\n",
    "       for sent in texts:\n",
    "             doc = nlp(\" \".join(sent)) \n",
    "             output.append([token.lemma_ for token in doc if token.pos_ in tags])\n",
    "       return output"
   ]
  },
  {
   "cell_type": "code",
   "execution_count": 129,
   "id": "f9d6b151",
   "metadata": {},
   "outputs": [
    {
     "name": "stdout",
     "output_type": "stream",
     "text": [
      "['usually', 'watch', 'movies', 'twice', 'short', 'amount', 'time', 'but', 'double', 'feature', 'midnight', 'premiere', 'infinity', 'war', 'almost', 'weeks', 'ago', 'watched', 'endgame', 'yesterday', 'amazing', 'first', 'impression', 'and', 'spoil', 'anything', 'endgame', 'talk', 'things', 'infinity', 'war', 'seen', 'yet', 'blame', 'anything', 'revealed', 'summary', 'pop', 'culture', 'reference', 'quite', 'marvel', 'movies', 'hinting', 'franchises', 'alien', 'got', 'name', 'checked', 'example', 'infinity', 'war', 'even', 'copied', 'homaged', 'endgame', 'but', 'little', 'digs', 'important', 'nice', 'touches', 'know', 'having', 'understanding', 'mcu', 'whole', 'phase', 'phase', 'way', 'important', 'and', 'someone', 'familiar', 'comics', 'tell', 'knowing', 'movies', 'enough', 'enjoy', 'franchise', 'still', 'google', 'stuff', 'even', 'make', 'conclusions', 'now', 'lot', 'foreword', 'even', 'gotten', 'one', 'word', 'endgame', 'but', 'said', 'spoilers', 'what', 'know', 'trailers', 'beginning', 'but', 'whatever', 'saw', 'thought', 'knew', 'happens', 'even', 'half', 'hour', 'movie', 'rattle', 'now', 'yes', 'first', 'hour', 'movie', 'slow', 'there', 'ramifications', 'snap', 'characters', 'learned', 'love', 'close', 'heart', 'torn', 'apart', 'quite', 'literally', 'gone', 'wind', 'everyone', 'thinking', 'going', 'resolved', 'pun', 'intended', 'and', 'movie', 'give', 'answers', 'even', 'try', 'sort', 'explain', 'things', 'quite', 'unexplainable', 'and', 'full', 'drama', 'still', 'lot', 'humor', 'the', 'movie', 'takes', 'beloved', 'characters', 'things', 'rather', 'weight', 'happened', 'things', 'what', 'exactly', 'well', 'would', 'telling', 'let', 'tell', 'bold', 'choices', 'made', 'and', 'emotional', 'least', 'scenes', 'taking', 'away', 'lot', 'fun', 'cynic', 'times', 'taking', 'apart', 'every', 'movie', 'hurting', 'viewing', 'pleasure', 'there', 'much', 'love', 'characters', 'details', 'fans', 'rollercoaster', 'afraid', 'say', 'shed', 'couple', 'tears', 'tying', 'knots', 'bringing', 'certain', 'things', 'conclusion', 'that', 'mean', 'anything', 'coming', 'know', 'next', 'spiderman', 'movie', 'infinity', 'war', 'and', 'familiar', 'faces', 'coming', 'back', 'endgame', 'movies', 'seen', 'also', 'new', 'cameos', 'like', 'ken', 'jeong', 'guessing', 'deleted', 'scene', 'scene', 'seems', 'short', 'storytelling', 'purposes', 'reckon', 'epic', 'fights', 'epic', 'emotions', 'dialog', 'hinting', 'things', 'come', 'later', 'movie', 'see', 'even', 'clearer', 'repeat', 'viewing', 'the', 'russos', 'kudos', 'kevin', 'feige', 'stan', 'lee', 'rip', 'everyone', 'else', 'involved', 'course', 'edit', 'endgame', 'works', 'even', 'people', 'seen', 'single', 'mcu', 'movie', 'yet', 'confirmed', 'friend', 'mine', 'but', 'course', 'gravitas', 'conclusions', 'everything', 'work', 'way', 'better', 'seen', 'rest', 'movies', 'also', 'let', 'add', 'technically', 'sound', 'would', 'put', 'plain', 'great', 'visually', 'speaking', 'but', 'reckon', 'given', 'anyway', 'popcorn', 'nachos', 'whatever', 'prefer', 'perfection']\n"
     ]
    },
    {
     "name": "stderr",
     "output_type": "stream",
     "text": [
      "C:\\Users\\HP\\anaconda3\\lib\\site-packages\\ipykernel\\ipkernel.py:287: DeprecationWarning: `should_run_async` will not call `transform_cell` automatically in the future. Please pass the result to `transformed_cell` argument and any exception that happen during thetransform in `preprocessing_exc_tuple` in IPython 7.17 and above.\n",
      "  and should_run_async(code)\n"
     ]
    }
   ],
   "source": [
    "tokenized_reviews = pd.Series(reviews).apply(lambda x: x.split())\n",
    "print(tokenized_reviews[1])"
   ]
  },
  {
   "cell_type": "code",
   "execution_count": 130,
   "id": "c813617a",
   "metadata": {},
   "outputs": [
    {
     "name": "stderr",
     "output_type": "stream",
     "text": [
      "C:\\Users\\HP\\anaconda3\\lib\\site-packages\\ipykernel\\ipkernel.py:287: DeprecationWarning: `should_run_async` will not call `transform_cell` automatically in the future. Please pass the result to `transformed_cell` argument and any exception that happen during thetransform in `preprocessing_exc_tuple` in IPython 7.17 and above.\n",
      "  and should_run_async(code)\n"
     ]
    },
    {
     "name": "stdout",
     "output_type": "stream",
     "text": [
      "['movie', 'short', 'amount', 'time', 'double', 'feature', 'midnight', 'premiere', 'infinity', 'war', 'week', 'endgame', 'yesterday', 'amazing', 'first', 'impression', 'spoil', 'talk', 'thing', 'infinity', 'war', 'summary', 'pop', 'culture', 'reference', 'movie', 'franchise', 'alien', 'name', 'example', 'infinity', 'war', 'homaged', 'endgame', 'little', 'dig', 'important', 'nice', 'touch', 'mcu', 'whole', 'phase', 'phase', 'way', 'important', 'familiar', 'comic_strip', 'movie', 'enough', 'franchise', 'stuff', 'conclusion', 'lot', 'foreword', 'word', 'endgame', 'spoiler', 'trailer', 'thought', 'half', 'hour', 'movie', 'rattle', 'first', 'hour', 'movie', 'slow', 'ramification', 'character', 'close', 'heart', 'wind', 'pun', 'movie', 'answer', 'thing', 'unexplainable', 'full', 'drama', 'lot', 'humor', 'movie', 'beloved', 'character', 'thing', 'weight', 'thing', 'bold', 'choice', 'emotional', 'least', 'scene', 'lot', 'fun', 'cynic', 'time', 'movie', 'pleasure', 'much', 'love', 'character', 'fan', 'couple', 'tear', 'knot', 'certain', 'thing', 'conclusion', 'next', 'spiderman', 'movie', 'infinity', 'war', 'familiar', 'face', 'endgame', 'movie', 'new', 'cameo', 'scene', 'scene', 'short', 'storytelling', 'purpose', 'epic', 'epic', 'emotion', 'dialog', 'hinting', 'thing', 'late', 'movie', 'clear', 'repeat', 'kudo', 'course', 'edit', 'endgame', 'people', 'single', 'mcu', 'movie', 'friend', 'course', 'conclusion', 'work', 'rest', 'movie', 'sound', 'great', 'reckon', 'popcorn', 'nachos', 'perfection']\n"
     ]
    }
   ],
   "source": [
    "reviews_2 = lemmatization(tokenized_reviews)\n",
    "print(reviews_2[1]) # print lemmatized review"
   ]
  },
  {
   "cell_type": "code",
   "execution_count": 139,
   "id": "7e1ec32d",
   "metadata": {},
   "outputs": [
    {
     "name": "stderr",
     "output_type": "stream",
     "text": [
      "C:\\Users\\HP\\anaconda3\\lib\\site-packages\\ipykernel\\ipkernel.py:287: DeprecationWarning: `should_run_async` will not call `transform_cell` automatically in the future. Please pass the result to `transformed_cell` argument and any exception that happen during thetransform in `preprocessing_exc_tuple` in IPython 7.17 and above.\n",
      "  and should_run_async(code)\n"
     ]
    },
    {
     "data": {
      "text/plain": [
       "1412"
      ]
     },
     "execution_count": 139,
     "metadata": {},
     "output_type": "execute_result"
    }
   ],
   "source": [
    "len(reviews_2)"
   ]
  },
  {
   "cell_type": "code",
   "execution_count": 131,
   "id": "c09063aa",
   "metadata": {},
   "outputs": [
    {
     "name": "stderr",
     "output_type": "stream",
     "text": [
      "C:\\Users\\HP\\anaconda3\\lib\\site-packages\\ipykernel\\ipkernel.py:287: DeprecationWarning: `should_run_async` will not call `transform_cell` automatically in the future. Please pass the result to `transformed_cell` argument and any exception that happen during thetransform in `preprocessing_exc_tuple` in IPython 7.17 and above.\n",
      "  and should_run_async(code)\n"
     ]
    },
    {
     "data": {
      "image/png": "[encoded data removed]",
      "text/plain": [
       "<Figure size 1440x360 with 1 Axes>"
      ]
     },
     "metadata": {
      "needs_background": "light"
     },
     "output_type": "display_data"
    }
   ],
   "source": [
    "reviews_3 = []\n",
    "for i in range(len(reviews_2)):\n",
    "    reviews_3.append(' '.join(reviews_2[i]))\n",
    "\n",
    "LDA_text = reviews_3\n",
    "\n",
    "freq_words(LDA_text, 35)"
   ]
  },
  {
   "cell_type": "code",
   "execution_count": 132,
   "id": "c184bc67",
   "metadata": {},
   "outputs": [
    {
     "name": "stderr",
     "output_type": "stream",
     "text": [
      "C:\\Users\\HP\\anaconda3\\lib\\site-packages\\ipykernel\\ipkernel.py:287: DeprecationWarning: `should_run_async` will not call `transform_cell` automatically in the future. Please pass the result to `transformed_cell` argument and any exception that happen during thetransform in `preprocessing_exc_tuple` in IPython 7.17 and above.\n",
      "  and should_run_async(code)\n"
     ]
    }
   ],
   "source": [
    "dictionary = corpora.Dictionary(reviews_2)"
   ]
  },
  {
   "cell_type": "code",
   "execution_count": 133,
   "id": "39a855e2",
   "metadata": {},
   "outputs": [
    {
     "name": "stderr",
     "output_type": "stream",
     "text": [
      "C:\\Users\\HP\\anaconda3\\lib\\site-packages\\ipykernel\\ipkernel.py:287: DeprecationWarning: `should_run_async` will not call `transform_cell` automatically in the future. Please pass the result to `transformed_cell` argument and any exception that happen during thetransform in `preprocessing_exc_tuple` in IPython 7.17 and above.\n",
      "  and should_run_async(code)\n"
     ]
    }
   ],
   "source": [
    "doc_term_matrix = [dictionary.doc2bow(rev) for rev in reviews_2]"
   ]
  },
  {
   "cell_type": "code",
   "execution_count": 134,
   "id": "7e7c659a",
   "metadata": {},
   "outputs": [
    {
     "name": "stderr",
     "output_type": "stream",
     "text": [
      "C:\\Users\\HP\\anaconda3\\lib\\site-packages\\ipykernel\\ipkernel.py:287: DeprecationWarning: `should_run_async` will not call `transform_cell` automatically in the future. Please pass the result to `transformed_cell` argument and any exception that happen during thetransform in `preprocessing_exc_tuple` in IPython 7.17 and above.\n",
      "  and should_run_async(code)\n"
     ]
    }
   ],
   "source": [
    "LDA = gensim.models.ldamodel.LdaModel"
   ]
  },
  {
   "cell_type": "code",
   "execution_count": 140,
   "id": "53400526",
   "metadata": {},
   "outputs": [
    {
     "name": "stderr",
     "output_type": "stream",
     "text": [
      "C:\\Users\\HP\\anaconda3\\lib\\site-packages\\ipykernel\\ipkernel.py:287: DeprecationWarning: `should_run_async` will not call `transform_cell` automatically in the future. Please pass the result to `transformed_cell` argument and any exception that happen during thetransform in `preprocessing_exc_tuple` in IPython 7.17 and above.\n",
      "  and should_run_async(code)\n"
     ]
    }
   ],
   "source": [
    "lda_model = LDA(corpus=doc_term_matrix, id2word=dictionary, num_topics=7, random_state=100,\n",
    "                chunksize=1412, passes=50, alpha = 'auto', per_word_topics = True)"
   ]
  },
  {
   "cell_type": "code",
   "execution_count": 141,
   "id": "9d917d40",
   "metadata": {},
   "outputs": [
    {
     "name": "stderr",
     "output_type": "stream",
     "text": [
      "C:\\Users\\HP\\anaconda3\\lib\\site-packages\\ipykernel\\ipkernel.py:287: DeprecationWarning: `should_run_async` will not call `transform_cell` automatically in the future. Please pass the result to `transformed_cell` argument and any exception that happen during thetransform in `preprocessing_exc_tuple` in IPython 7.17 and above.\n",
      "  and should_run_async(code)\n"
     ]
    },
    {
     "data": {
      "text/plain": [
       "[(0,\n",
       "  '0.024*\"new\" + 0.022*\"film\" + 0.022*\"star\" + 0.018*\"character\" + 0.017*\"war\" + 0.012*\"first\" + 0.012*\"good\" + 0.011*\"force\" + 0.010*\"original\" + 0.010*\"beast\"'),\n",
       " (1,\n",
       "  '0.039*\"movie\" + 0.023*\"film\" + 0.014*\"good\" + 0.013*\"bad\" + 0.010*\"character\" + 0.008*\"scene\" + 0.008*\"time\" + 0.007*\"actor\" + 0.006*\"disaster\" + 0.006*\"story\"'),\n",
       " (2,\n",
       "  '0.064*\"movie\" + 0.015*\"film\" + 0.014*\"good\" + 0.012*\"bad\" + 0.011*\"time\" + 0.010*\"story\" + 0.009*\"character\" + 0.009*\"action\" + 0.007*\"people\" + 0.007*\"thing\"'),\n",
       " (3,\n",
       "  '0.039*\"film\" + 0.016*\"character\" + 0.013*\"time\" + 0.012*\"good\" + 0.011*\"movie\" + 0.010*\"action\" + 0.009*\"story\" + 0.008*\"great\" + 0.007*\"big\" + 0.006*\"many\"'),\n",
       " (4,\n",
       "  '0.017*\"film\" + 0.004*\"khalar\" + 0.004*\"zym\" + 0.004*\"old\" + 0.003*\"mask\" + 0.003*\"war\" + 0.003*\"story\" + 0.003*\"force\" + 0.003*\"thing\" + 0.002*\"problem\"'),\n",
       " (5,\n",
       "  '0.027*\"film\" + 0.014*\"story\" + 0.010*\"original\" + 0.009*\"character\" + 0.008*\"good\" + 0.008*\"movie\" + 0.008*\"new\" + 0.007*\"song\" + 0.007*\"animation\" + 0.006*\"time\"'),\n",
       " (6,\n",
       "  '0.028*\"furious\" + 0.022*\"car\" + 0.013*\"action\" + 0.012*\"franchise\" + 0.009*\"diesel\" + 0.009*\"series\" + 0.009*\"scene\" + 0.008*\"film\" + 0.008*\"movie\" + 0.007*\"fast\"')]"
      ]
     },
     "execution_count": 141,
     "metadata": {},
     "output_type": "execute_result"
    }
   ],
   "source": [
    "lda_model.print_topics()"
   ]
  },
  {
   "cell_type": "code",
   "execution_count": 142,
   "id": "2b54750f",
   "metadata": {},
   "outputs": [
    {
     "name": "stderr",
     "output_type": "stream",
     "text": [
      "C:\\Users\\HP\\anaconda3\\lib\\site-packages\\ipykernel\\ipkernel.py:287: DeprecationWarning: `should_run_async` will not call `transform_cell` automatically in the future. Please pass the result to `transformed_cell` argument and any exception that happen during thetransform in `preprocessing_exc_tuple` in IPython 7.17 and above.\n",
      "  and should_run_async(code)\n"
     ]
    },
    {
     "data": {
      "text/html": [
       "\n",
       "<link rel=\"stylesheet\" type=\"text/css\" href=\"https://cdn.jsdelivr.net/gh/bmabey/pyLDAvis@3.3.1/pyLDAvis/js/ldavis.v1.0.0.css\">\n",
       "\n",
       "\n",
       "<div id=\"ldavis_el279221496540849607314030839\"></div>\n",
       "<script type=\"text/javascript\">\n",
       "\n",
       "var ldavis_el279221496540849607314030839_data = {\"mdsDat\": {\"x\": [0.0695109704467127, 0.0877987590918855, 0.054050213105985886, 0.05759770142359453, 0.05837311933934893, -0.12948057959804396, -0.19785018380948402], \"y\": [-0.004008631000001522, -0.03970521693357678, 0.05608746006671505, -0.04492804693312587, 0.07675082484667702, -0.14485272214182568, 0.10065633209513777], \"topics\": [1, 2, 3, 4, 5, 6, 7], \"cluster\": [1, 1, 1, 1, 1, 1, 1], \"Freq\": [32.339760108553214, 29.631509282970114, 14.117418670201975, 10.189990730117623, 8.22460966298088, 4.025982051878258, 1.4707294932979262]}, \"tinfo\": {\"Term\": [\"movie\", \"film\", \"new\", \"war\", \"star\", \"furious\", \"franchise\", \"action\", \"car\", \"bad\", \"series\", \"character\", \"original\", \"scene\", \"force\", \"fantastic\", \"first\", \"disaster\", \"beast\", \"song\", \"old\", \"infinity\", \"good\", \"avenger\", \"animation\", \"story\", \"animal\", \"potter\", \"dinosaur\", \"avatar\", \"infinity\", \"avenger\", \"horus\", \"endgame\", \"egyptian\", \"mcu\", \"coaster\", \"elastigirl\", \"nikolaj\", \"thano\", \"god\", \"marvel\", \"proyas\", \"russo\", \"violet\", \"thwaite\", \"mortal\", \"mythology\", \"spider\", \"titan\", \"tyrese\", \"thor\", \"goddess\", \"superhero\", \"geoffrey\", \"ultron\", \"baby\", \"horu\", \"waldau\", \"tribute\", \"super\", \"stone\", \"universe\", \"incredible\", \"ancient\", \"butler\", \"captain\", \"film\", \"spectacle\", \"villain\", \"epic\", \"character\", \"hero\", \"sequel\", \"time\", \"big\", \"action\", \"great\", \"family\", \"many\", \"good\", \"battle\", \"story\", \"plot\", \"scene\", \"year\", \"war\", \"much\", \"first\", \"movie\", \"moment\", \"screen\", \"part\", \"original\", \"way\", \"thing\", \"new\", \"lot\", \"fan\", \"dragonball\", \"goku\", \"evolution\", \"greengrass\", \"anime\", \"manga\", \"roshi\", \"bulma\", \"damon\", \"piccolo\", \"student\", \"indominus\", \"conspiracy\", \"warrant\", \"miller\", \"emmy\", \"dinosaur\", \"raptor\", \"rossum\", \"connor\", \"grandfather\", \"dragon\", \"iraqi\", \"asian\", \"zone\", \"fat\", \"bourne\", \"park\", \"journalist\", \"chow\", \"jurassic\", \"french\", \"timeline\", \"thriller\", \"professor\", \"intelligence\", \"movie\", \"officer\", \"weapon\", \"truth\", \"bad\", \"ball\", \"people\", \"source\", \"good\", \"thing\", \"time\", \"disaster\", \"action\", \"story\", \"lot\", \"actor\", \"watch\", \"world\", \"special\", \"film\", \"character\", \"review\", \"scene\", \"way\", \"much\", \"effect\", \"great\", \"fan\", \"plot\", \"year\", \"war\", \"little\", \"many\", \"first\", \"elsa\", \"simba\", \"frozen\", \"ice\", \"snowman\", \"lion\", \"snow\", \"animated\", \"sister\", \"olaf\", \"hyena\", \"anna\", \"menzel\", \"pandora\", \"wolf\", \"scar\", \"pride\", \"reindeer\", \"achievement\", \"cameron\", \"kristoff\", \"nala\", \"timon\", \"queen\", \"troll\", \"hamlet\", \"beyonce\", \"han\", \"animal\", \"icy\", \"native\", \"avatar\", \"disney\", \"kingdom\", \"animation\", \"prince\", \"song\", \"voice\", \"musical\", \"alien\", \"princess\", \"version\", \"live\", \"power\", \"original\", \"film\", \"story\", \"visual\", \"remake\", \"new\", \"classic\", \"love\", \"world\", \"character\", \"good\", \"way\", \"life\", \"time\", \"movie\", \"thing\", \"effect\", \"great\", \"action\", \"year\", \"nash\", \"pluto\", \"sholay\", \"thug\", \"aag\", \"rosario\", \"varma\", \"murphy\", \"babban\", \"gabbar\", \"gangster\", \"dawson\", \"prashant\", \"gopal\", \"bollywood\", \"mohanlal\", \"gri\", \"raj\", \"mob\", \"ramu\", \"underwood\", \"mobster\", \"dhoom\", \"rgv\", \"pirate\", \"dangal\", \"incoherent\", \"club\", \"jai\", \"spiderman\", \"flop\", \"bachchan\", \"moon\", \"indian\", \"pathetic\", \"unfunny\", \"ajay\", \"total\", \"joke\", \"disaster\", \"movie\", \"bad\", \"actor\", \"parody\", \"film\", \"song\", \"script\", \"good\", \"comedy\", \"scene\", \"remake\", \"funny\", \"production\", \"part\", \"character\", \"well\", \"director\", \"time\", \"performance\", \"money\", \"effect\", \"thing\", \"story\", \"big\", \"many\", \"year\", \"much\", \"original\", \"action\", \"prequel\", \"grindelwald\", \"newt\", \"awaken\", \"scamander\", \"hogwart\", \"abrams\", \"voldemort\", \"dumbledore\", \"finn\", \"chewbacca\", \"credence\", \"trooper\", \"leia\", \"katherine\", \"redmayne\", \"scavenger\", \"rey\", \"ridley\", \"droid\", \"vader\", \"rowling\", \"muggle\", \"ren\", \"darth\", \"skywalker\", \"barebone\", \"map\", \"jude\", \"daisy\", \"potter\", \"beast\", \"resistance\", \"luke\", \"trilogy\", \"crime\", \"star\", \"force\", \"fantastic\", \"episode\", \"menace\", \"new\", \"empire\", \"war\", \"saga\", \"magic\", \"first\", \"order\", \"old\", \"franchise\", \"character\", \"original\", \"film\", \"hope\", \"fan\", \"good\", \"story\", \"plot\", \"movie\", \"series\", \"great\", \"year\", \"effect\", \"part\", \"world\", \"time\", \"dominic\", \"vin\", \"hacker\", \"shaw\", \"diesel\", \"deckard\", \"terrorist\", \"statham\", \"furious\", \"hobb\", \"car\", \"hounsou\", \"dom\", \"op\", \"jakande\", \"hospital\", \"djimon\", \"ramsey\", \"assassin\", \"untimely\", \"toretto\", \"nathalie\", \"comatose\", \"skyscraper\", \"farewell\", \"conjuring\", \"legitimate\", \"collector\", \"penthouse\", \"european\", \"conner\", \"racing\", \"surveillance\", \"stunt\", \"crew\", \"fast\", \"walker\", \"gear\", \"franchise\", \"rock\", \"agent\", \"series\", \"revenge\", \"street\", \"team\", \"death\", \"action\", \"brother\", \"top\", \"scene\", \"building\", \"previous\", \"last\", \"guy\", \"film\", \"movie\", \"big\", \"time\", \"good\", \"life\", \"character\", \"acheron\", \"jeanette\", \"earnest\", \"wartime\", \"representative\", \"baloney\", \"manure\", \"fugitive\", \"stink\", \"disquietening\", \"lite\", \"standoff\", \"survivor\", \"celluloid\", \"lupita\", \"maz\", \"borderline\", \"bombing\", \"teasing\", \"motivated\", \"orphan\", \"monastery\", \"recipe\", \"pathos\", \"correctness\", \"broadsword\", \"barbarism\", \"workout\", \"builder\", \"tobacco\", \"unleash\", \"mask\", \"khalar\", \"wing\", \"favorable\", \"conscience\", \"vice\", \"zym\", \"tribe\", \"publicity\", \"marique\", \"film\", \"jake\", \"discovery\", \"barbarian\", \"community\", \"own\", \"vote\", \"passion\", \"warrior\", \"revenge\", \"pure\", \"descent\", \"daughter\", \"significant\", \"oscar\", \"old\", \"titanic\", \"force\", \"problem\", \"class\", \"evil\", \"war\", \"piece\", \"thing\", \"version\", \"story\", \"disaster\", \"business\", \"death\", \"fact\", \"box\", \"young\", \"different\", \"year\", \"good\"], \"Freq\": [3289.0, 2926.0, 586.0, 522.0, 356.0, 137.0, 252.0, 832.0, 110.0, 736.0, 253.0, 1339.0, 562.0, 604.0, 165.0, 149.0, 478.0, 184.0, 110.0, 178.0, 251.0, 199.0, 1320.0, 196.0, 133.0, 1069.0, 105.0, 78.0, 188.0, 110.0, 198.25659673118653, 195.20899222369022, 76.55055224388305, 58.067642939342754, 52.339062812285924, 62.535263662221574, 42.61853546132757, 35.90543772311198, 30.105967661390153, 102.72942555156588, 143.75555711854437, 144.30906264017668, 19.471838369203986, 17.54437310751509, 17.54398064470935, 17.5429233541999, 41.409882985193086, 39.518932848979105, 22.77249560218195, 12.704236554614372, 12.693734421501244, 36.052027942569126, 11.739050417395116, 160.0221067165649, 11.720404144911537, 11.72097997148717, 39.443472760002486, 9.8051760021819, 9.801227783464059, 26.837580307308095, 66.28893663711328, 62.54028203908184, 116.68771909756991, 155.42860194029126, 51.11315484033191, 63.28485046433854, 38.62027880805729, 1432.029471841671, 45.99231730789719, 117.53632233542982, 116.33174889894842, 590.6735593828174, 122.32918963859673, 116.63455003811706, 464.6544129986103, 252.47541483899815, 358.33643622769944, 280.4960925033523, 105.88392577539686, 230.9069114852082, 423.7489283584058, 110.15272870117833, 333.9338796032669, 209.62527056254186, 228.03540482418632, 206.30365410005305, 202.24455069965478, 186.2651809343712, 172.0040004649787, 413.8097284526697, 130.71438266678132, 124.04426496730787, 138.3070324447673, 163.43465445207733, 154.36803447364454, 156.12158402495103, 147.32561326009326, 138.3579539576605, 126.36352713472901, 121.43638228950876, 98.32084972446059, 53.07184466214671, 49.14147039198208, 52.738194109558556, 36.6840014703551, 27.092505042497276, 26.13049198958857, 24.203989973288817, 23.240511024173895, 27.898264563869873, 26.935066610944617, 20.348303704333425, 18.421685752542828, 18.359923576058115, 16.499667885227773, 180.38831391638772, 15.493839076814753, 14.574044227646754, 14.56770609331277, 14.56455814998521, 35.595127480350754, 33.80864409685284, 14.476197620890112, 43.69564240578744, 33.502035988755246, 47.20268707368655, 146.9901364773421, 11.687012739719384, 11.670028190311296, 93.17351043198809, 39.58741130262404, 66.89590219954827, 47.59006881375832, 25.821083744635935, 24.73189928331714, 2176.0090891266796, 34.56343523243878, 62.858710077145126, 48.09675406892962, 409.3651841838658, 41.957906948675344, 243.36563582570395, 54.9284749126279, 474.98237686969634, 241.46743778923576, 370.9613131120379, 102.54327532109325, 289.6048439502756, 340.95799408592444, 169.58281176875093, 143.30393807095345, 98.98848881106781, 164.90214623205162, 118.05417853015302, 517.6377399412163, 311.7142372355963, 88.45161116071606, 185.80764966042122, 160.35024376050106, 154.23801464294036, 147.45419284203393, 171.43952454958153, 127.775923569449, 153.69707143272993, 147.1031951960028, 141.04362830140002, 114.88788202489147, 130.66699314947257, 121.61460068403828, 80.07448915379977, 64.4530265328376, 87.69819508999919, 42.395869606214596, 38.72318376833193, 76.35841259025382, 30.444327305667034, 26.768954590623462, 85.43306964110747, 23.10180914961823, 14.831648058058036, 84.02055491276617, 13.912582533190621, 12.989247963078006, 12.95776937155944, 43.235965283598844, 20.331747395244154, 11.15599542096878, 11.154126777479872, 83.47947964137259, 10.237267862183279, 10.237183604711333, 9.31763593986557, 21.263414093137975, 8.39919204790228, 8.39868556687648, 7.479650936415446, 7.474591743322229, 95.89207321123712, 6.561332026368875, 27.855975215289046, 97.25696936121176, 89.35167869854946, 28.549446039995008, 106.04183313544684, 13.89834395662609, 117.25528934369954, 70.34069900664007, 51.0248270991396, 45.27207143419163, 33.774600139507484, 61.50239352653283, 47.329691325954315, 83.53100027688441, 168.84909778894084, 439.68781351881785, 229.31285882075184, 85.484313163156, 53.67315927521267, 120.92104360022356, 52.78385348943615, 68.97074740834874, 93.27383780414273, 141.65806569074553, 128.75542317449714, 89.0021712153695, 65.84565649779992, 100.14059708104952, 125.97522618244224, 75.93330555846848, 66.27464311807125, 68.94454895173871, 71.26634784864876, 66.64455214379144, 52.99602281358256, 48.50466474676913, 45.83231067041009, 35.05785830705117, 26.116787136692455, 15.355190192643157, 14.466636368073981, 13.5288083916325, 11.776584466246117, 11.771073070120735, 11.764837272739051, 10.881115042370032, 10.879788550144172, 10.879095909017575, 37.63443194118222, 8.188235137503334, 11.501999899745426, 7.295835634249811, 7.27487462439042, 6.4005939372612035, 6.398798476311579, 6.398342346789186, 12.677811258315954, 17.693345263293423, 24.70429118257368, 5.503324322203412, 5.502109328305246, 17.942564973864453, 4.605978347684833, 4.603109461925845, 11.53271667540449, 12.286329142069102, 29.473516596954145, 12.496612285113837, 13.965257445565394, 14.407785523473756, 8.75706784527819, 23.4802206447866, 46.56576694241704, 72.43237886165748, 449.46369015147224, 153.28668997693174, 81.68723741053478, 25.421315979815457, 263.68681455633305, 52.197148783347814, 57.03683573485257, 157.38178433860875, 44.78941072443262, 98.10580269660501, 38.151905816230574, 49.77828649287916, 35.15662284997678, 60.716740057077395, 112.96451583867356, 51.39653402770613, 49.49611057963098, 93.6439883078938, 45.78003484840672, 37.07456978068108, 54.861972330229015, 56.92154240953035, 67.20290456848686, 51.24850209038262, 50.10983521712597, 48.4846572165484, 45.50678961333326, 45.127719626075006, 41.50085336896653, 46.31500821928037, 39.33901631074881, 40.19594825023789, 26.28069258104335, 23.652909774130887, 21.047968886326473, 19.30444978228281, 14.061988274200239, 13.193832814859066, 11.457894959038946, 11.457416085949717, 25.37175436956786, 11.321074699732144, 9.713772627618647, 9.712190928348988, 9.70928278334698, 8.842047436649915, 8.841199318593253, 8.840638633472837, 22.562100144840358, 16.684467479837473, 8.788698356524922, 7.968367483549302, 7.098142725232582, 7.0981012738034455, 16.6760768379187, 7.0971206202562565, 7.039391323981389, 6.167238528796307, 5.354106023738262, 68.52518573075689, 94.1659271506043, 18.62435836610416, 11.435634450765882, 52.117134924458036, 51.48350837868657, 207.41413751324794, 103.98713206509947, 92.5531262191678, 48.846215741268665, 14.55682343612678, 220.73325836349736, 29.758323496370988, 162.75670649548752, 28.162929983517405, 39.6867850745824, 108.53290522294279, 49.012510148345264, 69.08666497329023, 67.6360089427084, 166.14898673657015, 96.55971664004457, 207.78632771380506, 34.64911871545411, 65.05239808767566, 108.38865424954984, 83.32777469023046, 64.20090283036586, 88.78556655523032, 43.50586668328165, 51.42147522415761, 49.68222561731495, 47.59014580897578, 44.971453954969064, 45.60715307219733, 48.022287865988424, 18.865673494417692, 20.272794046212567, 13.592988974697427, 14.293199156811106, 42.114209435654566, 10.605924894688929, 9.860558395854676, 15.48223362255038, 126.75295659333472, 9.05971404494122, 99.9585113770453, 6.85847762992322, 19.72445513827232, 5.355902365768232, 4.609370756217346, 4.605810814353094, 3.858661407781518, 3.8582574635756823, 6.109306099481849, 3.108240667201941, 3.108128000675264, 3.107617530535437, 3.1067378238875665, 6.030608797580086, 2.357707260095687, 2.357261399670211, 2.356651612118242, 2.355557251708645, 2.3558354472555587, 2.3463119219638435, 5.3235686745056086, 5.840766234093517, 4.608040650445057, 31.579754632258034, 27.73138645971233, 34.039103652318616, 10.943733315400507, 4.428198709603691, 55.24351851886494, 13.810650024946229, 8.644442848440097, 40.7372258448344, 14.220169888940998, 10.006872166664806, 24.95138743679916, 19.739769242467123, 58.70314338927848, 21.993791794109445, 21.335554431881977, 40.45853477878891, 13.043373891407613, 19.880080183453057, 22.426292425758884, 20.83203223918853, 38.26556360152653, 35.83250486159619, 22.770543663109738, 23.762036864027692, 24.290488795097954, 16.770358031519994, 16.156508077015875, 3.6668687643461415, 1.1413945720886591, 1.1412311098522316, 1.14119004923079, 1.141191317135965, 1.1411124144216036, 1.1410201499373194, 1.141077400732536, 1.1408293789740425, 1.1407085378577335, 1.1406571389325562, 1.1401201323252947, 1.1396401814509154, 1.137792160892545, 1.138171557133418, 1.1381711670087487, 1.1374641635768494, 1.1283010128760127, 1.1276399466239209, 1.1056871438278055, 2.203646308081881, 1.6400107662073218, 1.578221650713048, 2.191768962525709, 1.552920505411686, 0.6086761664264712, 0.6086761176608875, 0.6086760201297202, 0.6086760201297202, 0.6086761664264712, 1.1401656793804331, 5.816776374546637, 7.4961425272660644, 1.140878047026535, 1.1413247397728583, 1.6736553127482001, 1.5817809531332068, 6.935442088340819, 2.565739739623014, 2.0879764893266044, 2.8898135715196496, 27.730507794909233, 2.5015256091845077, 1.6199242222978654, 3.927727965206961, 2.123059425523111, 1.6116560175883528, 2.1691202748507687, 2.6196395589928114, 3.4968337074906186, 3.5256007203538475, 3.618963795706806, 1.65889397057439, 2.8898888655808204, 2.144659848211701, 3.1259322362288593, 6.087190118682747, 3.4999687493329374, 4.513472067151845, 4.058360430465395, 2.8645368090101173, 3.769942042717432, 4.9472735339036475, 3.4761278406686835, 4.371726510564354, 3.2289934207354025, 4.5257379768786175, 3.297764402373412, 2.49087540077555, 2.7697183735784168, 2.969926257542912, 2.6497579637104196, 2.7948357701605486, 2.7729411934713233, 2.783168116614114, 2.8032421765341535], \"Total\": [3289.0, 2926.0, 586.0, 522.0, 356.0, 137.0, 252.0, 832.0, 110.0, 736.0, 253.0, 1339.0, 562.0, 604.0, 165.0, 149.0, 478.0, 184.0, 110.0, 178.0, 251.0, 199.0, 1320.0, 196.0, 133.0, 1069.0, 105.0, 78.0, 188.0, 110.0, 199.12365347423022, 196.190239842455, 77.25685850936617, 58.86948772180496, 53.0711933537864, 63.61398770997069, 43.39414219769716, 36.62774078723625, 30.82148920989015, 105.64054844622737, 147.8481023606355, 149.36305494387966, 20.18246510604638, 18.249893259592607, 18.249495737045727, 18.24912123724121, 43.3029788250923, 41.40209327761652, 23.92567130744658, 13.411897342990878, 13.408608453834193, 38.15994571628664, 12.444745917825248, 169.8526247648073, 12.441346398135032, 12.442260795681175, 42.26686999473863, 10.5105850901592, 10.509373818709623, 28.80043917375557, 72.89022171936101, 69.57045816901875, 131.721155500399, 180.98313663028202, 57.47106225489921, 75.11573220282226, 44.24698668858106, 2926.8242389682787, 57.062367088293634, 175.1874048932437, 178.93578051387885, 1339.5124824817306, 198.43677939648381, 187.07935462710122, 1101.2872671553696, 511.42344563084373, 832.0131262268804, 601.8884714797109, 166.84306418468583, 517.873394001024, 1320.3508979623898, 184.29382220975927, 1069.8381999715239, 522.9511621650908, 604.8918839409863, 530.0989348180382, 522.1629015024957, 471.42559302430703, 478.7831750112668, 3289.9861211388416, 278.55784340354825, 255.79071085434538, 347.56577340523853, 562.6173664207706, 484.3171162980285, 571.3377647832551, 586.2099679239815, 416.41576546404184, 348.6404180216291, 122.16244150438763, 99.05295011004871, 53.79281849709144, 49.902009816179316, 53.79744316416467, 37.42723537370911, 27.799029826929782, 26.83638282641965, 24.910142547050683, 23.947322331558667, 28.761075846181264, 27.79357612877354, 21.05485699269093, 19.130827671199764, 19.102868839909384, 17.20676758495891, 188.40263382575924, 16.236892883304268, 15.280926590901641, 15.280664033586028, 15.280296454052602, 37.37241248274847, 35.49923597046063, 15.277014885644101, 46.22175628814025, 35.50320156852805, 50.03440166742249, 155.83986874997703, 12.3927879104203, 12.391262420095842, 102.50662181002119, 42.946259976071445, 74.73625615791236, 52.81824668004879, 27.79481663638288, 26.750624936244527, 3289.9861211388416, 38.9018967736631, 76.31733414130528, 58.41860798779101, 736.3170241079281, 49.905290353813726, 417.4401269733312, 73.61808508216454, 1320.3508979623898, 571.3377647832551, 1101.2872671553696, 184.37686655103835, 832.0131262268804, 1069.8381999715239, 416.41576546404184, 326.8791584457728, 189.89873154849224, 440.52109539784703, 257.9031324921962, 2926.8242389682787, 1339.5124824817306, 166.14486079233558, 604.8918839409863, 484.3171162980285, 471.42559302430703, 440.78966367720386, 601.8884714797109, 348.6404180216291, 522.9511621650908, 530.0989348180382, 522.1629015024957, 317.87319002534156, 517.873394001024, 478.7831750112668, 80.78649518408827, 65.16489138669526, 89.02204419986033, 43.11040286102531, 39.43510513257781, 78.07345087745335, 31.1628246921857, 27.487482089226045, 88.05659224804248, 23.813633070949937, 15.543433627298393, 88.27988960635835, 14.624375530512905, 13.704073791168199, 13.699725990599799, 45.793176018597336, 21.58309997994039, 11.867767475925474, 11.866917455294061, 88.96372458143456, 10.949008846444826, 10.948953269155133, 10.029518731381023, 22.936501080880053, 9.11100190095735, 9.110550588204475, 8.19165248584099, 8.188129279822979, 105.08649712523162, 7.273083345318308, 31.180873351637633, 110.79967609736698, 102.30505899345269, 32.212899517794966, 133.58194094546747, 15.585555173965364, 178.65217214014467, 106.76213812098591, 73.51992643170627, 66.52514002053691, 47.51416763192695, 123.12629004364423, 85.94598834272192, 194.89277646717517, 562.6173664207706, 2926.8242389682787, 1069.8381999715239, 240.45429836233617, 109.57377715493746, 586.2099679239815, 112.74379428939478, 219.94941073734003, 440.52109539784703, 1339.5124824817306, 1320.3508979623898, 484.3171162980285, 224.4179430977139, 1101.2872671553696, 3289.9861211388416, 571.3377647832551, 440.78966367720386, 601.8884714797109, 832.0131262268804, 530.0989348180382, 53.721924871050035, 49.24080579522342, 46.55152452867083, 35.79251926855289, 26.833038480223813, 16.077876046458787, 15.181913669791205, 14.287144658971808, 12.492230325976626, 12.492118677991835, 12.493238670834483, 11.596329231090087, 11.595903264874524, 11.596088436330115, 40.41682645293146, 8.906253030500492, 12.511261845467434, 8.011427505666568, 8.011654831171517, 7.115532972312441, 7.114438476287397, 7.1144215887800195, 14.1399722252758, 19.757693740053956, 27.764867242557134, 6.218746662986499, 6.2174301567499235, 20.69354964209666, 5.321662331653068, 5.318793168828872, 13.458129135747063, 14.376221026026824, 38.890570714407616, 15.261558511134108, 18.099369088101767, 19.034313878320287, 10.499760305103363, 36.41996762275615, 95.2756325919264, 184.37686655103835, 3289.9861211388416, 736.3170241079281, 326.8791584457728, 50.823001930679624, 2926.8242389682787, 178.65217214014467, 214.19398371993742, 1320.3508979623898, 141.54129135793974, 604.8918839409863, 109.57377715493746, 190.3725028764195, 109.68887049723226, 347.56577340523853, 1339.5124824817306, 260.8056774604084, 241.0987287231173, 1101.2872671553696, 230.8587383880458, 135.13680034509926, 440.78966367720386, 571.3377647832551, 1069.8381999715239, 511.42344563084373, 517.873394001024, 530.0989348180382, 471.42559302430703, 562.6173664207706, 832.0131262268804, 47.05326637169514, 40.08016931190024, 40.95342731587989, 26.999491892671287, 24.383642077972215, 21.767377991006803, 20.023632113267855, 14.792291434197017, 13.920112445022633, 12.176509524760661, 12.17621972219806, 27.023006470596272, 12.123109296042513, 10.432457214335216, 10.431855295447601, 10.432403070130723, 9.560654349013676, 9.560289856623887, 9.559970566891195, 24.42413865742267, 18.152750169656407, 9.564639634227351, 8.6881685696129, 7.816726257812589, 7.816707824405975, 18.364379589185575, 7.816119366029113, 7.793910008185737, 6.9497280701512665, 6.072754246671299, 78.45662264414153, 110.48154985493406, 21.294887677271966, 13.135463063499074, 70.45203169871952, 71.38402720437509, 356.7783638979601, 165.27682338486784, 149.1601768653794, 78.38955410659192, 17.6167360891224, 586.2099679239815, 47.958693675752, 522.1629015024957, 48.971598529159806, 83.88215743867738, 478.7831750112668, 131.98983992219297, 251.98548793300162, 252.50189844193386, 1339.5124824817306, 562.6173664207706, 2926.8242389682787, 78.78569669075671, 348.6404180216291, 1320.3508979623898, 1069.8381999715239, 522.9511621650908, 3289.9861211388416, 253.62190345882584, 601.8884714797109, 530.0989348180382, 440.78966367720386, 347.56577340523853, 440.52109539784703, 1101.2872671553696, 19.607931980623043, 21.13511995555098, 14.35844955884449, 15.123764987747348, 44.811306425309226, 11.351432119795179, 10.599898187762449, 16.712973985602332, 137.3817477850494, 9.855480227728686, 110.14549478392061, 7.597670666062088, 22.221224443449362, 6.096899172180831, 5.345399398559564, 5.344490535622621, 4.594712547994833, 4.594520044815881, 7.379407059206706, 3.844123781127524, 3.844077644037452, 3.8437645396553823, 3.8445738885158955, 7.809038753812345, 3.093562678428192, 3.0935257903755797, 3.0928371714319254, 3.0917574689571046, 3.093957417870813, 3.0843915564799893, 7.059926149764224, 7.8849337806236575, 6.26097193682638, 47.76263569635859, 41.64322384509838, 55.6156263757633, 21.847235325928544, 6.3573566069927425, 252.50189844193386, 35.08832023882283, 18.472505676036963, 253.62190345882584, 42.747131357588, 23.986473827889657, 123.1500525138959, 87.66311799800856, 832.0131262268804, 125.6334791470846, 132.08605436373992, 604.8918839409863, 47.300698321418416, 132.04840470041373, 212.451168233887, 197.35640791362187, 2926.8242389682787, 3289.9861211388416, 511.42344563084373, 1101.2872671553696, 1320.3508979623898, 224.4179430977139, 1339.5124824817306, 5.647480081879902, 1.9082953451513103, 1.9081679618638274, 1.90813570217504, 1.9081478456379493, 1.9080811279927368, 1.9080069641348985, 1.9082177336110746, 1.9080496771232562, 1.9079900312252094, 1.907969483553153, 1.907311629750965, 1.9069879038963649, 1.905826425067835, 1.90658447667392, 1.9065847514029355, 1.9061904994602141, 1.9037455613862893, 1.9032086373037118, 1.8833289507249464, 3.8841038728968087, 3.428732323879557, 3.4246881288190725, 4.819338126479077, 3.4935953005183045, 1.3755284419411615, 1.375528468571865, 1.3755284296822543, 1.3755284694423833, 1.3755293900428232, 2.6581096938046143, 16.17705590251303, 22.839325907199324, 2.7774592173909713, 2.793247711130764, 4.356277872728284, 4.208261201120454, 29.10074689624632, 8.243302157474346, 6.714952639802317, 12.865684655931585, 2926.8242389682787, 11.947567252456869, 4.404108743336291, 37.791113152181644, 8.597550575732464, 4.408861450298489, 9.38627921834494, 15.899396638877942, 39.747376906958344, 42.747131357588, 46.34285228221127, 5.337011326786144, 25.198399213672218, 11.19498250741169, 33.168913684447546, 251.98548793300162, 51.294018261538675, 165.27682338486784, 146.03462473897278, 38.604763775905575, 112.54606412533248, 522.1629015024957, 130.94084167660216, 571.3377647832551, 123.12629004364423, 1069.8381999715239, 184.37686655103835, 32.84615219727158, 87.66311799800856, 196.71978233052874, 63.14879064807827, 181.30944652709027, 174.44475849638465, 530.0989348180382, 1320.3508979623898], \"Category\": [\"Default\", \"Default\", \"Default\", \"Default\", \"Default\", \"Default\", \"Default\", \"Default\", \"Default\", \"Default\", \"Default\", \"Default\", \"Default\", \"Default\", \"Default\", \"Default\", \"Default\", \"Default\", \"Default\", \"Default\", \"Default\", \"Default\", \"Default\", \"Default\", \"Default\", \"Default\", \"Default\", \"Default\", \"Default\", \"Default\", \"Topic1\", \"Topic1\", \"Topic1\", \"Topic1\", \"Topic1\", \"Topic1\", \"Topic1\", \"Topic1\", \"Topic1\", \"Topic1\", \"Topic1\", \"Topic1\", \"Topic1\", \"Topic1\", \"Topic1\", \"Topic1\", \"Topic1\", \"Topic1\", \"Topic1\", \"Topic1\", \"Topic1\", \"Topic1\", \"Topic1\", \"Topic1\", \"Topic1\", \"Topic1\", \"Topic1\", \"Topic1\", \"Topic1\", \"Topic1\", \"Topic1\", \"Topic1\", \"Topic1\", \"Topic1\", \"Topic1\", \"Topic1\", \"Topic1\", \"Topic1\", \"Topic1\", \"Topic1\", \"Topic1\", \"Topic1\", \"Topic1\", \"Topic1\", \"Topic1\", \"Topic1\", \"Topic1\", \"Topic1\", \"Topic1\", \"Topic1\", \"Topic1\", \"Topic1\", \"Topic1\", \"Topic1\", \"Topic1\", \"Topic1\", \"Topic1\", \"Topic1\", \"Topic1\", \"Topic1\", \"Topic1\", \"Topic1\", \"Topic1\", \"Topic1\", \"Topic1\", \"Topic1\", \"Topic1\", \"Topic1\", \"Topic1\", \"Topic2\", \"Topic2\", \"Topic2\", \"Topic2\", \"Topic2\", \"Topic2\", \"Topic2\", \"Topic2\", \"Topic2\", \"Topic2\", \"Topic2\", \"Topic2\", \"Topic2\", \"Topic2\", \"Topic2\", \"Topic2\", \"Topic2\", \"Topic2\", \"Topic2\", \"Topic2\", \"Topic2\", \"Topic2\", \"Topic2\", \"Topic2\", \"Topic2\", \"Topic2\", \"Topic2\", \"Topic2\", \"Topic2\", \"Topic2\", \"Topic2\", \"Topic2\", \"Topic2\", \"Topic2\", \"Topic2\", \"Topic2\", \"Topic2\", \"Topic2\", \"Topic2\", \"Topic2\", \"Topic2\", \"Topic2\", \"Topic2\", \"Topic2\", \"Topic2\", \"Topic2\", \"Topic2\", \"Topic2\", \"Topic2\", \"Topic2\", \"Topic2\", \"Topic2\", \"Topic2\", \"Topic2\", \"Topic2\", \"Topic2\", \"Topic2\", \"Topic2\", \"Topic2\", \"Topic2\", \"Topic2\", \"Topic2\", \"Topic2\", \"Topic2\", \"Topic2\", \"Topic2\", \"Topic2\", \"Topic2\", \"Topic2\", \"Topic2\", \"Topic3\", \"Topic3\", \"Topic3\", \"Topic3\", \"Topic3\", \"Topic3\", \"Topic3\", \"Topic3\", \"Topic3\", \"Topic3\", \"Topic3\", \"Topic3\", \"Topic3\", \"Topic3\", \"Topic3\", \"Topic3\", \"Topic3\", \"Topic3\", \"Topic3\", \"Topic3\", \"Topic3\", \"Topic3\", \"Topic3\", \"Topic3\", \"Topic3\", \"Topic3\", \"Topic3\", \"Topic3\", \"Topic3\", \"Topic3\", \"Topic3\", \"Topic3\", \"Topic3\", \"Topic3\", \"Topic3\", \"Topic3\", \"Topic3\", \"Topic3\", \"Topic3\", \"Topic3\", \"Topic3\", \"Topic3\", \"Topic3\", \"Topic3\", \"Topic3\", \"Topic3\", \"Topic3\", \"Topic3\", \"Topic3\", \"Topic3\", \"Topic3\", \"Topic3\", \"Topic3\", \"Topic3\", \"Topic3\", \"Topic3\", \"Topic3\", \"Topic3\", \"Topic3\", \"Topic3\", \"Topic3\", \"Topic3\", \"Topic3\", \"Topic3\", \"Topic4\", \"Topic4\", \"Topic4\", \"Topic4\", \"Topic4\", \"Topic4\", \"Topic4\", \"Topic4\", \"Topic4\", \"Topic4\", \"Topic4\", \"Topic4\", \"Topic4\", \"Topic4\", \"Topic4\", \"Topic4\", \"Topic4\", \"Topic4\", \"Topic4\", \"Topic4\", \"Topic4\", \"Topic4\", \"Topic4\", \"Topic4\", \"Topic4\", \"Topic4\", \"Topic4\", \"Topic4\", \"Topic4\", \"Topic4\", \"Topic4\", \"Topic4\", \"Topic4\", \"Topic4\", \"Topic4\", \"Topic4\", \"Topic4\", \"Topic4\", \"Topic4\", \"Topic4\", \"Topic4\", \"Topic4\", \"Topic4\", \"Topic4\", \"Topic4\", \"Topic4\", \"Topic4\", \"Topic4\", \"Topic4\", \"Topic4\", \"Topic4\", \"Topic4\", \"Topic4\", \"Topic4\", \"Topic4\", \"Topic4\", \"Topic4\", \"Topic4\", \"Topic4\", \"Topic4\", \"Topic4\", \"Topic4\", \"Topic4\", \"Topic4\", \"Topic4\", \"Topic4\", \"Topic4\", \"Topic4\", \"Topic4\", \"Topic5\", \"Topic5\", \"Topic5\", \"Topic5\", \"Topic5\", \"Topic5\", \"Topic5\", \"Topic5\", \"Topic5\", \"Topic5\", \"Topic5\", \"Topic5\", \"Topic5\", \"Topic5\", \"Topic5\", \"Topic5\", \"Topic5\", \"Topic5\", \"Topic5\", \"Topic5\", \"Topic5\", \"Topic5\", \"Topic5\", \"Topic5\", \"Topic5\", \"Topic5\", \"Topic5\", \"Topic5\", \"Topic5\", \"Topic5\", \"Topic5\", \"Topic5\", \"Topic5\", \"Topic5\", \"Topic5\", \"Topic5\", \"Topic5\", \"Topic5\", \"Topic5\", \"Topic5\", \"Topic5\", \"Topic5\", \"Topic5\", \"Topic5\", \"Topic5\", \"Topic5\", \"Topic5\", \"Topic5\", \"Topic5\", \"Topic5\", \"Topic5\", \"Topic5\", \"Topic5\", \"Topic5\", \"Topic5\", \"Topic5\", \"Topic5\", \"Topic5\", \"Topic5\", \"Topic5\", \"Topic5\", \"Topic5\", \"Topic5\", \"Topic5\", \"Topic5\", \"Topic5\", \"Topic6\", \"Topic6\", \"Topic6\", \"Topic6\", \"Topic6\", \"Topic6\", \"Topic6\", \"Topic6\", \"Topic6\", \"Topic6\", \"Topic6\", \"Topic6\", \"Topic6\", \"Topic6\", \"Topic6\", \"Topic6\", \"Topic6\", \"Topic6\", \"Topic6\", \"Topic6\", \"Topic6\", \"Topic6\", \"Topic6\", \"Topic6\", \"Topic6\", \"Topic6\", \"Topic6\", \"Topic6\", \"Topic6\", \"Topic6\", \"Topic6\", \"Topic6\", \"Topic6\", \"Topic6\", \"Topic6\", \"Topic6\", \"Topic6\", \"Topic6\", \"Topic6\", \"Topic6\", \"Topic6\", \"Topic6\", \"Topic6\", \"Topic6\", \"Topic6\", \"Topic6\", \"Topic6\", \"Topic6\", \"Topic6\", \"Topic6\", \"Topic6\", \"Topic6\", \"Topic6\", \"Topic6\", \"Topic6\", \"Topic6\", \"Topic6\", \"Topic6\", \"Topic6\", \"Topic6\", \"Topic6\", \"Topic7\", \"Topic7\", \"Topic7\", \"Topic7\", \"Topic7\", \"Topic7\", \"Topic7\", \"Topic7\", \"Topic7\", \"Topic7\", \"Topic7\", \"Topic7\", \"Topic7\", \"Topic7\", \"Topic7\", \"Topic7\", \"Topic7\", \"Topic7\", \"Topic7\", \"Topic7\", \"Topic7\", \"Topic7\", \"Topic7\", \"Topic7\", \"Topic7\", \"Topic7\", \"Topic7\", \"Topic7\", \"Topic7\", \"Topic7\", \"Topic7\", \"Topic7\", \"Topic7\", \"Topic7\", \"Topic7\", \"Topic7\", \"Topic7\", \"Topic7\", \"Topic7\", \"Topic7\", \"Topic7\", \"Topic7\", \"Topic7\", \"Topic7\", \"Topic7\", \"Topic7\", \"Topic7\", \"Topic7\", \"Topic7\", \"Topic7\", \"Topic7\", \"Topic7\", \"Topic7\", \"Topic7\", \"Topic7\", \"Topic7\", \"Topic7\", \"Topic7\", \"Topic7\", \"Topic7\", \"Topic7\", \"Topic7\", \"Topic7\", \"Topic7\", \"Topic7\", \"Topic7\", \"Topic7\", \"Topic7\", \"Topic7\", \"Topic7\", \"Topic7\", \"Topic7\", \"Topic7\", \"Topic7\", \"Topic7\", \"Topic7\"], \"logprob\": [30.0, 29.0, 28.0, 27.0, 26.0, 25.0, 24.0, 23.0, 22.0, 21.0, 20.0, 19.0, 18.0, 17.0, 16.0, 15.0, 14.0, 13.0, 12.0, 11.0, 10.0, 9.0, 8.0, 7.0, 6.0, 5.0, 4.0, 3.0, 2.0, 1.0, -5.2249, -5.2404, -6.1765, -6.4528, -6.5567, -6.3787, -6.7622, -6.9336, -7.1097, -5.8824, -5.5463, -5.5425, -7.5455, -7.6497, -7.6497, -7.6498, -6.7909, -6.8377, -7.3889, -7.9725, -7.9733, -6.9295, -8.0515, -5.4391, -8.0531, -8.0531, -6.8396, -8.2315, -8.2319, -7.2246, -6.3204, -6.3786, -5.7549, -5.4683, -6.5804, -6.3668, -6.8607, -3.2476, -6.686, -5.7477, -5.758, -4.1332, -5.7077, -5.7554, -4.3732, -4.9831, -4.633, -4.8779, -5.8521, -5.0724, -4.4653, -5.8126, -4.7035, -5.1691, -5.0849, -5.1851, -5.205, -5.2873, -5.3669, -4.489, -5.6414, -5.6938, -5.585, -5.418, -5.4751, -5.4638, -5.5218, -5.5846, -5.6753, -5.6276, -5.8388, -6.4553, -6.5323, -6.4617, -6.8246, -7.1277, -7.1639, -7.2405, -7.2811, -7.0984, -7.1336, -7.414, -7.5135, -7.5168, -7.6236, -5.2319, -7.6865, -7.7477, -7.7482, -7.7484, -6.8548, -6.9063, -7.7545, -6.6497, -6.9154, -6.5725, -5.4366, -7.9685, -7.97, -5.8925, -6.7485, -6.2239, -6.5644, -7.1758, -7.2189, -2.7417, -6.8842, -6.2861, -6.5538, -4.4124, -6.6903, -4.9324, -6.421, -4.2637, -4.9403, -4.5109, -5.7967, -4.7585, -4.5952, -5.2936, -5.462, -5.832, -5.3216, -5.6558, -4.1777, -4.6849, -5.9445, -5.2023, -5.3496, -5.3885, -5.4335, -5.2828, -5.5767, -5.392, -5.4359, -5.4779, -5.683, -5.5543, -5.6261, -5.3026, -5.5196, -5.2117, -5.9385, -6.0291, -5.3501, -6.2697, -6.3983, -5.2378, -6.5457, -6.9888, -5.2545, -7.0528, -7.1214, -7.1239, -5.9189, -6.6734, -7.2736, -7.2738, -5.261, -7.3595, -7.3595, -7.4537, -6.6286, -7.5574, -7.5575, -7.6734, -7.6741, -5.1223, -7.8044, -6.3585, -5.1082, -5.193, -6.3339, -5.0217, -7.0538, -4.9212, -5.4322, -5.7532, -5.8729, -6.1659, -5.5665, -5.8284, -5.2603, -4.5566, -3.5995, -4.2505, -5.2372, -5.7026, -4.8904, -5.7194, -5.4519, -5.15, -4.7321, -4.8276, -5.1969, -5.4982, -5.079, -4.8495, -5.3557, -5.4918, -5.4523, -5.4191, -5.4862, -5.3893, -5.4779, -5.5346, -5.8026, -6.097, -6.6281, -6.6877, -6.7547, -6.8934, -6.8939, -6.8944, -6.9725, -6.9727, -6.9727, -5.7316, -7.2569, -6.917, -7.3723, -7.3751, -7.5032, -7.5034, -7.5035, -6.8197, -6.4864, -6.1526, -7.6542, -7.6544, -6.4724, -7.8322, -7.8328, -6.9144, -6.8511, -5.9761, -6.8341, -6.723, -6.6918, -7.1897, -6.2034, -5.5187, -5.0769, -3.2515, -4.3272, -4.9567, -6.124, -3.7848, -5.4045, -5.3159, -4.3009, -5.5576, -4.7735, -5.718, -5.452, -5.7997, -5.2533, -4.6325, -5.42, -5.4577, -4.8201, -5.5357, -5.7466, -5.3547, -5.3179, -5.1518, -5.4229, -5.4453, -5.4783, -5.5417, -5.5501, -5.6338, -5.3098, -5.4731, -5.4515, -5.8764, -5.9818, -6.0985, -6.1849, -6.5018, -6.5655, -6.7066, -6.7066, -5.9116, -6.7186, -6.8717, -6.8719, -6.8722, -6.9658, -6.9659, -6.9659, -6.029, -6.3308, -6.9718, -7.0698, -7.1854, -7.1855, -6.3313, -7.1856, -7.1938, -7.326, -7.4674, -4.9181, -4.6002, -6.2208, -6.7085, -5.1918, -5.204, -3.8106, -4.501, -4.6175, -5.2566, -6.4672, -3.7483, -5.7522, -4.053, -5.8073, -5.4643, -4.4582, -5.2532, -4.9099, -4.9311, -4.0324, -4.5751, -3.8088, -5.6, -4.9701, -4.4596, -4.7225, -4.9833, -4.6591, -5.3724, -5.2052, -5.2396, -5.2827, -5.3393, -5.3252, -5.2736, -5.4936, -5.4216, -5.8214, -5.7711, -4.6905, -6.0695, -6.1424, -5.6912, -3.5887, -6.2271, -3.8262, -6.5054, -5.4491, -6.7527, -6.9028, -6.9036, -7.0806, -7.0807, -6.6211, -7.2969, -7.2969, -7.2971, -7.2973, -6.6341, -7.5732, -7.5734, -7.5737, -7.5741, -7.574, -7.5781, -6.7588, -6.6661, -6.9031, -4.9784, -5.1084, -4.9034, -6.0382, -6.9429, -4.4192, -5.8055, -6.274, -4.7238, -5.7763, -6.1276, -5.214, -5.4483, -4.3584, -5.3402, -5.3705, -4.7306, -5.8626, -5.4412, -5.3207, -5.3944, -4.7864, -4.8521, -5.3055, -5.2628, -5.2408, -5.6113, -5.6486, -6.1246, -7.2917, -7.2918, -7.2918, -7.2918, -7.2919, -7.292, -7.2919, -7.2922, -7.2923, -7.2923, -7.2928, -7.2932, -7.2948, -7.2945, -7.2945, -7.2951, -7.3032, -7.3038, -7.3234, -6.6338, -6.9292, -6.9676, -6.6392, -6.9838, -7.9204, -7.9204, -7.9204, -7.9204, -7.9204, -7.2927, -5.6632, -5.4095, -7.2921, -7.2917, -6.9089, -6.9654, -5.4873, -6.4817, -6.6877, -6.3627, -4.1014, -6.507, -6.9415, -6.0558, -6.6711, -6.9466, -6.6496, -6.4609, -6.1721, -6.1639, -6.1377, -6.9178, -6.3627, -6.6609, -6.2842, -5.6177, -6.1712, -5.9168, -6.0231, -6.3715, -6.0969, -5.8251, -6.178, -5.9488, -6.2517, -5.9141, -6.2307, -6.5113, -6.4052, -6.3354, -6.4494, -6.3961, -6.404, -6.4003, -6.3931], \"loglift\": [30.0, 29.0, 28.0, 27.0, 26.0, 25.0, 24.0, 23.0, 22.0, 21.0, 20.0, 19.0, 18.0, 17.0, 16.0, 15.0, 14.0, 13.0, 12.0, 11.0, 10.0, 9.0, 8.0, 7.0, 6.0, 5.0, 4.0, 3.0, 2.0, 1.0, 1.1245, 1.1239, 1.1197, 1.1152, 1.115, 1.1118, 1.1108, 1.109, 1.1054, 1.1009, 1.1008, 1.0945, 1.093, 1.0894, 1.0894, 1.0894, 1.0842, 1.0823, 1.0795, 1.0747, 1.0741, 1.072, 1.0705, 1.0693, 1.0692, 1.0692, 1.0597, 1.0594, 1.0591, 1.0583, 1.0339, 1.0223, 1.0077, 0.9767, 1.0116, 0.9575, 0.9929, 0.414, 0.9132, 0.7298, 0.6983, 0.3101, 0.6451, 0.6564, 0.2659, 0.423, 0.2865, 0.3654, 0.6742, 0.3212, -0.0076, 0.6142, -0.0354, 0.2147, 0.1533, 0.1852, 0.1804, 0.2003, 0.1051, -0.9444, 0.3723, 0.4052, 0.2074, -0.1073, -0.0145, -0.1685, -0.2522, 0.027, 0.114, 1.2104, 1.2089, 1.2028, 1.201, 1.1964, 1.1963, 1.1906, 1.1897, 1.1876, 1.1864, 1.1859, 1.185, 1.1822, 1.1786, 1.1767, 1.1744, 1.1729, 1.1695, 1.169, 1.1686, 1.1684, 1.1676, 1.1675, 1.1625, 1.1601, 1.1583, 1.1581, 1.1579, 1.1577, 1.1564, 1.1209, 1.1349, 1.1055, 1.1121, 1.1427, 1.1379, 0.8029, 1.0981, 1.0223, 1.0219, 0.6293, 1.0429, 0.6768, 0.9235, 0.194, 0.3551, 0.1282, 0.6296, 0.161, 0.0728, 0.318, 0.3917, 0.5648, 0.2337, 0.4349, -0.5161, -0.2416, 0.5859, 0.036, 0.111, 0.0991, 0.1213, -0.0395, 0.2126, -0.0082, -0.0656, -0.0926, 0.1986, -0.1607, -0.1541, 1.9489, 1.9468, 1.9428, 1.941, 1.9395, 1.9355, 1.9344, 1.9313, 1.9275, 1.9274, 1.9109, 1.9083, 1.9079, 1.9042, 1.9021, 1.9003, 1.898, 1.8959, 1.8958, 1.8941, 1.8905, 1.8905, 1.8841, 1.882, 1.8764, 1.8764, 1.8668, 1.8666, 1.8662, 1.8548, 1.845, 1.8274, 1.8224, 1.837, 1.7269, 1.8432, 1.5367, 1.5405, 1.5925, 1.5729, 1.6164, 1.2636, 1.3612, 1.1105, 0.7542, 0.0622, 0.4176, 0.9236, 1.2441, 0.3792, 1.1988, 0.798, 0.4053, -0.2889, -0.37, 0.2637, 0.7316, -0.4399, -1.3048, -0.0604, 0.063, -0.209, -0.4997, -0.1159, 2.2702, 2.2687, 2.2682, 2.263, 2.2567, 2.2378, 2.2355, 2.2292, 2.2248, 2.2243, 2.2237, 2.2201, 2.22, 2.2199, 2.2124, 2.1997, 2.1997, 2.1902, 2.1873, 2.1779, 2.1777, 2.1777, 2.1746, 2.1734, 2.167, 2.1615, 2.1615, 2.1411, 2.1393, 2.1392, 2.1294, 2.1267, 2.0065, 2.0839, 2.0245, 2.0053, 2.1023, 1.8448, 1.5679, 1.3494, 0.2932, 0.7144, 0.8971, 1.591, -0.1231, 1.0534, 0.9606, 0.1568, 1.1331, 0.4648, 1.2287, 0.9424, 1.1459, 0.539, -0.1892, 0.6596, 0.7005, -0.181, 0.6658, 0.9904, 0.2, -0.0225, -0.4838, -0.0167, -0.0517, -0.1081, -0.0541, -0.2393, -0.7144, 2.4822, 2.4794, 2.4794, 2.4711, 2.4676, 2.4644, 2.4615, 2.4474, 2.4445, 2.4372, 2.4372, 2.435, 2.4296, 2.4267, 2.4266, 2.4262, 2.4199, 2.4198, 2.4198, 2.4187, 2.4137, 2.4134, 2.4116, 2.4016, 2.4016, 2.4016, 2.4015, 2.3962, 2.3786, 2.3721, 2.3627, 2.3382, 2.364, 2.3595, 2.1966, 2.1712, 1.9556, 2.0347, 2.0208, 2.025, 2.3072, 1.5213, 2.0208, 1.3323, 1.9448, 1.7496, 1.0138, 1.5074, 1.204, 1.1808, 0.4109, 0.7356, -0.1471, 1.6766, 0.8192, -0.0019, -0.0544, 0.4006, -1.1144, 0.7351, 0.038, 0.1306, 0.2721, 0.4531, 0.2301, -0.6345, 3.1738, 3.1707, 3.1576, 3.1559, 3.1503, 3.1445, 3.1401, 3.1359, 3.1319, 3.1282, 3.1154, 3.11, 3.0932, 3.0828, 3.0643, 3.0637, 3.0378, 3.0378, 3.0235, 2.9999, 2.9999, 2.9998, 2.9993, 2.954, 2.9408, 2.9406, 2.9406, 2.9404, 2.9398, 2.9389, 2.9301, 2.9123, 2.9059, 2.7987, 2.8058, 2.7214, 2.5211, 2.8508, 1.6927, 2.28, 2.453, 1.3837, 2.1118, 2.3382, 1.6159, 1.7215, 0.561, 1.4698, 1.3893, 0.5076, 1.9242, 1.319, 0.9639, 0.9639, -1.1247, -1.3074, 0.1007, -0.6237, -0.7832, 0.6185, -1.2053, 3.7875, 3.7055, 3.7054, 3.7054, 3.7054, 3.7053, 3.7053, 3.7052, 3.7051, 3.705, 3.705, 3.7049, 3.7046, 3.7036, 3.7035, 3.7035, 3.7031, 3.6963, 3.696, 3.6868, 3.6526, 3.4819, 3.4447, 3.4315, 3.4086, 3.4041, 3.4041, 3.4041, 3.4041, 3.4041, 3.373, 3.1966, 3.1053, 3.3297, 3.3244, 3.2628, 3.2409, 2.7853, 3.0523, 3.0513, 2.726, -0.4397, 2.6558, 3.2193, 1.9554, 2.8208, 3.2131, 2.7545, 2.4162, 1.7887, 1.7242, 1.6695, 3.0509, 2.0538, 2.5669, 1.8575, 0.4962, 1.5346, 0.6189, 0.6363, 1.6184, 0.8231, -0.4397, 0.5906, -0.6534, 0.5784, -1.2461, 0.1957, 1.6402, 0.7647, 0.0262, 1.0484, 0.047, 0.0777, -1.0301, -1.9355]}, \"token.table\": {\"Topic\": [4, 5, 1, 7, 3, 1, 2, 3, 4, 5, 6, 1, 2, 3, 4, 5, 6, 7, 1, 2, 4, 6, 4, 6, 1, 2, 3, 5, 1, 2, 3, 5, 6, 1, 2, 3, 3, 1, 3, 2, 2, 3, 2, 6, 7, 1, 2, 3, 4, 7, 1, 5, 4, 1, 3, 5, 2, 4, 1, 2, 3, 4, 5, 6, 7, 1, 2, 3, 7, 1, 2, 4, 7, 7, 5, 1, 2, 3, 4, 5, 6, 7, 1, 3, 5, 6, 3, 1, 2, 3, 4, 5, 6, 2, 4, 7, 7, 1, 2, 7, 1, 2, 3, 4, 5, 7, 7, 1, 2, 3, 4, 5, 6, 7, 7, 1, 2, 3, 4, 5, 6, 2, 1, 2, 3, 4, 5, 7, 1, 2, 6, 1, 2, 3, 1, 2, 4, 1, 2, 4, 6, 7, 1, 2, 3, 4, 5, 6, 5, 2, 1, 2, 3, 4, 5, 6, 7, 1, 2, 3, 4, 6, 7, 2, 4, 1, 6, 6, 1, 2, 3, 4, 6, 2, 3, 7, 6, 2, 6, 2, 2, 7, 2, 2, 7, 4, 5, 1, 3, 4, 6, 1, 3, 4, 5, 5, 2, 4, 5, 1, 3, 5, 7, 4, 1, 2, 3, 4, 5, 6, 7, 6, 2, 7, 4, 6, 1, 6, 1, 2, 3, 4, 5, 6, 7, 1, 2, 3, 1, 2, 3, 4, 5, 6, 1, 2, 4, 5, 7, 1, 7, 1, 3, 4, 5, 7, 6, 1, 6, 6, 2, 3, 2, 1, 5, 5, 7, 1, 2, 3, 4, 5, 6, 1, 1, 3, 2, 1, 2, 3, 4, 5, 1, 1, 2, 3, 4, 5, 6, 1, 2, 4, 5, 7, 6, 1, 2, 3, 4, 5, 7, 2, 1, 2, 3, 4, 5, 6, 7, 1, 2, 3, 4, 5, 6, 1, 2, 3, 4, 5, 6, 7, 1, 2, 3, 4, 5, 7, 6, 1, 2, 3, 5, 6, 1, 2, 4, 7, 1, 2, 3, 4, 5, 6, 7, 5, 1, 2, 3, 4, 5, 6, 7, 4, 7, 1, 2, 3, 5, 6, 7, 1, 2, 3, 4, 5, 6, 1, 2, 6, 3, 5, 7, 1, 2, 3, 4, 5, 1, 2, 6, 4, 4, 1, 6, 1, 1, 2, 1, 2, 1, 2, 3, 4, 5, 6, 7, 4, 2, 1, 2, 3, 4, 5, 6, 7, 2, 4, 5, 1, 2, 3, 4, 5, 6, 7, 6, 3, 3, 1, 2, 3, 4, 5, 7, 6, 5, 1, 2, 3, 4, 5, 6, 1, 1, 6, 6, 3, 3, 3, 4, 1, 2, 3, 5, 2, 3, 4, 2, 1, 1, 2, 1, 2, 4, 6, 3, 7, 7, 1, 2, 3, 4, 2, 5, 1, 2, 3, 5, 1, 7, 2, 3, 3, 1, 2, 3, 4, 5, 6, 7, 6, 5, 1, 2, 3, 4, 5, 6, 7, 1, 3, 7, 1, 2, 3, 4, 5, 6, 1, 2, 3, 4, 5, 6, 1, 2, 3, 4, 5, 6, 1, 2, 3, 4, 5, 7, 2, 5, 7, 1, 3, 4, 5, 6, 2, 7, 1, 2, 3, 4, 5, 6, 7, 5, 1, 4, 7, 1, 3, 5, 6, 1, 5, 7, 7, 1, 2, 5, 3, 2, 4, 4, 4, 1, 2, 3, 4, 5, 6, 1, 7, 1, 2, 3, 4, 5, 1, 2, 3, 4, 1, 4, 7, 1, 2, 3, 4, 5, 6, 1, 2, 3, 4, 5, 6, 5, 4, 1, 2, 3, 1, 3, 3, 4, 6, 2, 3, 7, 1, 2, 3, 4, 5, 6, 5, 1, 1, 2, 3, 7, 3, 1, 2, 3, 4, 5, 6, 7, 6, 1, 2, 3, 4, 5, 6, 1, 2, 3, 4, 5, 3, 7, 2, 3, 4, 5, 6, 7, 2, 7, 3, 1, 2, 3, 2, 4, 5, 1, 2, 3, 4, 5, 6, 7, 1, 2, 3, 4, 7, 1, 2, 4, 3, 7, 6, 1, 2, 3, 4, 5, 6, 7, 1, 2, 3, 4, 5, 6, 2, 1, 2, 3, 4, 5, 6, 7, 2, 4, 6, 1, 2, 3, 4, 5, 6, 4, 1, 2, 5, 1, 2, 3, 4, 5, 6, 7, 4, 5, 1, 2, 3, 4, 5, 6, 3, 7, 1, 3, 2, 3, 4, 5, 1, 2, 3, 4, 5, 7, 1, 2, 3, 4, 5, 6, 1, 2, 1, 1, 4, 7, 1, 2, 3, 6, 7, 1, 3, 1, 6, 4, 6, 4, 2, 3, 7, 5, 3, 1, 2, 3, 4, 7, 5, 7, 2, 5, 7, 1, 3, 4, 5, 6, 7, 1, 2, 3, 4, 5, 6, 5, 1, 4, 5, 1, 2, 3, 6, 4, 2, 2, 5, 1, 1, 2, 3, 5, 5, 3, 4, 5, 1, 2, 3, 4, 5, 6, 7, 1, 2, 3, 4, 5, 6, 1, 2, 3, 4, 5, 1, 2, 3, 5, 1, 2, 3, 5, 6, 6, 4, 1, 5, 6, 7, 3, 3, 4, 5, 1, 6, 2, 5, 3, 3, 2, 3, 4, 6, 1, 2, 3, 1, 2, 3, 4, 5, 6, 1, 2, 3, 4, 6, 7, 1, 6, 4, 7, 1, 2, 3, 4, 5, 6, 1, 6, 7, 1, 2, 6, 1, 2, 3, 4, 5, 6, 7, 1, 2, 3, 6, 2, 1, 2, 3, 6, 1, 2, 3, 6, 1, 2, 4, 3, 6, 7, 1, 2, 3, 4, 5, 6, 7, 7, 6, 1, 6, 1, 2, 3, 4, 5, 6, 7, 1, 6, 1, 2, 4, 1, 1, 2, 3, 4, 5, 6, 1, 2, 5, 3, 1, 1, 2, 3, 5, 6, 7, 7, 1, 2, 3, 4, 6, 6, 1, 2, 4, 5, 1, 3, 4, 7, 1, 4, 1, 2, 3, 5, 3, 5, 1, 2, 3, 6, 7, 1, 1, 4, 2, 4, 1, 2, 5, 7, 6, 7, 6, 5, 6, 4, 1, 2, 3, 4, 5, 7, 2, 6, 7, 1, 2, 3, 4, 5, 6, 7, 6, 1, 1, 2, 3, 4, 5, 6, 1, 2, 3, 4, 6, 5, 1, 3, 4, 7, 1, 1, 2, 6, 1, 2, 3, 4, 5, 6, 7, 2, 1, 2, 3, 4, 5, 6, 7, 7, 1, 2, 3, 4, 5, 6, 1, 2, 3, 4, 5, 6, 7, 1, 2, 5, 6, 1, 2, 3, 4, 5, 6, 7, 5, 7, 3, 7, 1, 2, 3, 4, 5, 6, 1, 2, 3, 4, 5, 6, 7, 1, 2, 3, 4, 5, 6, 7, 2, 5, 7, 1, 7], \"Freq\": [0.9689547465585095, 0.9488787994367123, 0.17707012428579041, 0.7082804971431617, 0.9269467021608622, 0.430281673107135, 0.34855219329907583, 0.08533519215253235, 0.05047997282262477, 0.014422849377892793, 0.07091234277463956, 0.19885024272902088, 0.43747053400384595, 0.04282928304932757, 0.2508572292889186, 0.04282928304932757, 0.024473876028187184, 0.003059234503523398, 0.05413450765898138, 0.32480704595388826, 0.10826901531796276, 0.4872105689308324, 0.8571624245198806, 0.09524026939109784, 0.12025528991792167, 0.12025528991792167, 0.6764360057883094, 0.07515955619870104, 0.8874031207880175, 0.05220018357576574, 0.017400061191921914, 0.017400061191921914, 0.017400061191921914, 0.06661179306089247, 0.019031940874540704, 0.9135331619779539, 0.9822653057983395, 0.20212312988491676, 0.793520435844488, 0.9851769318900298, 0.03398282455242134, 0.9515190874677975, 0.9164093970449607, 0.8130734558834605, 0.1355122426472434, 0.027075891425564297, 0.04512648570927383, 0.8754538227599122, 0.027075891425564297, 0.01805059428370953, 0.9939332362129187, 0.9629810851017315, 0.960597082095655, 0.9227084949714686, 0.023659192178755603, 0.023659192178755603, 0.13911861791629276, 0.8347117074977566, 0.15346650464438624, 0.555467260173044, 0.035310877174814535, 0.20779093106717783, 0.04345954113823327, 0.0027162213211395793, 0.0013581106605697897, 0.12022773452397086, 0.841594141667796, 0.02003795575399514, 0.5240867305532129, 0.555686198377771, 0.1587674852507917, 0.1587674852507917, 0.10584499016719448, 0.7269933140956687, 0.8955850943658589, 0.5968729644925393, 0.21161859650190032, 0.0705395321673001, 0.04340894287218468, 0.05968729644925393, 0.005426117859023085, 0.005426117859023085, 0.05430771027269439, 0.06335899531814346, 0.8508207942722121, 0.01810257009089813, 0.8545284375892748, 0.4927423686826805, 0.19162203226548685, 0.10167699671229914, 0.09972166985244724, 0.06843644009481674, 0.044972517776593855, 0.04948434044739153, 0.940202468500439, 0.5252802791943528, 0.52460653868707, 0.01998624879431909, 0.9393536933329973, 0.01998624879431909, 0.26920547211646945, 0.3958904001712786, 0.17419177607536257, 0.07917808003425572, 0.04750684802055343, 0.04750684802055343, 0.7269933281705092, 0.509418352771019, 0.1114352646686604, 0.13531424995480193, 0.03183864704818869, 0.023878985286141515, 0.17511255876503778, 0.007959661762047172, 0.7269933136355831, 0.2748373800247558, 0.1691306953998497, 0.12684802154988728, 0.021141336924981213, 0.12684802154988728, 0.2748373800247558, 0.9688339955563513, 0.1826697983972199, 0.42622952959351307, 0.09133489919860995, 0.15222483199768322, 0.060889932799073294, 0.060889932799073294, 0.8387057964088241, 0.14644069461106454, 0.013312790419187684, 0.011240536574934335, 0.03372160972480301, 0.9329645357195498, 0.8814159543674606, 0.09040163634538058, 0.022600409086345145, 0.036315602447899054, 0.02723670183592429, 0.018157801223949527, 0.9078900611974764, 0.5247067554771713, 0.4412052950078131, 0.23292056183153584, 0.10600871724384003, 0.08435904963770369, 0.12392568353857356, 0.011944644196489019, 0.9034002548382293, 0.9684243294322213, 0.15542123336977354, 0.2849389278445848, 0.10361415557984902, 0.05180707778992451, 0.18132477226473578, 0.1295176944748113, 0.07771061668488677, 0.20400235902086797, 0.18626302345383597, 0.47009239252634794, 0.12417534896922398, 0.017739335567032, 0.008869667783516, 0.09664847426327584, 0.8698362683694826, 0.9909171566083389, 0.6468812706303996, 0.7803205470861888, 0.26847289321321, 0.3603188829966766, 0.04945553296032816, 0.31792842617353817, 0.007065076137189737, 0.11631219743244202, 0.5815609871622102, 0.23262439486488404, 0.6465115003153677, 0.14164454114486685, 0.7082227057243342, 0.9816327331738238, 0.4591075359358159, 0.4591075359358159, 0.9498995888190018, 0.2862380768177818, 0.5724761536355636, 0.03700550496067489, 0.9251376240168723, 0.1921080853335912, 0.0480270213333978, 0.0720405320000967, 0.6723782986675692, 0.22413977785522543, 0.01400873611595159, 0.04202620834785477, 0.714445541913531, 0.8233496362446553, 0.9634629731511335, 0.9648246383329196, 0.8955176728166836, 0.6349609697158332, 0.1587402424289583, 0.07937012121447914, 0.11905518182171872, 0.9485760347773405, 0.18251689382487482, 0.2737753407373122, 0.1368876703686561, 0.05703652932027338, 0.10266575277649208, 0.22814611728109352, 0.034221917592164024, 0.9690407240173392, 0.5621123539579497, 0.37474156930529984, 0.9193794579569222, 0.07072149676591709, 0.044631593219304336, 0.937263457605391, 0.3439484253764122, 0.3439484253764122, 0.2063690552258473, 0.04012731629391476, 0.04012731629391476, 0.011464947512547072, 0.01719742126882061, 0.015923344271155444, 0.9554006562693266, 0.026538907118592404, 0.25300838508382867, 0.38573409529173874, 0.087101247323941, 0.20323624375586236, 0.04147678443997191, 0.024886070663983146, 0.02711836953046343, 0.5586384123275466, 0.39050452123867335, 0.005423673906092686, 0.01627102171827806, 0.4541213935796051, 0.4541213935796051, 0.09774687682492787, 0.8699472037418581, 0.009774687682492787, 0.009774687682492787, 0.5241117530146913, 0.8705658859433176, 0.0900040411854795, 0.9000404118547949, 0.9689956094694834, 0.9632773912205429, 0.026757705311681746, 0.990484460771473, 0.04094310198718483, 0.9416913457052511, 0.9339005019782268, 0.5240628812482719, 0.27450734436597385, 0.3334923935685798, 0.14973127874507666, 0.12477606562089721, 0.10889547545096484, 0.0068059672156853025, 0.9798159173349364, 0.9828616023335243, 0.9902645215354858, 0.929866688847835, 0.12510766120040526, 0.04170255373346842, 0.04170255373346842, 0.1876614918006079, 0.6255383060020263, 0.9852302482074614, 0.6482772739295853, 0.19001230442763709, 0.011177194378096299, 0.10618334659191483, 0.027942985945240747, 0.011177194378096299, 0.15308162084558788, 0.17859522431985253, 0.025513603474264648, 0.6250832851194839, 0.012756801737132324, 0.6484261039420257, 0.37318053124655126, 0.23990177008706867, 0.1510492626474136, 0.04442625371982753, 0.1510492626474136, 0.035541002975862025, 0.9852616293542175, 0.24908526951127954, 0.42700331916219353, 0.11183420263771734, 0.11691757548488632, 0.05591710131885867, 0.02541686423584485, 0.01525011854150691, 0.6353275787518743, 0.023974625613278275, 0.2517335689394219, 0.023974625613278275, 0.017980969209958706, 0.04794925122655655, 0.36140388057985623, 0.36714045011286983, 0.04589255626410873, 0.020077993365547567, 0.18643850982294172, 0.017209708599040772, 0.0028682847665067956, 0.2748722940775504, 0.0268168091782976, 0.067042022945744, 0.0067042022945744, 0.6234908133954192, 0.0067042022945744, 0.6465037912262956, 0.12586390653419893, 0.21576669691576958, 0.017980558076314133, 0.017980558076314133, 0.6113389745946805, 0.028166473890243574, 0.9576601122682815, 0.35800620045802506, 0.35800620045802506, 0.4892675074007135, 0.17698363745361007, 0.1503335916594371, 0.09020015499566227, 0.07106678878446118, 0.012983355643315023, 0.009566683105600543, 0.9033787537907925, 0.359244035665941, 0.2548126299490977, 0.06683609965877972, 0.07936786834480092, 0.22766046446271843, 0.008354512457347465, 0.004177256228673733, 0.8916543955672096, 0.07430453296393413, 0.14521092255090712, 0.12100910212575594, 0.06050455106287797, 0.6292473310539309, 0.01815136531886339, 0.030252275531438985, 0.3207896673245291, 0.16633538305716325, 0.015841465053063167, 0.007920732526531584, 0.26930490590207384, 0.21782014447961853, 0.04656982938943574, 0.9313965877887149, 0.02328491469471787, 0.9885192009569476, 0.011233172738147132, 0.5240492121974043, 0.1628386428271297, 0.42548161512895183, 0.14182720504298393, 0.2626429723018221, 0.0052528594460364425, 0.05823189855261545, 0.014557974638153863, 0.9244313895227703, 0.9606056674070163, 0.9605195511083967, 0.15729808186315283, 0.6291923274526113, 0.9645258331364208, 0.9739725955274753, 0.020291095740155734, 0.9642623545099289, 0.9893698258468943, 0.3211267555119864, 0.35975285110423, 0.0977013006156751, 0.11890778447024024, 0.08179643772475124, 0.01817698616105583, 0.002272123270131979, 0.9485957321209632, 0.9816563471202641, 0.46520246402399906, 0.2841057905289423, 0.11463917863448549, 0.046520246402399906, 0.0847333059472284, 0.0016614373715142824, 0.0016614373715142824, 0.9819243790079399, 0.9591358688050595, 0.9730497817138829, 0.22294690334685124, 0.3952240559330545, 0.040535800608518406, 0.13680832705374962, 0.0861385762931016, 0.10640647659736081, 0.005066975076064801, 0.9750356361684126, 0.8781028020806649, 0.8548961259379791, 0.6148053822030624, 0.2166937002846859, 0.04031510702970901, 0.04031510702970901, 0.08566960243813164, 0.005039388378713626, 0.9131975096127973, 0.964746420477292, 0.17769722916777236, 0.2284678660728502, 0.05077063690507782, 0.06346329613134727, 0.44424307291943094, 0.03807797767880836, 0.9514218204049127, 0.9966752659333795, 0.9355428673085883, 0.9213350127517618, 0.9650377361702128, 0.974242809453558, 0.9624528783251065, 0.9650289345809745, 0.8564333831645256, 0.07182989665250859, 0.060779143321353424, 0.005525376665577585, 0.06552410746716644, 0.06552410746716644, 0.7862892896059973, 0.9714474983321062, 0.994357006540282, 0.03738230424086639, 0.9345576060216597, 0.02816962034991719, 0.9577670918971843, 0.9395560425283223, 0.9353837996366298, 0.7532914282737568, 0.25109714275791895, 0.5240278987950417, 0.041983452549009447, 0.3988427992155898, 0.07347104196076654, 0.493305567450861, 0.9683051212318393, 0.8633431321967401, 0.009755467328279846, 0.9072584615300257, 0.07804373862623877, 0.9586022540366276, 0.6567619403894822, 0.3064889055150917, 0.09313039325574364, 0.9002604681388552, 0.9133246799089972, 0.42362675973106073, 0.18827855988047143, 0.056483567964141425, 0.06119053196115321, 0.1600367758984007, 0.10355320793425929, 0.004706963997011785, 0.646655445839083, 0.9585469458009397, 0.17823886739120315, 0.2673583010868047, 0.29409413119548516, 0.08020749032604141, 0.09803137706516173, 0.07575151864126134, 0.0044559716847800785, 0.012808451384704805, 0.9734423052375653, 0.5241173973798211, 0.33346631086298734, 0.36177948820041084, 0.17617088121063484, 0.06291817186094101, 0.04089681170961166, 0.025167268744376404, 0.09308171508946823, 0.25597471649603765, 0.5468550761506259, 0.04654085754473412, 0.02327042877236706, 0.03490564315855059, 0.33139955651346853, 0.4082458304876062, 0.08164916609752124, 0.08405061215921304, 0.09125495034428845, 0.002401446061691801, 0.40463850165201093, 0.18640650076103876, 0.31370850128077254, 0.027279000111371524, 0.06819750027842882, 0.00454650001856192, 0.07612978660636698, 0.8374276526700368, 0.5244981338275253, 0.2503512146233505, 0.2384297282127148, 0.01192148641063574, 0.4768594564254296, 0.02384297282127148, 0.9885849069683298, 0.5241071017020139, 0.44605496763470187, 0.25295757904825084, 0.12165135480946415, 0.09654869429322552, 0.07144603377698688, 0.011585843315187062, 0.0019309738858645103, 0.8981371343328427, 0.544082976320481, 0.15545227894870886, 0.23317841842306328, 0.9640938319995214, 0.020085288166656695, 0.006695096055552232, 0.006695096055552232, 0.4327116158949901, 0.18544783538356718, 0.37089567076713437, 0.5244980582500531, 0.9903482279279522, 0.113528407866365, 0.8514630589977376, 0.957305833044961, 0.9422668475006597, 0.8737271072593642, 0.8433573868411809, 0.8982453083921011, 0.47027934449585607, 0.22257495693697005, 0.15436650239176955, 0.10769755980821132, 0.0358991866027371, 0.007179837320547422, 0.291652980034474, 0.583305960068948, 0.09619881458493808, 0.5401933434384985, 0.07399908814226006, 0.27379662612636224, 0.014799817628452012, 0.025713173698156466, 0.10285269479262586, 0.10285269479262586, 0.7456820372465375, 0.9468170807741794, 0.023093099531077545, 0.5309746869313892, 0.1258363971020924, 0.6614009664109979, 0.038298033900636824, 0.13647473985226932, 0.02705178585044982, 0.01094229540018195, 0.3945479472312181, 0.3266687305032666, 0.09121269747818483, 0.09757637404643028, 0.06787921672795151, 0.021212255227484846, 0.9207924473266106, 0.979901886218287, 0.06800877316770132, 0.23122982877018447, 0.6936894863105534, 0.9661347249228448, 0.02415336812307112, 0.913329315978681, 0.986561820471197, 0.7804848525578439, 0.03207094261673333, 0.8979863932685332, 0.03207094261673333, 0.25076339203270365, 0.12111701247838068, 0.20641068323780368, 0.039235088549334586, 0.37699802475664973, 0.00511762024556538, 0.9767192301507279, 0.9733468683392966, 0.025705687458330007, 0.8996990610415502, 0.051411374916660015, 0.025705687458330007, 0.9658333078146534, 0.2063610901824071, 0.24207743271397755, 0.14286537012628184, 0.06746420255963309, 0.27382529274204015, 0.03968482503507829, 0.023810895021046972, 0.82008900898578, 0.2651719255105714, 0.22729022186620407, 0.11364511093310203, 0.007576340728873469, 0.3712406957148, 0.022729022186620408, 0.28971732784745835, 0.1564118088992413, 0.3003817693633157, 0.07998331136893022, 0.17240847117302735, 0.257459643903444, 0.514919287806888, 0.12059484486148685, 0.5125280906613191, 0.09044613364611513, 0.12059484486148685, 0.03014871121537171, 0.09044613364611513, 0.45363185542258216, 0.45363185542258216, 0.9486230297722164, 0.044917902306697316, 0.9432759484406437, 0.006416843186671045, 0.47222712331583566, 0.4919032534539955, 0.01967613013815982, 0.39704715066722407, 0.21578649492783916, 0.057543065314090446, 0.17550634920797586, 0.1294718969567035, 0.020140072859931656, 0.002877153265704522, 0.3773728108228033, 0.18868640541140164, 0.12579093694093443, 0.12579093694093443, 0.18868640541140164, 0.05525054465337048, 0.16575163396011144, 0.7735076251471867, 0.4149947456500971, 0.4149947456500971, 0.6464213076908963, 0.16050205926724528, 0.5821194089841881, 0.1054043374292357, 0.07426214682514334, 0.05270216871461785, 0.023955531233917207, 0.002395553123391721, 0.2642308470795952, 0.32054233908016466, 0.07796975815463465, 0.19925604861739965, 0.12561794369357804, 0.012994959692439108, 0.9604414089206854, 0.42767404946356513, 0.2520222077196009, 0.0610962927805093, 0.09928147576832762, 0.07637036597563662, 0.045822219585381976, 0.022911109792690988, 0.07203347966794747, 0.9004184958493433, 0.036016739833973736, 0.4015671351232316, 0.2944825657570365, 0.10134789600729179, 0.07266452921277525, 0.12238236498993725, 0.007648897811871078, 0.9951096292732321, 0.0764753796147256, 0.05098358640981707, 0.8794668655693444, 0.43100622569327346, 0.07183437094887891, 0.43100622569327346, 0.015393079489045482, 0.04104821197078795, 0.005131026496348494, 0.010262052992696988, 0.9486108799579597, 0.977615446218443, 0.5376816188054829, 0.20447047475701466, 0.007572980546556098, 0.022718941639668293, 0.06815682491900489, 0.15145961093112195, 0.9266509453502165, 0.04633254726751083, 0.06416197490805035, 0.8982676487127049, 0.06313906250530972, 0.7155760417268435, 0.14732447917905603, 0.06313906250530972, 0.3081460994639766, 0.39031839265437035, 0.0958676753887927, 0.08217229319039375, 0.08901998428959323, 0.02739076439679792, 0.2735008562309608, 0.2643841610232621, 0.05470017124619216, 0.3190843322694543, 0.02735008562309608, 0.05470017124619216, 0.03597793117624022, 0.9354262105822457, 0.9414112646877745, 0.14892137795173477, 0.4467641338552043, 0.29784275590346954, 0.4963009151861929, 0.2373613072629618, 0.15104810462188478, 0.04315660132053851, 0.08631320264107702, 0.04359862894840589, 0.9155712079165237, 0.12682414688851137, 0.7609448813310682, 0.8737518994023008, 0.8706023612876184, 0.8432256618508915, 0.9238220703804658, 0.2919973914076748, 0.5839947828153496, 0.9585519206625799, 0.9268803102448885, 0.08213644024768799, 0.07301016910905599, 0.4928186414861279, 0.346798303268016, 0.009126271138631998, 0.8955155610065921, 0.5240684060650819, 0.046959627829702054, 0.8922329287643391, 0.046959627829702054, 0.4210808872629727, 0.07018014787716212, 0.04678676525144141, 0.04678676525144141, 0.3275073567600899, 0.09357353050288282, 0.3250175764840213, 0.5296582727887754, 0.09028266013445035, 0.0421319080627435, 0.006018844008963358, 0.006018844008963358, 0.9413940513282986, 0.05061319469552974, 0.9110375045195354, 0.9414254925814807, 0.05699902378875169, 0.28499511894375845, 0.22799609515500677, 0.3989931665212618, 0.9329590523434721, 0.9712569168095306, 0.981615866732263, 0.9409659270165526, 0.9863071385657964, 0.36755998457518235, 0.020419999143065685, 0.020419999143065685, 0.5717599760058392, 0.9842664161184194, 0.9390045360150826, 0.04367462958209686, 0.9413581614242214, 0.376926862556886, 0.3074929668227228, 0.0595147677721399, 0.16201242337971417, 0.02479781990505829, 0.06612751974682211, 0.0016531879936705527, 0.48477131787091826, 0.17592507503380098, 0.1251022755795918, 0.10164559890841834, 0.06646058390165814, 0.03909446111862244, 0.35481855596547196, 0.28478857781439193, 0.05602398252086399, 0.26611391697410397, 0.03268065647050399, 0.6254030554745714, 0.18174105885585834, 0.07483455364652991, 0.11759715573026129, 0.31543016951210434, 0.3351445551066109, 0.01577150847560522, 0.17348659323165738, 0.1616579618749535, 0.9256954211694127, 0.9881523852493563, 0.5359543881401934, 0.08932573135669888, 0.08932573135669888, 0.17865146271339777, 0.9821239418664466, 0.9652883200449944, 0.011356333176999934, 0.011356333176999934, 0.12805673419302774, 0.7683404051581664, 0.05445324167601505, 0.9257051084922557, 0.962685517000733, 0.9889665532495724, 0.03918228318270215, 0.6549038760537359, 0.29106838935721596, 0.011194938052200613, 0.12225256864471785, 0.7470990306066091, 0.12225256864471785, 0.1899938148346557, 0.45753612552019124, 0.10856789419123182, 0.1202001685688638, 0.10081304460614383, 0.01938712396271997, 0.806135503086007, 0.03504936969939161, 0.052574054549087416, 0.052574054549087416, 0.03504936969939161, 0.017524684849695805, 0.9613105398150948, 0.041796110426743256, 0.940062875409937, 0.5242981715214354, 0.15976305114819744, 0.1401430273229802, 0.039240047650434456, 0.06446579256857089, 0.5801921331171381, 0.016817163278757624, 0.05983375555191234, 0.897506333278685, 0.5240953692084621, 0.9055567788118332, 0.043121751371992055, 0.043121751371992055, 0.3121967415342714, 0.3187397870155286, 0.21405105931541363, 0.06262629246346163, 0.07758182499204948, 0.010281928613404148, 0.004673603915183703, 0.08338032569316425, 0.4585917913124034, 0.04169016284658213, 0.4169016284658213, 0.9735379910594577, 0.18843181220600347, 0.10468434011444637, 0.020936868022889275, 0.6699797767324568, 0.9054712476264722, 0.05487704531069529, 0.013719261327673822, 0.027438522655347644, 0.9419930967893484, 0.035324741129600566, 0.017662370564800283, 0.15971961064353363, 0.7985980532176682, 0.5243871751660282, 0.37352805834012526, 0.2760859561644404, 0.09744210217568486, 0.016240350362614144, 0.024360525543921215, 0.20300437953267678, 0.008120175181307072, 0.5254284687446074, 0.9434052877550249, 0.9750044042267402, 0.018932124353917286, 0.2730433897699389, 0.4218170316317646, 0.13302113860586767, 0.09976585395440075, 0.04025639720967048, 0.024503893953712465, 0.007001112558203562, 0.94339756842566, 0.052410976023647776, 0.07573140441844567, 0.908776853021348, 0.9778579634865436, 0.9863488639259613, 0.42223315738599, 0.33687849761333827, 0.09080282954537419, 0.08535465977265175, 0.04358535818177962, 0.02179267909088981, 0.06690193297126575, 0.896485901814961, 0.04014115978275945, 0.8973511332941833, 0.9692886597282123, 0.09747725308838018, 0.1754590555590843, 0.6238544197656332, 0.019495450617676036, 0.019495450617676036, 0.058486351853028105, 0.7269928270808288, 0.2801204122435895, 0.3633994537214134, 0.10599150733541224, 0.09084986343035335, 0.15898726100311836, 0.7804212812020849, 0.082372396128258, 0.219659723008688, 0.631521703649978, 0.054914930752172, 0.12131060840627836, 0.3639318252188351, 0.12131060840627836, 0.3639318252188351, 0.9374857041973088, 0.034721692748048476, 0.0993583837288716, 0.12774649336569205, 0.028388109636820456, 0.7380908505573319, 0.8780593053283624, 0.9073579831199623, 0.08558916708602432, 0.8216560040258335, 0.017117833417204863, 0.017117833417204863, 0.03423566683440973, 0.9695264087066879, 0.9644549489081046, 0.8433553849679285, 0.21014679202889064, 0.7355137721011172, 0.888240006364396, 0.030367179704765677, 0.0759179492619142, 0.007591794926191419, 0.37620719804406444, 0.37620719804406444, 0.7804119146028297, 0.9364972161858257, 0.05508807154034269, 0.9221498886439485, 0.1380696193637773, 0.20304355788790776, 0.5035480235620112, 0.08933916547067942, 0.04060871157758156, 0.024365226946548933, 0.23762783539523377, 0.23762783539523377, 0.47525567079046754, 0.6735644041985053, 0.0799144208371108, 0.05708172916936485, 0.1141634583387297, 0.06278990208630134, 0.005708172916936485, 0.005708172916936485, 0.9462922397441681, 0.9863286229580984, 0.4325146221477992, 0.1081286555369498, 0.35349752771695125, 0.04574673888101722, 0.0540643277684749, 0.004158794443728839, 0.26226526081998847, 0.04683308228928365, 0.655663152049971, 0.01873323291571346, 0.01873323291571346, 0.9464388977379538, 0.10653848844018594, 0.2130769768803719, 0.4261539537607438, 0.2130769768803719, 0.9515314777553354, 0.09154476391007596, 0.4119514375953418, 0.5034962015054177, 0.386852454317907, 0.27003067355853905, 0.015320889279917108, 0.003830222319979277, 0.31216311907831107, 0.0019151111599896384, 0.009575555799948192, 0.9408897675189374, 0.6038134304102583, 0.07547667880128228, 0.07547667880128228, 0.10063557173504305, 0.025158892933760762, 0.025158892933760762, 0.07547667880128228, 0.5240717412603951, 0.2211705136601976, 0.5213304964847515, 0.08425543377531337, 0.1105852568300988, 0.057925610720527945, 0.005265964610957086, 0.3179734822860046, 0.33036205951792685, 0.1837638956068468, 0.06813717477557242, 0.06813717477557242, 0.026841917335831557, 0.004129525743974086, 0.06551591530624294, 0.8255005328586611, 0.052412732244994355, 0.052412732244994355, 0.24155915857914448, 0.3297474228223242, 0.09585680895997797, 0.19554789027835506, 0.11886244311037268, 0.011502817075197357, 0.003834272358399119, 0.3600412901613576, 0.3600412901613576, 0.9489240886219241, 0.7269933346495783, 0.27921477832727903, 0.37455640995122796, 0.21111361288160121, 0.018160310785514083, 0.10442178701670599, 0.013620233089135562, 0.3886067042762717, 0.27730672586704824, 0.12639150090538934, 0.09054913497699535, 0.09432201560103683, 0.016977962808186628, 0.005659320936062209, 0.18200926996415115, 0.24819445904202428, 0.30886421569674133, 0.04963889180840486, 0.19304013481046334, 0.005515432423156095, 0.016546297269468286, 0.9519326726944317, 0.02163483347032799, 0.02163483347032799, 0.7559943419472083, 0.24054365425592988], \"Term\": [\"aag\", \"abrams\", \"acheron\", \"acheron\", \"achievement\", \"action\", \"action\", \"action\", \"action\", \"action\", \"action\", \"actor\", \"actor\", \"actor\", \"actor\", \"actor\", \"actor\", \"actor\", \"agent\", \"agent\", \"agent\", \"agent\", \"ajay\", \"ajay\", \"alien\", \"alien\", \"alien\", \"alien\", \"ancient\", \"ancient\", \"ancient\", \"ancient\", \"ancient\", \"animal\", \"animal\", \"animal\", \"animated\", \"animation\", \"animation\", \"anime\", \"anna\", \"anna\", \"asian\", \"assassin\", \"assassin\", \"avatar\", \"avatar\", \"avatar\", \"avatar\", \"avatar\", \"avenger\", \"awaken\", \"babban\", \"baby\", \"baby\", \"baby\", \"bachchan\", \"bachchan\", \"bad\", \"bad\", \"bad\", \"bad\", \"bad\", \"bad\", \"bad\", \"ball\", \"ball\", \"ball\", \"baloney\", \"barbarian\", \"barbarian\", \"barbarian\", \"barbarian\", \"barbarism\", \"barebone\", \"battle\", \"battle\", \"battle\", \"battle\", \"battle\", \"battle\", \"battle\", \"beast\", \"beast\", \"beast\", \"beast\", \"beyonce\", \"big\", \"big\", \"big\", \"big\", \"big\", \"big\", \"bollywood\", \"bollywood\", \"bombing\", \"borderline\", \"bourne\", \"bourne\", \"bourne\", \"box\", \"box\", \"box\", \"box\", \"box\", \"box\", \"broadsword\", \"brother\", \"brother\", \"brother\", \"brother\", \"brother\", \"brother\", \"brother\", \"builder\", \"building\", \"building\", \"building\", \"building\", \"building\", \"building\", \"bulma\", \"business\", \"business\", \"business\", \"business\", \"business\", \"business\", \"butler\", \"butler\", \"butler\", \"cameron\", \"cameron\", \"cameron\", \"captain\", \"captain\", \"captain\", \"car\", \"car\", \"car\", \"car\", \"celluloid\", \"character\", \"character\", \"character\", \"character\", \"character\", \"character\", \"chewbacca\", \"chow\", \"class\", \"class\", \"class\", \"class\", \"class\", \"class\", \"class\", \"classic\", \"classic\", \"classic\", \"classic\", \"classic\", \"classic\", \"club\", \"club\", \"coaster\", \"collector\", \"comatose\", \"comedy\", \"comedy\", \"comedy\", \"comedy\", \"comedy\", \"community\", \"community\", \"community\", \"conjuring\", \"conner\", \"conner\", \"connor\", \"conscience\", \"conscience\", \"conspiracy\", \"correctness\", \"correctness\", \"credence\", \"credence\", \"crew\", \"crew\", \"crew\", \"crew\", \"crime\", \"crime\", \"crime\", \"crime\", \"daisy\", \"damon\", \"dangal\", \"darth\", \"daughter\", \"daughter\", \"daughter\", \"daughter\", \"dawson\", \"death\", \"death\", \"death\", \"death\", \"death\", \"death\", \"death\", \"deckard\", \"descent\", \"descent\", \"dhoom\", \"dhoom\", \"diesel\", \"diesel\", \"different\", \"different\", \"different\", \"different\", \"different\", \"different\", \"different\", \"dinosaur\", \"dinosaur\", \"dinosaur\", \"director\", \"director\", \"director\", \"director\", \"director\", \"director\", \"disaster\", \"disaster\", \"disaster\", \"disaster\", \"disaster\", \"discovery\", \"discovery\", \"disney\", \"disney\", \"disney\", \"disney\", \"disquietening\", \"djimon\", \"dom\", \"dom\", \"dominic\", \"dragon\", \"dragon\", \"dragonball\", \"droid\", \"droid\", \"dumbledore\", \"earnest\", \"effect\", \"effect\", \"effect\", \"effect\", \"effect\", \"effect\", \"egyptian\", \"elastigirl\", \"elsa\", \"emmy\", \"empire\", \"empire\", \"empire\", \"empire\", \"empire\", \"endgame\", \"epic\", \"epic\", \"epic\", \"epic\", \"epic\", \"epic\", \"episode\", \"episode\", \"episode\", \"episode\", \"episode\", \"european\", \"evil\", \"evil\", \"evil\", \"evil\", \"evil\", \"evil\", \"evolution\", \"fact\", \"fact\", \"fact\", \"fact\", \"fact\", \"fact\", \"fact\", \"family\", \"family\", \"family\", \"family\", \"family\", \"family\", \"fan\", \"fan\", \"fan\", \"fan\", \"fan\", \"fan\", \"fan\", \"fantastic\", \"fantastic\", \"fantastic\", \"fantastic\", \"fantastic\", \"fantastic\", \"farewell\", \"fast\", \"fast\", \"fast\", \"fast\", \"fast\", \"fat\", \"fat\", \"favorable\", \"favorable\", \"film\", \"film\", \"film\", \"film\", \"film\", \"film\", \"film\", \"finn\", \"first\", \"first\", \"first\", \"first\", \"first\", \"first\", \"first\", \"flop\", \"flop\", \"force\", \"force\", \"force\", \"force\", \"force\", \"force\", \"franchise\", \"franchise\", \"franchise\", \"franchise\", \"franchise\", \"franchise\", \"french\", \"french\", \"french\", \"frozen\", \"frozen\", \"fugitive\", \"funny\", \"funny\", \"funny\", \"funny\", \"funny\", \"furious\", \"furious\", \"furious\", \"gabbar\", \"gangster\", \"gear\", \"gear\", \"geoffrey\", \"god\", \"god\", \"goddess\", \"goku\", \"good\", \"good\", \"good\", \"good\", \"good\", \"good\", \"good\", \"gopal\", \"grandfather\", \"great\", \"great\", \"great\", \"great\", \"great\", \"great\", \"great\", \"greengrass\", \"gri\", \"grindelwald\", \"guy\", \"guy\", \"guy\", \"guy\", \"guy\", \"guy\", \"guy\", \"hacker\", \"hamlet\", \"han\", \"hero\", \"hero\", \"hero\", \"hero\", \"hero\", \"hero\", \"hobb\", \"hogwart\", \"hope\", \"hope\", \"hope\", \"hope\", \"hope\", \"hope\", \"horu\", \"horus\", \"hospital\", \"hounsou\", \"hyena\", \"ice\", \"icy\", \"incoherent\", \"incredible\", \"incredible\", \"incredible\", \"incredible\", \"indian\", \"indian\", \"indian\", \"indominus\", \"infinity\", \"intelligence\", \"intelligence\", \"iraqi\", \"iraqi\", \"jai\", \"jakande\", \"jake\", \"jake\", \"jeanette\", \"joke\", \"joke\", \"joke\", \"joke\", \"journalist\", \"jude\", \"jurassic\", \"jurassic\", \"jurassic\", \"katherine\", \"khalar\", \"khalar\", \"kingdom\", \"kingdom\", \"kristoff\", \"last\", \"last\", \"last\", \"last\", \"last\", \"last\", \"last\", \"legitimate\", \"leia\", \"life\", \"life\", \"life\", \"life\", \"life\", \"life\", \"life\", \"lion\", \"lion\", \"lite\", \"little\", \"little\", \"little\", \"little\", \"little\", \"little\", \"live\", \"live\", \"live\", \"live\", \"live\", \"live\", \"lot\", \"lot\", \"lot\", \"lot\", \"lot\", \"lot\", \"love\", \"love\", \"love\", \"love\", \"love\", \"love\", \"luke\", \"luke\", \"lupita\", \"magic\", \"magic\", \"magic\", \"magic\", \"magic\", \"manga\", \"manure\", \"many\", \"many\", \"many\", \"many\", \"many\", \"many\", \"many\", \"map\", \"marique\", \"marique\", \"marique\", \"marvel\", \"marvel\", \"marvel\", \"marvel\", \"mask\", \"mask\", \"mask\", \"maz\", \"mcu\", \"menace\", \"menace\", \"menzel\", \"miller\", \"mob\", \"mobster\", \"mohanlal\", \"moment\", \"moment\", \"moment\", \"moment\", \"moment\", \"moment\", \"monastery\", \"monastery\", \"money\", \"money\", \"money\", \"money\", \"money\", \"moon\", \"moon\", \"moon\", \"moon\", \"mortal\", \"mortal\", \"motivated\", \"movie\", \"movie\", \"movie\", \"movie\", \"movie\", \"movie\", \"much\", \"much\", \"much\", \"much\", \"much\", \"much\", \"muggle\", \"murphy\", \"musical\", \"musical\", \"musical\", \"mythology\", \"mythology\", \"nala\", \"nash\", \"nathalie\", \"native\", \"native\", \"native\", \"new\", \"new\", \"new\", \"new\", \"new\", \"new\", \"newt\", \"nikolaj\", \"officer\", \"officer\", \"officer\", \"officer\", \"olaf\", \"old\", \"old\", \"old\", \"old\", \"old\", \"old\", \"old\", \"op\", \"order\", \"order\", \"order\", \"order\", \"order\", \"order\", \"original\", \"original\", \"original\", \"original\", \"original\", \"orphan\", \"orphan\", \"oscar\", \"oscar\", \"oscar\", \"oscar\", \"oscar\", \"oscar\", \"own\", \"own\", \"pandora\", \"park\", \"park\", \"park\", \"parody\", \"parody\", \"parody\", \"part\", \"part\", \"part\", \"part\", \"part\", \"part\", \"part\", \"passion\", \"passion\", \"passion\", \"passion\", \"passion\", \"pathetic\", \"pathetic\", \"pathetic\", \"pathos\", \"pathos\", \"penthouse\", \"people\", \"people\", \"people\", \"people\", \"people\", \"people\", \"people\", \"performance\", \"performance\", \"performance\", \"performance\", \"performance\", \"performance\", \"piccolo\", \"piece\", \"piece\", \"piece\", \"piece\", \"piece\", \"piece\", \"piece\", \"pirate\", \"pirate\", \"pirate\", \"plot\", \"plot\", \"plot\", \"plot\", \"plot\", \"plot\", \"pluto\", \"potter\", \"potter\", \"potter\", \"power\", \"power\", \"power\", \"power\", \"power\", \"power\", \"power\", \"prashant\", \"prequel\", \"previous\", \"previous\", \"previous\", \"previous\", \"previous\", \"previous\", \"pride\", \"pride\", \"prince\", \"prince\", \"princess\", \"princess\", \"princess\", \"princess\", \"problem\", \"problem\", \"problem\", \"problem\", \"problem\", \"problem\", \"production\", \"production\", \"production\", \"production\", \"production\", \"production\", \"professor\", \"professor\", \"proyas\", \"publicity\", \"publicity\", \"publicity\", \"pure\", \"pure\", \"pure\", \"pure\", \"pure\", \"queen\", \"queen\", \"racing\", \"racing\", \"raj\", \"ramsey\", \"ramu\", \"raptor\", \"recipe\", \"recipe\", \"redmayne\", \"reindeer\", \"remake\", \"remake\", \"remake\", \"remake\", \"remake\", \"ren\", \"representative\", \"resistance\", \"resistance\", \"resistance\", \"revenge\", \"revenge\", \"revenge\", \"revenge\", \"revenge\", \"revenge\", \"review\", \"review\", \"review\", \"review\", \"review\", \"review\", \"rey\", \"rgv\", \"rgv\", \"ridley\", \"rock\", \"rock\", \"rock\", \"rock\", \"rosario\", \"roshi\", \"rossum\", \"rowling\", \"russo\", \"saga\", \"saga\", \"saga\", \"saga\", \"scamander\", \"scar\", \"scar\", \"scavenger\", \"scene\", \"scene\", \"scene\", \"scene\", \"scene\", \"scene\", \"scene\", \"screen\", \"screen\", \"screen\", \"screen\", \"screen\", \"screen\", \"script\", \"script\", \"script\", \"script\", \"script\", \"sequel\", \"sequel\", \"sequel\", \"sequel\", \"series\", \"series\", \"series\", \"series\", \"series\", \"shaw\", \"sholay\", \"significant\", \"significant\", \"significant\", \"significant\", \"simba\", \"sister\", \"sister\", \"sister\", \"skyscraper\", \"skyscraper\", \"skywalker\", \"skywalker\", \"snow\", \"snowman\", \"song\", \"song\", \"song\", \"song\", \"source\", \"source\", \"source\", \"special\", \"special\", \"special\", \"special\", \"special\", \"special\", \"spectacle\", \"spectacle\", \"spectacle\", \"spectacle\", \"spectacle\", \"spectacle\", \"spider\", \"spider\", \"spiderman\", \"standoff\", \"star\", \"star\", \"star\", \"star\", \"star\", \"star\", \"statham\", \"statham\", \"stink\", \"stone\", \"stone\", \"stone\", \"story\", \"story\", \"story\", \"story\", \"story\", \"story\", \"story\", \"street\", \"street\", \"street\", \"street\", \"student\", \"stunt\", \"stunt\", \"stunt\", \"stunt\", \"super\", \"super\", \"super\", \"super\", \"superhero\", \"superhero\", \"superhero\", \"surveillance\", \"surveillance\", \"survivor\", \"team\", \"team\", \"team\", \"team\", \"team\", \"team\", \"team\", \"teasing\", \"terrorist\", \"thano\", \"thano\", \"thing\", \"thing\", \"thing\", \"thing\", \"thing\", \"thing\", \"thing\", \"thor\", \"thor\", \"thriller\", \"thriller\", \"thug\", \"thwaite\", \"time\", \"time\", \"time\", \"time\", \"time\", \"time\", \"timeline\", \"timeline\", \"timeline\", \"timon\", \"titan\", \"titanic\", \"titanic\", \"titanic\", \"titanic\", \"titanic\", \"titanic\", \"tobacco\", \"top\", \"top\", \"top\", \"top\", \"top\", \"toretto\", \"total\", \"total\", \"total\", \"total\", \"tribe\", \"tribe\", \"tribe\", \"tribe\", \"tribute\", \"tribute\", \"trilogy\", \"trilogy\", \"trilogy\", \"trilogy\", \"troll\", \"trooper\", \"truth\", \"truth\", \"truth\", \"truth\", \"truth\", \"tyrese\", \"ultron\", \"underwood\", \"unfunny\", \"unfunny\", \"universe\", \"universe\", \"universe\", \"universe\", \"unleash\", \"unleash\", \"untimely\", \"vader\", \"vader\", \"varma\", \"version\", \"version\", \"version\", \"version\", \"version\", \"version\", \"vice\", \"vice\", \"vice\", \"villain\", \"villain\", \"villain\", \"villain\", \"villain\", \"villain\", \"villain\", \"vin\", \"violet\", \"visual\", \"visual\", \"visual\", \"visual\", \"visual\", \"visual\", \"voice\", \"voice\", \"voice\", \"voice\", \"voice\", \"voldemort\", \"vote\", \"vote\", \"vote\", \"vote\", \"waldau\", \"walker\", \"walker\", \"walker\", \"war\", \"war\", \"war\", \"war\", \"war\", \"war\", \"war\", \"warrant\", \"warrior\", \"warrior\", \"warrior\", \"warrior\", \"warrior\", \"warrior\", \"warrior\", \"wartime\", \"watch\", \"watch\", \"watch\", \"watch\", \"watch\", \"watch\", \"way\", \"way\", \"way\", \"way\", \"way\", \"way\", \"way\", \"weapon\", \"weapon\", \"weapon\", \"weapon\", \"well\", \"well\", \"well\", \"well\", \"well\", \"well\", \"well\", \"wing\", \"wing\", \"wolf\", \"workout\", \"world\", \"world\", \"world\", \"world\", \"world\", \"world\", \"year\", \"year\", \"year\", \"year\", \"year\", \"year\", \"year\", \"young\", \"young\", \"young\", \"young\", \"young\", \"young\", \"young\", \"zone\", \"zone\", \"zone\", \"zym\", \"zym\"]}, \"R\": 30, \"lambda.step\": 0.01, \"plot.opts\": {\"xlab\": \"PC1\", \"ylab\": \"PC2\"}, \"topic.order\": [4, 3, 6, 2, 1, 7, 5]};\n",
       "\n",
       "function LDAvis_load_lib(url, callback){\n",
       "  var s = document.createElement('script');\n",
       "  s.src = url;\n",
       "  s.async = true;\n",
       "  s.onreadystatechange = s.onload = callback;\n",
       "  s.onerror = function(){console.warn(\"failed to load library \" + url);};\n",
       "  document.getElementsByTagName(\"head\")[0].appendChild(s);\n",
       "}\n",
       "\n",
       "if(typeof(LDAvis) !== \"undefined\"){\n",
       "   // already loaded: just create the visualization\n",
       "   !function(LDAvis){\n",
       "       new LDAvis(\"#\" + \"ldavis_el279221496540849607314030839\", ldavis_el279221496540849607314030839_data);\n",
       "   }(LDAvis);\n",
       "}else if(typeof define === \"function\" && define.amd){\n",
       "   // require.js is available: use it to load d3/LDAvis\n",
       "   require.config({paths: {d3: \"https://d3js.org/d3.v5\"}});\n",
       "   require([\"d3\"], function(d3){\n",
       "      window.d3 = d3;\n",
       "      LDAvis_load_lib(\"https://cdn.jsdelivr.net/gh/bmabey/pyLDAvis@3.3.1/pyLDAvis/js/ldavis.v3.0.0.js\", function(){\n",
       "        new LDAvis(\"#\" + \"ldavis_el279221496540849607314030839\", ldavis_el279221496540849607314030839_data);\n",
       "      });\n",
       "    });\n",
       "}else{\n",
       "    // require.js not available: dynamically load d3 & LDAvis\n",
       "    LDAvis_load_lib(\"https://d3js.org/d3.v5.js\", function(){\n",
       "         LDAvis_load_lib(\"https://cdn.jsdelivr.net/gh/bmabey/pyLDAvis@3.3.1/pyLDAvis/js/ldavis.v3.0.0.js\", function(){\n",
       "                 new LDAvis(\"#\" + \"ldavis_el279221496540849607314030839\", ldavis_el279221496540849607314030839_data);\n",
       "            })\n",
       "         });\n",
       "}\n",
       "</script>"
      ],
      "text/plain": [
       "PreparedData(topic_coordinates=              x         y  topics  cluster       Freq\n",
       "topic                                                \n",
       "3      0.069511 -0.004009       1        1  32.339760\n",
       "2      0.087799 -0.039705       2        1  29.631509\n",
       "5      0.054050  0.056087       3        1  14.117419\n",
       "1      0.057598 -0.044928       4        1  10.189991\n",
       "0      0.058373  0.076751       5        1   8.224610\n",
       "6     -0.129481 -0.144853       6        1   4.025982\n",
       "4     -0.197850  0.100656       7        1   1.470729, topic_info=           Term         Freq        Total Category  logprob  loglift\n",
       "115       movie  3289.000000  3289.000000  Default  30.0000  30.0000\n",
       "16         film  2926.000000  2926.000000  Default  29.0000  29.0000\n",
       "118         new   586.000000   586.000000  Default  28.0000  28.0000\n",
       "59          war   522.000000   522.000000  Default  27.0000  27.0000\n",
       "203        star   356.000000   356.000000  Default  26.0000  26.0000\n",
       "...         ...          ...          ...      ...      ...      ...\n",
       "1136        box     2.649758    63.148791   Topic7  -6.4494   1.0484\n",
       "295       young     2.794836   181.309447   Topic7  -6.3961   0.0470\n",
       "326   different     2.772941   174.444758   Topic7  -6.4040   0.0777\n",
       "212        year     2.783168   530.098935   Topic7  -6.4003  -1.0301\n",
       "19         good     2.803242  1320.350898   Topic7  -6.3931  -1.9355\n",
       "\n",
       "[505 rows x 6 columns], token_table=      Topic      Freq         Term\n",
       "term                              \n",
       "6871      4  0.968955          aag\n",
       "3370      5  0.948879       abrams\n",
       "8952      1  0.177070      acheron\n",
       "8952      7  0.708280      acheron\n",
       "1891      3  0.926947  achievement\n",
       "...     ...       ...          ...\n",
       "3263      2  0.951933         zone\n",
       "3263      5  0.021635         zone\n",
       "3263      7  0.021635         zone\n",
       "8960      1  0.755994          zym\n",
       "8960      7  0.240544          zym\n",
       "\n",
       "[1086 rows x 3 columns], R=30, lambda_step=0.01, plot_opts={'xlab': 'PC1', 'ylab': 'PC2'}, topic_order=[4, 3, 6, 2, 1, 7, 5])"
      ]
     },
     "execution_count": 142,
     "metadata": {},
     "output_type": "execute_result"
    }
   ],
   "source": [
    "pyLDAvis.enable_notebook()\n",
    "vis = pyLDAvis.gensim_models.prepare(lda_model, doc_term_matrix, dictionary)\n",
    "vis"
   ]
  }
 ],
 "metadata": {
  "kernelspec": {
   "display_name": "Python 3",
   "language": "python",
   "name": "python3"
  },
  "language_info": {
   "codemirror_mode": {
    "name": "ipython",
    "version": 3
   },
   "file_extension": ".py",
   "mimetype": "text/x-python",
   "name": "python",
   "nbconvert_exporter": "python",
   "pygments_lexer": "ipython3",
   "version": "3.8.8"
  }
 },
 "nbformat": 4,
 "nbformat_minor": 5
}
