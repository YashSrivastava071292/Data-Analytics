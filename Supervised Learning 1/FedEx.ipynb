{
 "cells": [
  {
   "cell_type": "code",
   "execution_count": 236,
   "metadata": {},
   "outputs": [],
   "source": [
    "#Libraries\n",
    "import pandas as pd\n",
    "import numpy as np\n",
    "import matplotlib.pyplot as plt\n",
    "import seaborn as sns\n",
    "from sklearn.tree import DecisionTreeClassifier # Import Decision Tree Classifier\n",
    "from sklearn.model_selection import train_test_split # Import train_test_split function\n",
    "from sklearn import metrics #Import scikit-learn metrics module for accuracy calculation\n",
    "from sklearn import preprocessing\n",
    "from sklearn import tree\n",
    "from sklearn.metrics import accuracy_score\n",
    "from sklearn.metrics import confusion_matrix\n",
    "from sklearn.metrics import recall_score\n",
    "from sklearn.metrics import f1_score\n",
    "from sklearn.metrics import roc_curve, roc_auc_score\n",
    "from sklearn.metrics import mean_squared_error, r2_score\n",
    "from sklearn.metrics import plot_confusion_matrix\n",
    "from sklearn.model_selection import GridSearchCV\n",
    "from imblearn.over_sampling import SMOTE\n",
    "from sklearn.cluster import KMeans\n",
    "from sklearn.metrics import silhouette_score\n",
    "from sklearn.metrics import classification_report\n",
    "from sklearn.model_selection import cross_val_score\n",
    "from sklearn.model_selection import RepeatedStratifiedKFold\n",
    "from numpy import mean"
   ]
  },
  {
   "cell_type": "code",
   "execution_count": 38,
   "metadata": {},
   "outputs": [
    {
     "name": "stdout",
     "output_type": "stream",
     "text": [
      "Collecting seaborn\n",
      "  Downloading seaborn-0.11.1-py3-none-any.whl (285 kB)\n",
      "Requirement already satisfied, skipping upgrade: scipy>=1.0 in c:\\users\\ysrivastava\\anaconda3\\lib\\site-packages (from seaborn) (1.4.1)\n",
      "Requirement already satisfied, skipping upgrade: numpy>=1.15 in c:\\users\\ysrivastava\\anaconda3\\lib\\site-packages (from seaborn) (1.18.1)\n",
      "Requirement already satisfied, skipping upgrade: pandas>=0.23 in c:\\users\\ysrivastava\\anaconda3\\lib\\site-packages (from seaborn) (1.0.1)\n",
      "Requirement already satisfied, skipping upgrade: matplotlib>=2.2 in c:\\users\\ysrivastava\\anaconda3\\lib\\site-packages (from seaborn) (3.1.3)\n",
      "Requirement already satisfied, skipping upgrade: python-dateutil>=2.6.1 in c:\\users\\ysrivastava\\anaconda3\\lib\\site-packages (from pandas>=0.23->seaborn) (2.8.1)\n",
      "Requirement already satisfied, skipping upgrade: pytz>=2017.2 in c:\\users\\ysrivastava\\anaconda3\\lib\\site-packages (from pandas>=0.23->seaborn) (2019.3)\n",
      "Requirement already satisfied, skipping upgrade: pyparsing!=2.0.4,!=2.1.2,!=2.1.6,>=2.0.1 in c:\\users\\ysrivastava\\anaconda3\\lib\\site-packages (from matplotlib>=2.2->seaborn) (2.4.6)\n",
      "Requirement already satisfied, skipping upgrade: kiwisolver>=1.0.1 in c:\\users\\ysrivastava\\anaconda3\\lib\\site-packages (from matplotlib>=2.2->seaborn) (1.1.0)\n",
      "Requirement already satisfied, skipping upgrade: cycler>=0.10 in c:\\users\\ysrivastava\\anaconda3\\lib\\site-packages (from matplotlib>=2.2->seaborn) (0.10.0)\n",
      "Requirement already satisfied, skipping upgrade: six>=1.5 in c:\\users\\ysrivastava\\anaconda3\\lib\\site-packages (from python-dateutil>=2.6.1->pandas>=0.23->seaborn) (1.14.0)\n",
      "Requirement already satisfied, skipping upgrade: setuptools in c:\\users\\ysrivastava\\anaconda3\\lib\\site-packages (from kiwisolver>=1.0.1->matplotlib>=2.2->seaborn) (45.2.0.post20200210)\n",
      "Installing collected packages: seaborn\n",
      "  Attempting uninstall: seaborn\n",
      "    Found existing installation: seaborn 0.10.0\n",
      "    Uninstalling seaborn-0.10.0:\n",
      "      Successfully uninstalled seaborn-0.10.0\n",
      "Successfully installed seaborn-0.11.1\n",
      "Note: you may need to restart the kernel to use updated packages.\n"
     ]
    }
   ],
   "source": [
    "pip install seaborn --upgrade"
   ]
  },
  {
   "cell_type": "code",
   "execution_count": 226,
   "metadata": {},
   "outputs": [
    {
     "data": {
      "text/html": [
       "<div>\n",
       "<style scoped>\n",
       "    .dataframe tbody tr th:only-of-type {\n",
       "        vertical-align: middle;\n",
       "    }\n",
       "\n",
       "    .dataframe tbody tr th {\n",
       "        vertical-align: top;\n",
       "    }\n",
       "\n",
       "    .dataframe thead th {\n",
       "        text-align: right;\n",
       "    }\n",
       "</style>\n",
       "<table border=\"1\" class=\"dataframe\">\n",
       "  <thead>\n",
       "    <tr style=\"text-align: right;\">\n",
       "      <th></th>\n",
       "      <th>Year</th>\n",
       "      <th>Month</th>\n",
       "      <th>DayofMonth</th>\n",
       "      <th>DayOfWeek</th>\n",
       "      <th>Actual_Shipment_Time</th>\n",
       "      <th>Planned_Shipment_Time</th>\n",
       "      <th>Planned_Delivery_Time</th>\n",
       "      <th>Carrier_Name</th>\n",
       "      <th>Carrier_Num</th>\n",
       "      <th>Planned_TimeofTravel</th>\n",
       "      <th>Shipment_Delay</th>\n",
       "      <th>Source</th>\n",
       "      <th>Destination</th>\n",
       "      <th>Distance</th>\n",
       "      <th>Delivery_Status</th>\n",
       "    </tr>\n",
       "  </thead>\n",
       "  <tbody>\n",
       "    <tr>\n",
       "      <th>0</th>\n",
       "      <td>2008</td>\n",
       "      <td>1</td>\n",
       "      <td>3</td>\n",
       "      <td>4</td>\n",
       "      <td>2003.0</td>\n",
       "      <td>1955</td>\n",
       "      <td>2225</td>\n",
       "      <td>WN</td>\n",
       "      <td>335</td>\n",
       "      <td>150.0</td>\n",
       "      <td>8.0</td>\n",
       "      <td>IAD</td>\n",
       "      <td>TPA</td>\n",
       "      <td>810</td>\n",
       "      <td>0.0</td>\n",
       "    </tr>\n",
       "    <tr>\n",
       "      <th>1</th>\n",
       "      <td>2008</td>\n",
       "      <td>1</td>\n",
       "      <td>3</td>\n",
       "      <td>4</td>\n",
       "      <td>754.0</td>\n",
       "      <td>735</td>\n",
       "      <td>1000</td>\n",
       "      <td>WN</td>\n",
       "      <td>3231</td>\n",
       "      <td>145.0</td>\n",
       "      <td>19.0</td>\n",
       "      <td>IAD</td>\n",
       "      <td>TPA</td>\n",
       "      <td>810</td>\n",
       "      <td>1.0</td>\n",
       "    </tr>\n",
       "    <tr>\n",
       "      <th>2</th>\n",
       "      <td>2008</td>\n",
       "      <td>1</td>\n",
       "      <td>3</td>\n",
       "      <td>4</td>\n",
       "      <td>628.0</td>\n",
       "      <td>620</td>\n",
       "      <td>750</td>\n",
       "      <td>WN</td>\n",
       "      <td>448</td>\n",
       "      <td>90.0</td>\n",
       "      <td>8.0</td>\n",
       "      <td>IND</td>\n",
       "      <td>BWI</td>\n",
       "      <td>515</td>\n",
       "      <td>0.0</td>\n",
       "    </tr>\n",
       "    <tr>\n",
       "      <th>3</th>\n",
       "      <td>2008</td>\n",
       "      <td>1</td>\n",
       "      <td>3</td>\n",
       "      <td>4</td>\n",
       "      <td>926.0</td>\n",
       "      <td>930</td>\n",
       "      <td>1100</td>\n",
       "      <td>WN</td>\n",
       "      <td>1746</td>\n",
       "      <td>90.0</td>\n",
       "      <td>-4.0</td>\n",
       "      <td>IND</td>\n",
       "      <td>BWI</td>\n",
       "      <td>515</td>\n",
       "      <td>0.0</td>\n",
       "    </tr>\n",
       "    <tr>\n",
       "      <th>4</th>\n",
       "      <td>2008</td>\n",
       "      <td>1</td>\n",
       "      <td>3</td>\n",
       "      <td>4</td>\n",
       "      <td>1829.0</td>\n",
       "      <td>1755</td>\n",
       "      <td>1925</td>\n",
       "      <td>WN</td>\n",
       "      <td>3920</td>\n",
       "      <td>90.0</td>\n",
       "      <td>34.0</td>\n",
       "      <td>IND</td>\n",
       "      <td>BWI</td>\n",
       "      <td>515</td>\n",
       "      <td>1.0</td>\n",
       "    </tr>\n",
       "  </tbody>\n",
       "</table>\n",
       "</div>"
      ],
      "text/plain": [
       "   Year  Month  DayofMonth  DayOfWeek  Actual_Shipment_Time  \\\n",
       "0  2008      1           3          4                2003.0   \n",
       "1  2008      1           3          4                 754.0   \n",
       "2  2008      1           3          4                 628.0   \n",
       "3  2008      1           3          4                 926.0   \n",
       "4  2008      1           3          4                1829.0   \n",
       "\n",
       "   Planned_Shipment_Time  Planned_Delivery_Time Carrier_Name  Carrier_Num  \\\n",
       "0                   1955                   2225           WN          335   \n",
       "1                    735                   1000           WN         3231   \n",
       "2                    620                    750           WN          448   \n",
       "3                    930                   1100           WN         1746   \n",
       "4                   1755                   1925           WN         3920   \n",
       "\n",
       "   Planned_TimeofTravel  Shipment_Delay Source Destination  Distance  \\\n",
       "0                 150.0             8.0    IAD         TPA       810   \n",
       "1                 145.0            19.0    IAD         TPA       810   \n",
       "2                  90.0             8.0    IND         BWI       515   \n",
       "3                  90.0            -4.0    IND         BWI       515   \n",
       "4                  90.0            34.0    IND         BWI       515   \n",
       "\n",
       "   Delivery_Status  \n",
       "0              0.0  \n",
       "1              1.0  \n",
       "2              0.0  \n",
       "3              0.0  \n",
       "4              1.0  "
      ]
     },
     "execution_count": 226,
     "metadata": {},
     "output_type": "execute_result"
    }
   ],
   "source": [
    "df = pd.read_csv('fedex.csv')\n",
    "df.head()"
   ]
  },
  {
   "cell_type": "code",
   "execution_count": 56,
   "metadata": {},
   "outputs": [
    {
     "name": "stdout",
     "output_type": "stream",
     "text": [
      "<class 'pandas.core.frame.DataFrame'>\n",
      "RangeIndex: 3604175 entries, 0 to 3604174\n",
      "Data columns (total 15 columns):\n",
      " #   Column                 Dtype  \n",
      "---  ------                 -----  \n",
      " 0   Year                   int64  \n",
      " 1   Month                  int64  \n",
      " 2   DayofMonth             int64  \n",
      " 3   DayOfWeek              int64  \n",
      " 4   Actual_Shipment_Time   float64\n",
      " 5   Planned_Shipment_Time  int64  \n",
      " 6   Planned_Delivery_Time  int64  \n",
      " 7   Carrier_Name           object \n",
      " 8   Carrier_Num            int64  \n",
      " 9   Planned_TimeofTravel   float64\n",
      " 10  Shipment_Delay         float64\n",
      " 11  Source                 object \n",
      " 12  Destination            object \n",
      " 13  Distance               int64  \n",
      " 14  Delivery_Status        float64\n",
      "dtypes: float64(4), int64(8), object(3)\n",
      "memory usage: 412.5+ MB\n"
     ]
    }
   ],
   "source": [
    "#Summary Statistics\n",
    "df.describe()\n",
    "df.info()"
   ]
  },
  {
   "cell_type": "code",
   "execution_count": 227,
   "metadata": {},
   "outputs": [
    {
     "data": {
      "text/html": [
       "<div>\n",
       "<style scoped>\n",
       "    .dataframe tbody tr th:only-of-type {\n",
       "        vertical-align: middle;\n",
       "    }\n",
       "\n",
       "    .dataframe tbody tr th {\n",
       "        vertical-align: top;\n",
       "    }\n",
       "\n",
       "    .dataframe thead th {\n",
       "        text-align: right;\n",
       "    }\n",
       "</style>\n",
       "<table border=\"1\" class=\"dataframe\">\n",
       "  <thead>\n",
       "    <tr style=\"text-align: right;\">\n",
       "      <th></th>\n",
       "      <th>Nulls</th>\n",
       "    </tr>\n",
       "  </thead>\n",
       "  <tbody>\n",
       "    <tr>\n",
       "      <th>Year</th>\n",
       "      <td>0</td>\n",
       "    </tr>\n",
       "    <tr>\n",
       "      <th>Month</th>\n",
       "      <td>0</td>\n",
       "    </tr>\n",
       "    <tr>\n",
       "      <th>DayofMonth</th>\n",
       "      <td>0</td>\n",
       "    </tr>\n",
       "    <tr>\n",
       "      <th>DayOfWeek</th>\n",
       "      <td>0</td>\n",
       "    </tr>\n",
       "    <tr>\n",
       "      <th>Actual_Shipment_Time</th>\n",
       "      <td>81602</td>\n",
       "    </tr>\n",
       "    <tr>\n",
       "      <th>Planned_Shipment_Time</th>\n",
       "      <td>0</td>\n",
       "    </tr>\n",
       "    <tr>\n",
       "      <th>Planned_Delivery_Time</th>\n",
       "      <td>0</td>\n",
       "    </tr>\n",
       "    <tr>\n",
       "      <th>Carrier_Name</th>\n",
       "      <td>0</td>\n",
       "    </tr>\n",
       "    <tr>\n",
       "      <th>Carrier_Num</th>\n",
       "      <td>0</td>\n",
       "    </tr>\n",
       "    <tr>\n",
       "      <th>Planned_TimeofTravel</th>\n",
       "      <td>547</td>\n",
       "    </tr>\n",
       "    <tr>\n",
       "      <th>Shipment_Delay</th>\n",
       "      <td>81602</td>\n",
       "    </tr>\n",
       "    <tr>\n",
       "      <th>Source</th>\n",
       "      <td>0</td>\n",
       "    </tr>\n",
       "    <tr>\n",
       "      <th>Destination</th>\n",
       "      <td>0</td>\n",
       "    </tr>\n",
       "    <tr>\n",
       "      <th>Distance</th>\n",
       "      <td>0</td>\n",
       "    </tr>\n",
       "    <tr>\n",
       "      <th>Delivery_Status</th>\n",
       "      <td>81602</td>\n",
       "    </tr>\n",
       "  </tbody>\n",
       "</table>\n",
       "</div>"
      ],
      "text/plain": [
       "                       Nulls\n",
       "Year                       0\n",
       "Month                      0\n",
       "DayofMonth                 0\n",
       "DayOfWeek                  0\n",
       "Actual_Shipment_Time   81602\n",
       "Planned_Shipment_Time      0\n",
       "Planned_Delivery_Time      0\n",
       "Carrier_Name               0\n",
       "Carrier_Num                0\n",
       "Planned_TimeofTravel     547\n",
       "Shipment_Delay         81602\n",
       "Source                     0\n",
       "Destination                0\n",
       "Distance                   0\n",
       "Delivery_Status        81602"
      ]
     },
     "execution_count": 227,
     "metadata": {},
     "output_type": "execute_result"
    }
   ],
   "source": [
    "df.isna().sum().to_frame('Nulls')"
   ]
  },
  {
   "cell_type": "code",
   "execution_count": 5,
   "metadata": {},
   "outputs": [
    {
     "data": {
      "text/html": [
       "<div>\n",
       "<style scoped>\n",
       "    .dataframe tbody tr th:only-of-type {\n",
       "        vertical-align: middle;\n",
       "    }\n",
       "\n",
       "    .dataframe tbody tr th {\n",
       "        vertical-align: top;\n",
       "    }\n",
       "\n",
       "    .dataframe thead th {\n",
       "        text-align: right;\n",
       "    }\n",
       "</style>\n",
       "<table border=\"1\" class=\"dataframe\">\n",
       "  <thead>\n",
       "    <tr style=\"text-align: right;\">\n",
       "      <th></th>\n",
       "      <th>Nulls</th>\n",
       "    </tr>\n",
       "  </thead>\n",
       "  <tbody>\n",
       "    <tr>\n",
       "      <th>Year</th>\n",
       "      <td>0.000000</td>\n",
       "    </tr>\n",
       "    <tr>\n",
       "      <th>Month</th>\n",
       "      <td>0.000000</td>\n",
       "    </tr>\n",
       "    <tr>\n",
       "      <th>DayofMonth</th>\n",
       "      <td>0.000000</td>\n",
       "    </tr>\n",
       "    <tr>\n",
       "      <th>DayOfWeek</th>\n",
       "      <td>0.000000</td>\n",
       "    </tr>\n",
       "    <tr>\n",
       "      <th>Actual_Shipment_Time</th>\n",
       "      <td>0.022641</td>\n",
       "    </tr>\n",
       "    <tr>\n",
       "      <th>Planned_Shipment_Time</th>\n",
       "      <td>0.000000</td>\n",
       "    </tr>\n",
       "    <tr>\n",
       "      <th>Planned_Delivery_Time</th>\n",
       "      <td>0.000000</td>\n",
       "    </tr>\n",
       "    <tr>\n",
       "      <th>Carrier_Name</th>\n",
       "      <td>0.000000</td>\n",
       "    </tr>\n",
       "    <tr>\n",
       "      <th>Carrier_Num</th>\n",
       "      <td>0.000000</td>\n",
       "    </tr>\n",
       "    <tr>\n",
       "      <th>Planned_TimeofTravel</th>\n",
       "      <td>0.000152</td>\n",
       "    </tr>\n",
       "    <tr>\n",
       "      <th>Shipment_Delay</th>\n",
       "      <td>0.022641</td>\n",
       "    </tr>\n",
       "    <tr>\n",
       "      <th>Source</th>\n",
       "      <td>0.000000</td>\n",
       "    </tr>\n",
       "    <tr>\n",
       "      <th>Destination</th>\n",
       "      <td>0.000000</td>\n",
       "    </tr>\n",
       "    <tr>\n",
       "      <th>Distance</th>\n",
       "      <td>0.000000</td>\n",
       "    </tr>\n",
       "    <tr>\n",
       "      <th>Delivery_Status</th>\n",
       "      <td>0.022641</td>\n",
       "    </tr>\n",
       "  </tbody>\n",
       "</table>\n",
       "</div>"
      ],
      "text/plain": [
       "                          Nulls\n",
       "Year                   0.000000\n",
       "Month                  0.000000\n",
       "DayofMonth             0.000000\n",
       "DayOfWeek              0.000000\n",
       "Actual_Shipment_Time   0.022641\n",
       "Planned_Shipment_Time  0.000000\n",
       "Planned_Delivery_Time  0.000000\n",
       "Carrier_Name           0.000000\n",
       "Carrier_Num            0.000000\n",
       "Planned_TimeofTravel   0.000152\n",
       "Shipment_Delay         0.022641\n",
       "Source                 0.000000\n",
       "Destination            0.000000\n",
       "Distance               0.000000\n",
       "Delivery_Status        0.022641"
      ]
     },
     "execution_count": 5,
     "metadata": {},
     "output_type": "execute_result"
    }
   ],
   "source": [
    "#Checking for Null Values\n",
    "missing = df.isna().sum().to_frame('Nulls')\n",
    "missing / len(df)"
   ]
  },
  {
   "cell_type": "code",
   "execution_count": null,
   "metadata": {},
   "outputs": [],
   "source": [
    "#Dropping Null values for insignificance as the number of missing values ia below 0.03% of the data."
   ]
  },
  {
   "cell_type": "code",
   "execution_count": 228,
   "metadata": {},
   "outputs": [
    {
     "data": {
      "text/html": [
       "<div>\n",
       "<style scoped>\n",
       "    .dataframe tbody tr th:only-of-type {\n",
       "        vertical-align: middle;\n",
       "    }\n",
       "\n",
       "    .dataframe tbody tr th {\n",
       "        vertical-align: top;\n",
       "    }\n",
       "\n",
       "    .dataframe thead th {\n",
       "        text-align: right;\n",
       "    }\n",
       "</style>\n",
       "<table border=\"1\" class=\"dataframe\">\n",
       "  <thead>\n",
       "    <tr style=\"text-align: right;\">\n",
       "      <th></th>\n",
       "      <th>Nulls</th>\n",
       "    </tr>\n",
       "  </thead>\n",
       "  <tbody>\n",
       "    <tr>\n",
       "      <th>Year</th>\n",
       "      <td>0</td>\n",
       "    </tr>\n",
       "    <tr>\n",
       "      <th>Month</th>\n",
       "      <td>0</td>\n",
       "    </tr>\n",
       "    <tr>\n",
       "      <th>DayofMonth</th>\n",
       "      <td>0</td>\n",
       "    </tr>\n",
       "    <tr>\n",
       "      <th>DayOfWeek</th>\n",
       "      <td>0</td>\n",
       "    </tr>\n",
       "    <tr>\n",
       "      <th>Actual_Shipment_Time</th>\n",
       "      <td>0</td>\n",
       "    </tr>\n",
       "    <tr>\n",
       "      <th>Planned_Shipment_Time</th>\n",
       "      <td>0</td>\n",
       "    </tr>\n",
       "    <tr>\n",
       "      <th>Planned_Delivery_Time</th>\n",
       "      <td>0</td>\n",
       "    </tr>\n",
       "    <tr>\n",
       "      <th>Carrier_Name</th>\n",
       "      <td>0</td>\n",
       "    </tr>\n",
       "    <tr>\n",
       "      <th>Carrier_Num</th>\n",
       "      <td>0</td>\n",
       "    </tr>\n",
       "    <tr>\n",
       "      <th>Planned_TimeofTravel</th>\n",
       "      <td>0</td>\n",
       "    </tr>\n",
       "    <tr>\n",
       "      <th>Shipment_Delay</th>\n",
       "      <td>0</td>\n",
       "    </tr>\n",
       "    <tr>\n",
       "      <th>Source</th>\n",
       "      <td>0</td>\n",
       "    </tr>\n",
       "    <tr>\n",
       "      <th>Destination</th>\n",
       "      <td>0</td>\n",
       "    </tr>\n",
       "    <tr>\n",
       "      <th>Distance</th>\n",
       "      <td>0</td>\n",
       "    </tr>\n",
       "    <tr>\n",
       "      <th>Delivery_Status</th>\n",
       "      <td>0</td>\n",
       "    </tr>\n",
       "  </tbody>\n",
       "</table>\n",
       "</div>"
      ],
      "text/plain": [
       "                       Nulls\n",
       "Year                       0\n",
       "Month                      0\n",
       "DayofMonth                 0\n",
       "DayOfWeek                  0\n",
       "Actual_Shipment_Time       0\n",
       "Planned_Shipment_Time      0\n",
       "Planned_Delivery_Time      0\n",
       "Carrier_Name               0\n",
       "Carrier_Num                0\n",
       "Planned_TimeofTravel       0\n",
       "Shipment_Delay             0\n",
       "Source                     0\n",
       "Destination                0\n",
       "Distance                   0\n",
       "Delivery_Status            0"
      ]
     },
     "execution_count": 228,
     "metadata": {},
     "output_type": "execute_result"
    }
   ],
   "source": [
    "df = df.dropna()\n",
    "df.isna().sum().to_frame('Nulls')\n",
    "#df.to_csv(\"df.csv\")"
   ]
  },
  {
   "cell_type": "code",
   "execution_count": 8,
   "metadata": {},
   "outputs": [
    {
     "data": {
      "text/html": [
       "<div>\n",
       "<style scoped>\n",
       "    .dataframe tbody tr th:only-of-type {\n",
       "        vertical-align: middle;\n",
       "    }\n",
       "\n",
       "    .dataframe tbody tr th {\n",
       "        vertical-align: top;\n",
       "    }\n",
       "\n",
       "    .dataframe thead th {\n",
       "        text-align: right;\n",
       "    }\n",
       "</style>\n",
       "<table border=\"1\" class=\"dataframe\">\n",
       "  <thead>\n",
       "    <tr style=\"text-align: right;\">\n",
       "      <th>Delivery_Status</th>\n",
       "      <th>0</th>\n",
       "      <th>1</th>\n",
       "      <th>All</th>\n",
       "    </tr>\n",
       "    <tr>\n",
       "      <th>Month</th>\n",
       "      <th></th>\n",
       "      <th></th>\n",
       "      <th></th>\n",
       "    </tr>\n",
       "  </thead>\n",
       "  <tbody>\n",
       "    <tr>\n",
       "      <th>1</th>\n",
       "      <td>465228</td>\n",
       "      <td>123138</td>\n",
       "      <td>588366</td>\n",
       "    </tr>\n",
       "    <tr>\n",
       "      <th>2</th>\n",
       "      <td>418880</td>\n",
       "      <td>129680</td>\n",
       "      <td>548560</td>\n",
       "    </tr>\n",
       "    <tr>\n",
       "      <th>3</th>\n",
       "      <td>466344</td>\n",
       "      <td>133506</td>\n",
       "      <td>599850</td>\n",
       "    </tr>\n",
       "    <tr>\n",
       "      <th>4</th>\n",
       "      <td>488932</td>\n",
       "      <td>98779</td>\n",
       "      <td>587711</td>\n",
       "    </tr>\n",
       "    <tr>\n",
       "      <th>5</th>\n",
       "      <td>503886</td>\n",
       "      <td>96139</td>\n",
       "      <td>600025</td>\n",
       "    </tr>\n",
       "    <tr>\n",
       "      <th>6</th>\n",
       "      <td>460803</td>\n",
       "      <td>136852</td>\n",
       "      <td>597655</td>\n",
       "    </tr>\n",
       "    <tr>\n",
       "      <th>All</th>\n",
       "      <td>2804073</td>\n",
       "      <td>718094</td>\n",
       "      <td>3522167</td>\n",
       "    </tr>\n",
       "  </tbody>\n",
       "</table>\n",
       "</div>"
      ],
      "text/plain": [
       "Delivery_Status        0       1      All\n",
       "Month                                    \n",
       "1                 465228  123138   588366\n",
       "2                 418880  129680   548560\n",
       "3                 466344  133506   599850\n",
       "4                 488932   98779   587711\n",
       "5                 503886   96139   600025\n",
       "6                 460803  136852   597655\n",
       "All              2804073  718094  3522167"
      ]
     },
     "execution_count": 8,
     "metadata": {},
     "output_type": "execute_result"
    }
   ],
   "source": [
    "df['Delivery_Status'],_ = pd.factorize(df['Delivery_Status'], sort=True)\n",
    "pd.crosstab(df['Month'], df[\"Delivery_Status\"], margins=True)"
   ]
  },
  {
   "cell_type": "code",
   "execution_count": 12,
   "metadata": {},
   "outputs": [
    {
     "data": {
      "text/plain": [
       "array([<matplotlib.axes._subplots.AxesSubplot object at 0x0000012380869B88>,\n",
       "       <matplotlib.axes._subplots.AxesSubplot object at 0x00000123808D6148>,\n",
       "       <matplotlib.axes._subplots.AxesSubplot object at 0x00000123808A0948>,\n",
       "       <matplotlib.axes._subplots.AxesSubplot object at 0x000001238093AD08>,\n",
       "       <matplotlib.axes._subplots.AxesSubplot object at 0x0000012380972908>,\n",
       "       <matplotlib.axes._subplots.AxesSubplot object at 0x00000123809A9508>],\n",
       "      dtype=object)"
      ]
     },
     "execution_count": 12,
     "metadata": {},
     "output_type": "execute_result"
    },
    {
     "data": {
      "image/png": "[encoded data removed]",
      "text/plain": [
       "<Figure size 432x288 with 6 Axes>"
      ]
     },
     "metadata": {
      "needs_background": "light"
     },
     "output_type": "display_data"
    }
   ],
   "source": [
    "DayWise = df.pivot_table(index='DayofMonth', columns='Month', values=\"Delivery_Status\")\n",
    "DayWise.plot.bar(subplots=True, rot=0)"
   ]
  },
  {
   "cell_type": "code",
   "execution_count": 15,
   "metadata": {},
   "outputs": [
    {
     "data": {
      "text/plain": [
       "array([<matplotlib.axes._subplots.AxesSubplot object at 0x0000012380F6C6C8>,\n",
       "       <matplotlib.axes._subplots.AxesSubplot object at 0x0000012380F8DF48>,\n",
       "       <matplotlib.axes._subplots.AxesSubplot object at 0x0000012380F70948>,\n",
       "       <matplotlib.axes._subplots.AxesSubplot object at 0x0000012380FF05C8>,\n",
       "       <matplotlib.axes._subplots.AxesSubplot object at 0x00000123810261C8>,\n",
       "       <matplotlib.axes._subplots.AxesSubplot object at 0x0000012381054D88>],\n",
       "      dtype=object)"
      ]
     },
     "execution_count": 15,
     "metadata": {},
     "output_type": "execute_result"
    },
    {
     "data": {
      "image/png": "[encoded data removed]",
      "text/plain": [
       "<Figure size 432x288 with 6 Axes>"
      ]
     },
     "metadata": {
      "needs_background": "light"
     },
     "output_type": "display_data"
    }
   ],
   "source": [
    "WeekWise = df.pivot_table(index='DayOfWeek', columns='Month', values=\"Delivery_Status\")\n",
    "WeekWise.plot.bar(subplots=True, rot=0)"
   ]
  },
  {
   "cell_type": "code",
   "execution_count": 7,
   "metadata": {},
   "outputs": [
    {
     "data": {
      "image/png": "[encoded data removed]",
      "text/plain": [
       "<Figure size 1080x1080 with 2 Axes>"
      ]
     },
     "metadata": {
      "needs_background": "light"
     },
     "output_type": "display_data"
    }
   ],
   "source": [
    "plt.figure(figsize=(15,15))\n",
    "mask = np.triu(df.corr())\n",
    "sns.heatmap(df.corr(), fmt='0.2f', cmap='winter', mask=mask, annot=True)\n",
    "plt.show()"
   ]
  },
  {
   "cell_type": "code",
   "execution_count": 8,
   "metadata": {
    "scrolled": false
   },
   "outputs": [
    {
     "name": "stdout",
     "output_type": "stream",
     "text": [
      "0.0    2804359\n",
      "1.0     718214\n",
      "Name: Delivery_Status, dtype: int64\n"
     ]
    },
    {
     "data": {
      "image/png": "[encoded data removed]",
      "text/plain": [
       "<Figure size 432x432 with 1 Axes>"
      ]
     },
     "metadata": {
      "needs_background": "light"
     },
     "output_type": "display_data"
    }
   ],
   "source": [
    "viz=df['Delivery_Status'].value_counts()\n",
    "print(viz)\n",
    "plt.figure(figsize=(6,6))\n",
    "sns.barplot(viz.index, viz.values, alpha=0.8)\n",
    "plt.title('classes vs total datapoint')\n",
    "plt.ylabel('no of datapoints')\n",
    "plt.xlabel('classes')\n",
    "plt.show()"
   ]
  },
  {
   "cell_type": "code",
   "execution_count": 22,
   "metadata": {},
   "outputs": [],
   "source": [
    "#df.to_csv(\"df.csv\")"
   ]
  },
  {
   "cell_type": "code",
   "execution_count": 28,
   "metadata": {},
   "outputs": [
    {
     "data": {
      "text/plain": [
       "<seaborn.axisgrid.FacetGrid at 0x1243bb07348>"
      ]
     },
     "execution_count": 28,
     "metadata": {},
     "output_type": "execute_result"
    },
    {
     "data": {
      "image/png": "[encoded data removed]",
      "text/plain": [
       "<Figure size 446.375x360 with 1 Axes>"
      ]
     },
     "metadata": {
      "needs_background": "light"
     },
     "output_type": "display_data"
    }
   ],
   "source": [
    "sns.catplot(y=\"Carrier_Name\", hue=\"Delivery_Status\", kind=\"count\",\n",
    "            palette=\"pastel\", edgecolor=\".6\",\n",
    "            data=df)"
   ]
  },
  {
   "cell_type": "code",
   "execution_count": 7,
   "metadata": {
    "scrolled": false
   },
   "outputs": [
    {
     "data": {
      "text/plain": [
       "<seaborn.axisgrid.FacetGrid at 0x11ce4c69188>"
      ]
     },
     "execution_count": 7,
     "metadata": {},
     "output_type": "execute_result"
    },
    {
     "data": {
      "image/png": "[encoded data removed]",
      "text/plain": [
       "<Figure size 446.375x360 with 1 Axes>"
      ]
     },
     "metadata": {
      "needs_background": "light"
     },
     "output_type": "display_data"
    }
   ],
   "source": [
    "sns.displot(df, x=\"Actual_Shipment_Time\", hue=\"Delivery_Status\")"
   ]
  },
  {
   "cell_type": "code",
   "execution_count": 8,
   "metadata": {},
   "outputs": [
    {
     "data": {
      "text/plain": [
       "<seaborn.axisgrid.FacetGrid at 0x11ce4c95548>"
      ]
     },
     "execution_count": 8,
     "metadata": {},
     "output_type": "execute_result"
    },
    {
     "data": {
      "image/png": "[encoded data removed]",
      "text/plain": [
       "<Figure size 446.375x360 with 1 Axes>"
      ]
     },
     "metadata": {
      "needs_background": "light"
     },
     "output_type": "display_data"
    }
   ],
   "source": [
    "sns.displot(df, x=\"Planned_Shipment_Time\", hue=\"Delivery_Status\")"
   ]
  },
  {
   "cell_type": "code",
   "execution_count": 9,
   "metadata": {},
   "outputs": [
    {
     "data": {
      "text/plain": [
       "<seaborn.axisgrid.FacetGrid at 0x11c8e0b8448>"
      ]
     },
     "execution_count": 9,
     "metadata": {},
     "output_type": "execute_result"
    },
    {
     "data": {
      "image/png": "[encoded data removed]",
      "text/plain": [
       "<Figure size 446.375x360 with 1 Axes>"
      ]
     },
     "metadata": {
      "needs_background": "light"
     },
     "output_type": "display_data"
    }
   ],
   "source": [
    "sns.displot(df, x=\"Planned_Delivery_Time\", hue=\"Delivery_Status\")"
   ]
  },
  {
   "cell_type": "code",
   "execution_count": 10,
   "metadata": {},
   "outputs": [
    {
     "data": {
      "text/plain": [
       "<seaborn.axisgrid.FacetGrid at 0x11ce54664c8>"
      ]
     },
     "execution_count": 10,
     "metadata": {},
     "output_type": "execute_result"
    },
    {
     "data": {
      "image/png": "[encoded data removed]",
      "text/plain": [
       "<Figure size 446.375x360 with 1 Axes>"
      ]
     },
     "metadata": {
      "needs_background": "light"
     },
     "output_type": "display_data"
    }
   ],
   "source": [
    "sns.displot(df, x=\"Planned_TimeofTravel\", hue=\"Delivery_Status\")"
   ]
  },
  {
   "cell_type": "code",
   "execution_count": 11,
   "metadata": {},
   "outputs": [
    {
     "data": {
      "text/plain": [
       "<seaborn.axisgrid.FacetGrid at 0x11cf1406608>"
      ]
     },
     "execution_count": 11,
     "metadata": {},
     "output_type": "execute_result"
    },
    {
     "data": {
      "image/png": "[encoded data removed]",
      "text/plain": [
       "<Figure size 446.375x360 with 1 Axes>"
      ]
     },
     "metadata": {
      "needs_background": "light"
     },
     "output_type": "display_data"
    }
   ],
   "source": [
    "sns.displot(df, x=\"Distance\", hue=\"Delivery_Status\")"
   ]
  },
  {
   "cell_type": "code",
   "execution_count": 116,
   "metadata": {},
   "outputs": [
    {
     "data": {
      "text/plain": [
       "WN    597366\n",
       "AA    295685\n",
       "OO    285274\n",
       "MQ    243102\n",
       "UA    227599\n",
       "US    227576\n",
       "DL    221916\n",
       "XE    203345\n",
       "NW    184428\n",
       "CO    153934\n",
       "EV    137940\n",
       "FL    132384\n",
       "9E    127034\n",
       "YV    123703\n",
       "OH    102903\n",
       "B6     98879\n",
       "AS     75377\n",
       "F9     47734\n",
       "HA     28230\n",
       "AQ      7758\n",
       "Name: Carrier_Name, dtype: int64"
      ]
     },
     "execution_count": 116,
     "metadata": {},
     "output_type": "execute_result"
    }
   ],
   "source": [
    "df['Carrier_Name'].value_counts()"
   ]
  },
  {
   "cell_type": "code",
   "execution_count": 229,
   "metadata": {},
   "outputs": [],
   "source": [
    "#Binning carrier names as the the total volumne of deliveries sent.\n",
    "df['CarrierName'] = 'High'\n",
    "df.loc[(df['Carrier_Name'].isin(['AA','OO','MQ','UA','US','DL'])),'CarrierName'] = 'Medium'\n",
    "df.loc[(df['Carrier_Name'].isin(['XE','NW','CO','EV','FL','9E','YV','OH','B6','AS','F9','HA','AQ'])),'CarrierName'] = 'Low'"
   ]
  },
  {
   "cell_type": "code",
   "execution_count": 230,
   "metadata": {},
   "outputs": [],
   "source": [
    "#Deriving new variable which will capture the packages sent based on shipment time and delivery time.\n",
    "Type = [\n",
    "    (df['Actual_Shipment_Time'] < df['Planned_Delivery_Time']),(df['Actual_Shipment_Time'] > df['Planned_Delivery_Time'])\n",
    "    ]\n",
    "df['Type'] = np.select(Type, ['1','2'])"
   ]
  },
  {
   "cell_type": "code",
   "execution_count": 231,
   "metadata": {},
   "outputs": [],
   "source": [
    "#Deriving new variable which will capture weather actual shipment was greater than less than planned shipment time.\n",
    "Acutal_planned = [\n",
    "    (df['Actual_Shipment_Time'] < df['Planned_Shipment_Time']),(df['Actual_Shipment_Time'] > df['Planned_Shipment_Time'])\n",
    "    ]\n",
    "df['Acutal_planned'] = np.select(Type, ['1','2'])"
   ]
  },
  {
   "cell_type": "code",
   "execution_count": 232,
   "metadata": {},
   "outputs": [],
   "source": [
    "df['hr'] = df['Planned_Shipment_Time'].map(str)\n",
    "df['hr_len'] = df['Planned_Shipment_Time'].map(str).str.len()\n",
    "df['Hour'] = df['hr'].str.slice(0, 2)\n",
    "df.loc[(df['hr_len'].isin(['3'])),'Hour'] = df['hr'].str.slice(0, 1)\n",
    "df.loc[(df['hr_len'].isin(['1','2'])),'Hour'] = '0'"
   ]
  },
  {
   "cell_type": "code",
   "execution_count": 233,
   "metadata": {},
   "outputs": [
    {
     "data": {
      "text/html": [
       "<div>\n",
       "<style scoped>\n",
       "    .dataframe tbody tr th:only-of-type {\n",
       "        vertical-align: middle;\n",
       "    }\n",
       "\n",
       "    .dataframe tbody tr th {\n",
       "        vertical-align: top;\n",
       "    }\n",
       "\n",
       "    .dataframe thead th {\n",
       "        text-align: right;\n",
       "    }\n",
       "</style>\n",
       "<table border=\"1\" class=\"dataframe\">\n",
       "  <thead>\n",
       "    <tr style=\"text-align: right;\">\n",
       "      <th></th>\n",
       "      <th>Year</th>\n",
       "      <th>Month</th>\n",
       "      <th>DayofMonth</th>\n",
       "      <th>DayOfWeek</th>\n",
       "      <th>Actual_Shipment_Time</th>\n",
       "      <th>Planned_Shipment_Time</th>\n",
       "      <th>Planned_Delivery_Time</th>\n",
       "      <th>Carrier_Name</th>\n",
       "      <th>Carrier_Num</th>\n",
       "      <th>Planned_TimeofTravel</th>\n",
       "      <th>...</th>\n",
       "      <th>Hour_21</th>\n",
       "      <th>Hour_22</th>\n",
       "      <th>Hour_23</th>\n",
       "      <th>Hour_3</th>\n",
       "      <th>Hour_4</th>\n",
       "      <th>Hour_5</th>\n",
       "      <th>Hour_6</th>\n",
       "      <th>Hour_7</th>\n",
       "      <th>Hour_8</th>\n",
       "      <th>Hour_9</th>\n",
       "    </tr>\n",
       "  </thead>\n",
       "  <tbody>\n",
       "    <tr>\n",
       "      <th>0</th>\n",
       "      <td>2008</td>\n",
       "      <td>1</td>\n",
       "      <td>3</td>\n",
       "      <td>4</td>\n",
       "      <td>2003.0</td>\n",
       "      <td>1955</td>\n",
       "      <td>2225</td>\n",
       "      <td>WN</td>\n",
       "      <td>335</td>\n",
       "      <td>150.0</td>\n",
       "      <td>...</td>\n",
       "      <td>0</td>\n",
       "      <td>0</td>\n",
       "      <td>0</td>\n",
       "      <td>0</td>\n",
       "      <td>0</td>\n",
       "      <td>0</td>\n",
       "      <td>0</td>\n",
       "      <td>0</td>\n",
       "      <td>0</td>\n",
       "      <td>0</td>\n",
       "    </tr>\n",
       "    <tr>\n",
       "      <th>1</th>\n",
       "      <td>2008</td>\n",
       "      <td>1</td>\n",
       "      <td>3</td>\n",
       "      <td>4</td>\n",
       "      <td>754.0</td>\n",
       "      <td>735</td>\n",
       "      <td>1000</td>\n",
       "      <td>WN</td>\n",
       "      <td>3231</td>\n",
       "      <td>145.0</td>\n",
       "      <td>...</td>\n",
       "      <td>0</td>\n",
       "      <td>0</td>\n",
       "      <td>0</td>\n",
       "      <td>0</td>\n",
       "      <td>0</td>\n",
       "      <td>0</td>\n",
       "      <td>0</td>\n",
       "      <td>1</td>\n",
       "      <td>0</td>\n",
       "      <td>0</td>\n",
       "    </tr>\n",
       "    <tr>\n",
       "      <th>2</th>\n",
       "      <td>2008</td>\n",
       "      <td>1</td>\n",
       "      <td>3</td>\n",
       "      <td>4</td>\n",
       "      <td>628.0</td>\n",
       "      <td>620</td>\n",
       "      <td>750</td>\n",
       "      <td>WN</td>\n",
       "      <td>448</td>\n",
       "      <td>90.0</td>\n",
       "      <td>...</td>\n",
       "      <td>0</td>\n",
       "      <td>0</td>\n",
       "      <td>0</td>\n",
       "      <td>0</td>\n",
       "      <td>0</td>\n",
       "      <td>0</td>\n",
       "      <td>1</td>\n",
       "      <td>0</td>\n",
       "      <td>0</td>\n",
       "      <td>0</td>\n",
       "    </tr>\n",
       "    <tr>\n",
       "      <th>3</th>\n",
       "      <td>2008</td>\n",
       "      <td>1</td>\n",
       "      <td>3</td>\n",
       "      <td>4</td>\n",
       "      <td>926.0</td>\n",
       "      <td>930</td>\n",
       "      <td>1100</td>\n",
       "      <td>WN</td>\n",
       "      <td>1746</td>\n",
       "      <td>90.0</td>\n",
       "      <td>...</td>\n",
       "      <td>0</td>\n",
       "      <td>0</td>\n",
       "      <td>0</td>\n",
       "      <td>0</td>\n",
       "      <td>0</td>\n",
       "      <td>0</td>\n",
       "      <td>0</td>\n",
       "      <td>0</td>\n",
       "      <td>0</td>\n",
       "      <td>1</td>\n",
       "    </tr>\n",
       "    <tr>\n",
       "      <th>4</th>\n",
       "      <td>2008</td>\n",
       "      <td>1</td>\n",
       "      <td>3</td>\n",
       "      <td>4</td>\n",
       "      <td>1829.0</td>\n",
       "      <td>1755</td>\n",
       "      <td>1925</td>\n",
       "      <td>WN</td>\n",
       "      <td>3920</td>\n",
       "      <td>90.0</td>\n",
       "      <td>...</td>\n",
       "      <td>0</td>\n",
       "      <td>0</td>\n",
       "      <td>0</td>\n",
       "      <td>0</td>\n",
       "      <td>0</td>\n",
       "      <td>0</td>\n",
       "      <td>0</td>\n",
       "      <td>0</td>\n",
       "      <td>0</td>\n",
       "      <td>0</td>\n",
       "    </tr>\n",
       "  </tbody>\n",
       "</table>\n",
       "<p>5 rows × 50 columns</p>\n",
       "</div>"
      ],
      "text/plain": [
       "   Year  Month  DayofMonth  DayOfWeek  Actual_Shipment_Time  \\\n",
       "0  2008      1           3          4                2003.0   \n",
       "1  2008      1           3          4                 754.0   \n",
       "2  2008      1           3          4                 628.0   \n",
       "3  2008      1           3          4                 926.0   \n",
       "4  2008      1           3          4                1829.0   \n",
       "\n",
       "   Planned_Shipment_Time  Planned_Delivery_Time Carrier_Name  Carrier_Num  \\\n",
       "0                   1955                   2225           WN          335   \n",
       "1                    735                   1000           WN         3231   \n",
       "2                    620                    750           WN          448   \n",
       "3                    930                   1100           WN         1746   \n",
       "4                   1755                   1925           WN         3920   \n",
       "\n",
       "   Planned_TimeofTravel  ...  Hour_21 Hour_22 Hour_23  Hour_3  Hour_4 Hour_5  \\\n",
       "0                 150.0  ...        0       0       0       0       0      0   \n",
       "1                 145.0  ...        0       0       0       0       0      0   \n",
       "2                  90.0  ...        0       0       0       0       0      0   \n",
       "3                  90.0  ...        0       0       0       0       0      0   \n",
       "4                  90.0  ...        0       0       0       0       0      0   \n",
       "\n",
       "   Hour_6  Hour_7  Hour_8  Hour_9  \n",
       "0       0       0       0       0  \n",
       "1       0       1       0       0  \n",
       "2       1       0       0       0  \n",
       "3       0       0       0       1  \n",
       "4       0       0       0       0  \n",
       "\n",
       "[5 rows x 50 columns]"
      ]
     },
     "execution_count": 233,
     "metadata": {},
     "output_type": "execute_result"
    }
   ],
   "source": [
    "#Creating dummy variables for model building\n",
    "cat = ['Type','Acutal_planned','CarrierName', 'Hour']\n",
    "df_dummy = pd.get_dummies(df,columns = cat)\n",
    "df_dummy.head()"
   ]
  },
  {
   "cell_type": "code",
   "execution_count": 234,
   "metadata": {},
   "outputs": [
    {
     "data": {
      "text/html": [
       "<div>\n",
       "<style scoped>\n",
       "    .dataframe tbody tr th:only-of-type {\n",
       "        vertical-align: middle;\n",
       "    }\n",
       "\n",
       "    .dataframe tbody tr th {\n",
       "        vertical-align: top;\n",
       "    }\n",
       "\n",
       "    .dataframe thead th {\n",
       "        text-align: right;\n",
       "    }\n",
       "</style>\n",
       "<table border=\"1\" class=\"dataframe\">\n",
       "  <thead>\n",
       "    <tr style=\"text-align: right;\">\n",
       "      <th></th>\n",
       "      <th>DayofMonth</th>\n",
       "      <th>DayOfWeek</th>\n",
       "      <th>Distance</th>\n",
       "      <th>Delivery_Status</th>\n",
       "      <th>Type_1</th>\n",
       "      <th>Type_2</th>\n",
       "      <th>Acutal_planned_1</th>\n",
       "      <th>Acutal_planned_2</th>\n",
       "      <th>CarrierName_High</th>\n",
       "      <th>CarrierName_Low</th>\n",
       "      <th>...</th>\n",
       "      <th>Hour_21</th>\n",
       "      <th>Hour_22</th>\n",
       "      <th>Hour_23</th>\n",
       "      <th>Hour_3</th>\n",
       "      <th>Hour_4</th>\n",
       "      <th>Hour_5</th>\n",
       "      <th>Hour_6</th>\n",
       "      <th>Hour_7</th>\n",
       "      <th>Hour_8</th>\n",
       "      <th>Hour_9</th>\n",
       "    </tr>\n",
       "  </thead>\n",
       "  <tbody>\n",
       "    <tr>\n",
       "      <th>0</th>\n",
       "      <td>3</td>\n",
       "      <td>4</td>\n",
       "      <td>810</td>\n",
       "      <td>0.0</td>\n",
       "      <td>1</td>\n",
       "      <td>0</td>\n",
       "      <td>1</td>\n",
       "      <td>0</td>\n",
       "      <td>1</td>\n",
       "      <td>0</td>\n",
       "      <td>...</td>\n",
       "      <td>0</td>\n",
       "      <td>0</td>\n",
       "      <td>0</td>\n",
       "      <td>0</td>\n",
       "      <td>0</td>\n",
       "      <td>0</td>\n",
       "      <td>0</td>\n",
       "      <td>0</td>\n",
       "      <td>0</td>\n",
       "      <td>0</td>\n",
       "    </tr>\n",
       "    <tr>\n",
       "      <th>1</th>\n",
       "      <td>3</td>\n",
       "      <td>4</td>\n",
       "      <td>810</td>\n",
       "      <td>1.0</td>\n",
       "      <td>1</td>\n",
       "      <td>0</td>\n",
       "      <td>1</td>\n",
       "      <td>0</td>\n",
       "      <td>1</td>\n",
       "      <td>0</td>\n",
       "      <td>...</td>\n",
       "      <td>0</td>\n",
       "      <td>0</td>\n",
       "      <td>0</td>\n",
       "      <td>0</td>\n",
       "      <td>0</td>\n",
       "      <td>0</td>\n",
       "      <td>0</td>\n",
       "      <td>1</td>\n",
       "      <td>0</td>\n",
       "      <td>0</td>\n",
       "    </tr>\n",
       "    <tr>\n",
       "      <th>2</th>\n",
       "      <td>3</td>\n",
       "      <td>4</td>\n",
       "      <td>515</td>\n",
       "      <td>0.0</td>\n",
       "      <td>1</td>\n",
       "      <td>0</td>\n",
       "      <td>1</td>\n",
       "      <td>0</td>\n",
       "      <td>1</td>\n",
       "      <td>0</td>\n",
       "      <td>...</td>\n",
       "      <td>0</td>\n",
       "      <td>0</td>\n",
       "      <td>0</td>\n",
       "      <td>0</td>\n",
       "      <td>0</td>\n",
       "      <td>0</td>\n",
       "      <td>1</td>\n",
       "      <td>0</td>\n",
       "      <td>0</td>\n",
       "      <td>0</td>\n",
       "    </tr>\n",
       "    <tr>\n",
       "      <th>3</th>\n",
       "      <td>3</td>\n",
       "      <td>4</td>\n",
       "      <td>515</td>\n",
       "      <td>0.0</td>\n",
       "      <td>1</td>\n",
       "      <td>0</td>\n",
       "      <td>1</td>\n",
       "      <td>0</td>\n",
       "      <td>1</td>\n",
       "      <td>0</td>\n",
       "      <td>...</td>\n",
       "      <td>0</td>\n",
       "      <td>0</td>\n",
       "      <td>0</td>\n",
       "      <td>0</td>\n",
       "      <td>0</td>\n",
       "      <td>0</td>\n",
       "      <td>0</td>\n",
       "      <td>0</td>\n",
       "      <td>0</td>\n",
       "      <td>1</td>\n",
       "    </tr>\n",
       "    <tr>\n",
       "      <th>4</th>\n",
       "      <td>3</td>\n",
       "      <td>4</td>\n",
       "      <td>515</td>\n",
       "      <td>1.0</td>\n",
       "      <td>1</td>\n",
       "      <td>0</td>\n",
       "      <td>1</td>\n",
       "      <td>0</td>\n",
       "      <td>1</td>\n",
       "      <td>0</td>\n",
       "      <td>...</td>\n",
       "      <td>0</td>\n",
       "      <td>0</td>\n",
       "      <td>0</td>\n",
       "      <td>0</td>\n",
       "      <td>0</td>\n",
       "      <td>0</td>\n",
       "      <td>0</td>\n",
       "      <td>0</td>\n",
       "      <td>0</td>\n",
       "      <td>0</td>\n",
       "    </tr>\n",
       "  </tbody>\n",
       "</table>\n",
       "<p>5 rows × 34 columns</p>\n",
       "</div>"
      ],
      "text/plain": [
       "   DayofMonth  DayOfWeek  Distance  Delivery_Status  Type_1  Type_2  \\\n",
       "0           3          4       810              0.0       1       0   \n",
       "1           3          4       810              1.0       1       0   \n",
       "2           3          4       515              0.0       1       0   \n",
       "3           3          4       515              0.0       1       0   \n",
       "4           3          4       515              1.0       1       0   \n",
       "\n",
       "   Acutal_planned_1  Acutal_planned_2  CarrierName_High  CarrierName_Low  ...  \\\n",
       "0                 1                 0                 1                0  ...   \n",
       "1                 1                 0                 1                0  ...   \n",
       "2                 1                 0                 1                0  ...   \n",
       "3                 1                 0                 1                0  ...   \n",
       "4                 1                 0                 1                0  ...   \n",
       "\n",
       "   Hour_21  Hour_22  Hour_23  Hour_3  Hour_4  Hour_5  Hour_6  Hour_7  Hour_8  \\\n",
       "0        0        0        0       0       0       0       0       0       0   \n",
       "1        0        0        0       0       0       0       0       1       0   \n",
       "2        0        0        0       0       0       0       1       0       0   \n",
       "3        0        0        0       0       0       0       0       0       0   \n",
       "4        0        0        0       0       0       0       0       0       0   \n",
       "\n",
       "   Hour_9  \n",
       "0       0  \n",
       "1       0  \n",
       "2       0  \n",
       "3       1  \n",
       "4       0  \n",
       "\n",
       "[5 rows x 34 columns]"
      ]
     },
     "execution_count": 234,
     "metadata": {},
     "output_type": "execute_result"
    }
   ],
   "source": [
    "#Dropping variables:\n",
    "cols = ['Year', 'Month','Actual_Shipment_Time','Planned_Shipment_Time','Planned_Delivery_Time',\n",
    "                'Carrier_Name','Carrier_Num','Planned_TimeofTravel','Shipment_Delay','Source','Destination',\n",
    "               'Type_0','Acutal_planned_0', 'hr', 'hr_len', 'Hour_0']\n",
    "df_final = df_dummy.drop(cols, axis=1)\n",
    "df_final.head()"
   ]
  },
  {
   "cell_type": "code",
   "execution_count": 237,
   "metadata": {},
   "outputs": [],
   "source": [
    "#Applying unsupervised techniques\n",
    "#Using unsupervised learning for feature selection\n",
    "cs = []\n",
    "for i in range(1, 4):\n",
    "    kmeans = KMeans(n_clusters = i, init = 'k-means++', random_state = 42)\n",
    "    kmeans.fit(df_final)\n",
    "    cs.append(kmeans.inertia_)"
   ]
  },
  {
   "cell_type": "code",
   "execution_count": 238,
   "metadata": {},
   "outputs": [
    {
     "name": "stderr",
     "output_type": "stream",
     "text": [
      "C:\\Users\\ysrivastava\\Anaconda3\\lib\\site-packages\\seaborn\\_decorators.py:43: FutureWarning: Pass the following variables as keyword args: x, y. From version 0.12, the only valid positional argument will be `data`, and passing other arguments without an explicit keyword will result in an error or misinterpretation.\n",
      "  FutureWarning\n"
     ]
    },
    {
     "data": {
      "image/png": "[encoded data removed]",
      "text/plain": [
       "<Figure size 720x360 with 1 Axes>"
      ]
     },
     "metadata": {
      "needs_background": "light"
     },
     "output_type": "display_data"
    }
   ],
   "source": [
    "plt.figure(figsize=(10,5))\n",
    "sns.lineplot(range(1, 4), cs,marker='o',color='blue')\n",
    "plt.title('Elbow curve')\n",
    "plt.xlabel('No.of clusters')\n",
    "plt.ylabel('cs')\n",
    "plt.show()"
   ]
  },
  {
   "cell_type": "code",
   "execution_count": 239,
   "metadata": {},
   "outputs": [],
   "source": [
    "kmeans = KMeans(n_clusters = 2, init = 'k-means++', random_state = 42)\n",
    "y_kmeans = kmeans.fit_predict(df_final)"
   ]
  },
  {
   "cell_type": "code",
   "execution_count": 240,
   "metadata": {},
   "outputs": [
    {
     "data": {
      "text/html": [
       "<div>\n",
       "<style scoped>\n",
       "    .dataframe tbody tr th:only-of-type {\n",
       "        vertical-align: middle;\n",
       "    }\n",
       "\n",
       "    .dataframe tbody tr th {\n",
       "        vertical-align: top;\n",
       "    }\n",
       "\n",
       "    .dataframe thead th {\n",
       "        text-align: right;\n",
       "    }\n",
       "</style>\n",
       "<table border=\"1\" class=\"dataframe\">\n",
       "  <thead>\n",
       "    <tr style=\"text-align: right;\">\n",
       "      <th></th>\n",
       "      <th>DayofMonth</th>\n",
       "      <th>DayOfWeek</th>\n",
       "      <th>Distance</th>\n",
       "      <th>Delivery_Status</th>\n",
       "      <th>Type_1</th>\n",
       "      <th>Type_2</th>\n",
       "      <th>Acutal_planned_1</th>\n",
       "      <th>Acutal_planned_2</th>\n",
       "      <th>CarrierName_High</th>\n",
       "      <th>CarrierName_Low</th>\n",
       "      <th>...</th>\n",
       "      <th>Hour_22</th>\n",
       "      <th>Hour_23</th>\n",
       "      <th>Hour_3</th>\n",
       "      <th>Hour_4</th>\n",
       "      <th>Hour_5</th>\n",
       "      <th>Hour_6</th>\n",
       "      <th>Hour_7</th>\n",
       "      <th>Hour_8</th>\n",
       "      <th>Hour_9</th>\n",
       "      <th>Cluster</th>\n",
       "    </tr>\n",
       "  </thead>\n",
       "  <tbody>\n",
       "    <tr>\n",
       "      <th>0</th>\n",
       "      <td>3</td>\n",
       "      <td>4</td>\n",
       "      <td>810</td>\n",
       "      <td>0.0</td>\n",
       "      <td>1</td>\n",
       "      <td>0</td>\n",
       "      <td>1</td>\n",
       "      <td>0</td>\n",
       "      <td>1</td>\n",
       "      <td>0</td>\n",
       "      <td>...</td>\n",
       "      <td>0</td>\n",
       "      <td>0</td>\n",
       "      <td>0</td>\n",
       "      <td>0</td>\n",
       "      <td>0</td>\n",
       "      <td>0</td>\n",
       "      <td>0</td>\n",
       "      <td>0</td>\n",
       "      <td>0</td>\n",
       "      <td>0</td>\n",
       "    </tr>\n",
       "    <tr>\n",
       "      <th>1</th>\n",
       "      <td>3</td>\n",
       "      <td>4</td>\n",
       "      <td>810</td>\n",
       "      <td>1.0</td>\n",
       "      <td>1</td>\n",
       "      <td>0</td>\n",
       "      <td>1</td>\n",
       "      <td>0</td>\n",
       "      <td>1</td>\n",
       "      <td>0</td>\n",
       "      <td>...</td>\n",
       "      <td>0</td>\n",
       "      <td>0</td>\n",
       "      <td>0</td>\n",
       "      <td>0</td>\n",
       "      <td>0</td>\n",
       "      <td>0</td>\n",
       "      <td>1</td>\n",
       "      <td>0</td>\n",
       "      <td>0</td>\n",
       "      <td>0</td>\n",
       "    </tr>\n",
       "    <tr>\n",
       "      <th>2</th>\n",
       "      <td>3</td>\n",
       "      <td>4</td>\n",
       "      <td>515</td>\n",
       "      <td>0.0</td>\n",
       "      <td>1</td>\n",
       "      <td>0</td>\n",
       "      <td>1</td>\n",
       "      <td>0</td>\n",
       "      <td>1</td>\n",
       "      <td>0</td>\n",
       "      <td>...</td>\n",
       "      <td>0</td>\n",
       "      <td>0</td>\n",
       "      <td>0</td>\n",
       "      <td>0</td>\n",
       "      <td>0</td>\n",
       "      <td>1</td>\n",
       "      <td>0</td>\n",
       "      <td>0</td>\n",
       "      <td>0</td>\n",
       "      <td>0</td>\n",
       "    </tr>\n",
       "    <tr>\n",
       "      <th>3</th>\n",
       "      <td>3</td>\n",
       "      <td>4</td>\n",
       "      <td>515</td>\n",
       "      <td>0.0</td>\n",
       "      <td>1</td>\n",
       "      <td>0</td>\n",
       "      <td>1</td>\n",
       "      <td>0</td>\n",
       "      <td>1</td>\n",
       "      <td>0</td>\n",
       "      <td>...</td>\n",
       "      <td>0</td>\n",
       "      <td>0</td>\n",
       "      <td>0</td>\n",
       "      <td>0</td>\n",
       "      <td>0</td>\n",
       "      <td>0</td>\n",
       "      <td>0</td>\n",
       "      <td>0</td>\n",
       "      <td>1</td>\n",
       "      <td>0</td>\n",
       "    </tr>\n",
       "    <tr>\n",
       "      <th>4</th>\n",
       "      <td>3</td>\n",
       "      <td>4</td>\n",
       "      <td>515</td>\n",
       "      <td>1.0</td>\n",
       "      <td>1</td>\n",
       "      <td>0</td>\n",
       "      <td>1</td>\n",
       "      <td>0</td>\n",
       "      <td>1</td>\n",
       "      <td>0</td>\n",
       "      <td>...</td>\n",
       "      <td>0</td>\n",
       "      <td>0</td>\n",
       "      <td>0</td>\n",
       "      <td>0</td>\n",
       "      <td>0</td>\n",
       "      <td>0</td>\n",
       "      <td>0</td>\n",
       "      <td>0</td>\n",
       "      <td>0</td>\n",
       "      <td>0</td>\n",
       "    </tr>\n",
       "  </tbody>\n",
       "</table>\n",
       "<p>5 rows × 35 columns</p>\n",
       "</div>"
      ],
      "text/plain": [
       "   DayofMonth  DayOfWeek  Distance  Delivery_Status  Type_1  Type_2  \\\n",
       "0           3          4       810              0.0       1       0   \n",
       "1           3          4       810              1.0       1       0   \n",
       "2           3          4       515              0.0       1       0   \n",
       "3           3          4       515              0.0       1       0   \n",
       "4           3          4       515              1.0       1       0   \n",
       "\n",
       "   Acutal_planned_1  Acutal_planned_2  CarrierName_High  CarrierName_Low  ...  \\\n",
       "0                 1                 0                 1                0  ...   \n",
       "1                 1                 0                 1                0  ...   \n",
       "2                 1                 0                 1                0  ...   \n",
       "3                 1                 0                 1                0  ...   \n",
       "4                 1                 0                 1                0  ...   \n",
       "\n",
       "   Hour_22  Hour_23  Hour_3  Hour_4  Hour_5  Hour_6  Hour_7  Hour_8  Hour_9  \\\n",
       "0        0        0       0       0       0       0       0       0       0   \n",
       "1        0        0       0       0       0       0       1       0       0   \n",
       "2        0        0       0       0       0       1       0       0       0   \n",
       "3        0        0       0       0       0       0       0       0       1   \n",
       "4        0        0       0       0       0       0       0       0       0   \n",
       "\n",
       "   Cluster  \n",
       "0        0  \n",
       "1        0  \n",
       "2        0  \n",
       "3        0  \n",
       "4        0  \n",
       "\n",
       "[5 rows x 35 columns]"
      ]
     },
     "execution_count": 240,
     "metadata": {},
     "output_type": "execute_result"
    }
   ],
   "source": [
    "df_final['Cluster'] = y_kmeans\n",
    "df_final.head()"
   ]
  },
  {
   "cell_type": "code",
   "execution_count": 241,
   "metadata": {},
   "outputs": [],
   "source": [
    "x = df_final.drop(\"Delivery_Status\", axis=\"columns\") # Features\n",
    "y = df_final['Delivery_Status'] # Target variable\n",
    "x_train, x_test, y_train, y_test = train_test_split(x, y, test_size=0.33) # 70% training and 30% test"
   ]
  },
  {
   "cell_type": "code",
   "execution_count": 242,
   "metadata": {},
   "outputs": [
    {
     "name": "stdout",
     "output_type": "stream",
     "text": [
      "Accuracy: 0.764939138754005\n",
      "Recall: 0.3644799663476706\n",
      "F1: 0.38810589755591735\n",
      "AUC score is 0.616\n",
      "              precision    recall  f1-score   support\n",
      "\n",
      "         0.0       0.84      0.87      0.85    924591\n",
      "         1.0       0.42      0.36      0.39    237725\n",
      "\n",
      "    accuracy                           0.76   1162316\n",
      "   macro avg       0.63      0.62      0.62   1162316\n",
      "weighted avg       0.75      0.76      0.76   1162316\n",
      "\n"
     ]
    },
    {
     "data": {
      "image/png": "[encoded data removed]",
      "text/plain": [
       "<Figure size 432x288 with 2 Axes>"
      ]
     },
     "metadata": {
      "needs_background": "light"
     },
     "output_type": "display_data"
    }
   ],
   "source": [
    "#Iteration1\n",
    "#Running the classifier at default parameters - full grown tree\n",
    "model = DecisionTreeClassifier()\n",
    "#Fitting the model\n",
    "model = model.fit(x_train,y_train)\n",
    "#Predicting on test data\n",
    "y_pred = model.predict(x_test)\n",
    "print(\"Accuracy:\",metrics.accuracy_score(y_test, y_pred))\n",
    "print(\"Recall:\",metrics.recall_score(y_test, y_pred))\n",
    "print(\"F1:\",metrics.f1_score(y_test, y_pred))\n",
    "plot_confusion_matrix(model, x_test, y_test, display_labels=[0,1])\n",
    "print('AUC score is',round(roc_auc_score(y_test, y_pred),3))\n",
    "print(classification_report(y_test, y_pred))"
   ]
  },
  {
   "cell_type": "code",
   "execution_count": 243,
   "metadata": {},
   "outputs": [],
   "source": [
    "#Improving model performance using Regularization technique -  GridSearch method.\n",
    "A = {\"max_depth\": range(15,25),\"splitter\":['best'],\"criterion\" : ['gini'],\"min_samples_split\":np.arange(1,10,5),\"min_samples_leaf\":np.arange(1,10,5)}\n",
    "tree = DecisionTreeClassifier()\n",
    "grid = GridSearchCV(tree,\n",
    "                    param_grid = A,\n",
    "                    cv=5,\n",
    "                    verbose = 1,\n",
    "                    n_jobs = -1)"
   ]
  },
  {
   "cell_type": "code",
   "execution_count": 244,
   "metadata": {},
   "outputs": [
    {
     "name": "stdout",
     "output_type": "stream",
     "text": [
      "Fitting 5 folds for each of 40 candidates, totalling 200 fits\n"
     ]
    },
    {
     "name": "stderr",
     "output_type": "stream",
     "text": [
      "C:\\Users\\ysrivastava\\Anaconda3\\lib\\site-packages\\sklearn\\model_selection\\_search.py:925: UserWarning: One or more of the test scores are non-finite: [       nan 0.82766709        nan 0.82811372        nan 0.82730774\n",
      "        nan 0.82797134        nan 0.82668652        nan 0.82770649\n",
      "        nan 0.82597842        nan 0.82746623        nan 0.82494022\n",
      "        nan 0.82701196        nan 0.82349309        nan 0.82635683\n",
      "        nan 0.82206673        nan 0.82581188        nan 0.82026916\n",
      "        nan 0.82509913        nan 0.81822581        nan 0.82415839\n",
      "        nan 0.815871          nan 0.82305408]\n",
      "  category=UserWarning\n"
     ]
    },
    {
     "data": {
      "text/plain": [
       "GridSearchCV(cv=5, estimator=DecisionTreeClassifier(), n_jobs=-1,\n",
       "             param_grid={'criterion': ['gini'], 'max_depth': range(15, 25),\n",
       "                         'min_samples_leaf': array([1, 6]),\n",
       "                         'min_samples_split': array([1, 6]),\n",
       "                         'splitter': ['best']},\n",
       "             verbose=1)"
      ]
     },
     "execution_count": 244,
     "metadata": {},
     "output_type": "execute_result"
    }
   ],
   "source": [
    "grid.fit(x_train,y_train)"
   ]
  },
  {
   "cell_type": "code",
   "execution_count": 245,
   "metadata": {},
   "outputs": [
    {
     "name": "stdout",
     "output_type": "stream",
     "text": [
      "{'criterion': 'gini', 'max_depth': 15, 'min_samples_leaf': 6, 'min_samples_split': 6, 'splitter': 'best'}\n",
      "0.8281137241046481\n"
     ]
    }
   ],
   "source": [
    "print(grid.best_params_); print(grid.best_score_)"
   ]
  },
  {
   "cell_type": "code",
   "execution_count": 246,
   "metadata": {},
   "outputs": [
    {
     "name": "stdout",
     "output_type": "stream",
     "text": [
      "Accuracy: 0.8274815110520719\n",
      "Recall: 0.16911978125985908\n",
      "F1: 0.2862217855757148\n",
      "AUC score is 0.583\n",
      "              precision    recall  f1-score   support\n",
      "\n",
      "         0.0       0.82      1.00      0.90    924591\n",
      "         1.0       0.93      0.17      0.29    237725\n",
      "\n",
      "    accuracy                           0.83   1162316\n",
      "   macro avg       0.88      0.58      0.59   1162316\n",
      "weighted avg       0.85      0.83      0.78   1162316\n",
      "\n"
     ]
    },
    {
     "data": {
      "image/png": "[encoded data removed]",
      "text/plain": [
       "<Figure size 432x288 with 2 Axes>"
      ]
     },
     "metadata": {
      "needs_background": "light"
     },
     "output_type": "display_data"
    }
   ],
   "source": [
    "#Utilizing the above hyperparameters\n",
    "#Iteration2\n",
    "model = DecisionTreeClassifier(criterion ='gini', max_depth=15,min_samples_leaf=6, min_samples_split=6, splitter= 'best')\n",
    "model = model.fit(x_train,y_train)\n",
    "y_pred = model.predict(x_test)\n",
    "print(\"Accuracy:\",metrics.accuracy_score(y_test, y_pred))\n",
    "print(\"Recall:\",metrics.recall_score(y_test, y_pred))\n",
    "print(\"F1:\",metrics.f1_score(y_test, y_pred))\n",
    "plot_confusion_matrix(model, x_test, y_test, display_labels=[0,1])\n",
    "print('AUC score is',round(roc_auc_score(y_test, y_pred),3))\n",
    "print(classification_report(y_test, y_pred))"
   ]
  },
  {
   "cell_type": "code",
   "execution_count": 247,
   "metadata": {},
   "outputs": [
    {
     "name": "stdout",
     "output_type": "stream",
     "text": [
      "718094\n",
      "Int64Index([      0,       2,       3,       7,       8,       9,      10,\n",
      "                 12,      13,      14,\n",
      "            ...\n",
      "            3604164, 3604165, 3604166, 3604167, 3604168, 3604169, 3604170,\n",
      "            3604171, 3604172, 3604173],\n",
      "           dtype='int64', length=2804073)\n",
      "718094\n",
      "Int64Index([      1,       4,       5,       6,      11,      16,      18,\n",
      "                 19,      21,      22,\n",
      "            ...\n",
      "            3604116, 3604125, 3604126, 3604128, 3604130, 3604140, 3604145,\n",
      "            3604160, 3604163, 3604174],\n",
      "           dtype='int64', length=718094)\n"
     ]
    },
    {
     "data": {
      "text/plain": [
       "<matplotlib.axes._subplots.AxesSubplot at 0x11ed859b488>"
      ]
     },
     "execution_count": 247,
     "metadata": {},
     "output_type": "execute_result"
    },
    {
     "data": {
      "image/png": "[encoded data removed]",
      "text/plain": [
       "<Figure size 432x288 with 1 Axes>"
      ]
     },
     "metadata": {
      "needs_background": "light"
     },
     "output_type": "display_data"
    }
   ],
   "source": [
    "#Treating class imbalance\n",
    "\n",
    "#Undersampling\n",
    "#Undersampling using indices\n",
    "minority = len(df_final[df_final['Delivery_Status']==1])\n",
    "print(minority)\n",
    "majority = df_final[df_final['Delivery_Status']==0].index\n",
    "print(majority)\n",
    "random_maj = np.random.choice(\n",
    "    majority,\n",
    "    minority,\n",
    "    replace=False\n",
    ")\n",
    "print(len(random_maj))\n",
    "minority_index = df_final[df_final['Delivery_Status']==1].index\n",
    "print(minority_index)\n",
    "under_sample_df = np.concatenate([minority_index, random_maj])\n",
    "underSample = df_final.loc[under_sample_df]\n",
    "sns.countplot(x=underSample['Delivery_Status'], data=underSample)"
   ]
  },
  {
   "cell_type": "code",
   "execution_count": 248,
   "metadata": {},
   "outputs": [],
   "source": [
    "x1 = underSample.drop(\"Delivery_Status\", axis=\"columns\") # Features\n",
    "y1 = underSample['Delivery_Status'] # Target variable\n",
    "x_train4, x_test4, y_train4, y_test4 = train_test_split(x1, y1, test_size=0.33) # 70% training and 30% test"
   ]
  },
  {
   "cell_type": "code",
   "execution_count": 250,
   "metadata": {},
   "outputs": [
    {
     "name": "stdout",
     "output_type": "stream",
     "text": [
      "Accuracy: 0.6480652736721505\n",
      "Recall: 0.6508210707708942\n",
      "F1: 0.6488328957701288\n"
     ]
    },
    {
     "data": {
      "text/plain": [
       "<sklearn.metrics._plot.confusion_matrix.ConfusionMatrixDisplay at 0x11ed84d0208>"
      ]
     },
     "execution_count": 250,
     "metadata": {},
     "output_type": "execute_result"
    },
    {
     "data": {
      "image/png": "[encoded data removed]",
      "text/plain": [
       "<Figure size 432x288 with 2 Axes>"
      ]
     },
     "metadata": {
      "needs_background": "light"
     },
     "output_type": "display_data"
    }
   ],
   "source": [
    "#Iteration3\n",
    "model8 = DecisionTreeClassifier(criterion ='gini', max_depth=15,min_samples_leaf=6, min_samples_split=6, splitter= 'best')\n",
    "model8 = model8.fit(x_train4,y_train4)\n",
    "y_pred8 = model8.predict(x_test4)\n",
    "print(\"Accuracy:\",metrics.accuracy_score(y_test4, y_pred8))\n",
    "print(\"Recall:\",metrics.recall_score(y_test4, y_pred8))\n",
    "print(\"F1:\",metrics.f1_score(y_test4, y_pred8))\n",
    "plot_confusion_matrix(model8, x_test4, y_test4, display_labels=[0,1])"
   ]
  },
  {
   "cell_type": "code",
   "execution_count": 251,
   "metadata": {},
   "outputs": [],
   "source": [
    "#Treating class imbalance\n",
    "\n",
    "#Oversampling\n",
    "from imblearn.over_sampling import RandomOverSampler\n",
    "os = RandomOverSampler(random_state=0)\n",
    "x_res2, y_res2 = os.fit_resample(x,y)\n",
    "x_train3, x_test3, y_train3, y_test3 = train_test_split(x_res2, y_res2, test_size=0.33) # 70% training and 30% test"
   ]
  },
  {
   "cell_type": "code",
   "execution_count": 252,
   "metadata": {},
   "outputs": [
    {
     "name": "stdout",
     "output_type": "stream",
     "text": [
      "Accuracy: 0.6540985546464047\n",
      "Recall: 0.6525677929551751\n",
      "F1: 0.6535164918433842\n"
     ]
    },
    {
     "data": {
      "text/plain": [
       "<sklearn.metrics._plot.confusion_matrix.ConfusionMatrixDisplay at 0x11ed8531f48>"
      ]
     },
     "execution_count": 252,
     "metadata": {},
     "output_type": "execute_result"
    },
    {
     "data": {
      "image/png": "[encoded data removed]",
      "text/plain": [
       "<Figure size 432x288 with 2 Axes>"
      ]
     },
     "metadata": {
      "needs_background": "light"
     },
     "output_type": "display_data"
    }
   ],
   "source": [
    "model7 = DecisionTreeClassifier(criterion ='gini', max_depth=15,min_samples_leaf=6, min_samples_split=6, splitter= 'best')\n",
    "model7 = model7.fit(x_train3,y_train3)\n",
    "y_pred7 = model7.predict(x_test3)\n",
    "print(\"Accuracy:\",metrics.accuracy_score(y_test3, y_pred7))\n",
    "print(\"Recall:\",metrics.recall_score(y_test3, y_pred7))\n",
    "print(\"F1:\",metrics.f1_score(y_test3, y_pred7))\n",
    "plot_confusion_matrix(model7, x_test3, y_test3, display_labels=[0,1])"
   ]
  }
 ],
 "metadata": {
  "kernelspec": {
   "display_name": "Python 3",
   "language": "python",
   "name": "python3"
  },
  "language_info": {
   "codemirror_mode": {
    "name": "ipython",
    "version": 3
   },
   "file_extension": ".py",
   "mimetype": "text/x-python",
   "name": "python",
   "nbconvert_exporter": "python",
   "pygments_lexer": "ipython3",
   "version": "3.7.6"
  }
 },
 "nbformat": 4,
 "nbformat_minor": 4
}
